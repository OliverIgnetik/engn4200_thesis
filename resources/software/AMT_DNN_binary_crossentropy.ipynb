{
 "cells": [
  {
   "cell_type": "code",
   "execution_count": 69,
   "metadata": {},
   "outputs": [],
   "source": [
    "# basic imports\n",
    "import pandas as pd, matplotlib.pyplot as plt, numpy as np \n",
    "import IPython.display as ipd"
   ]
  },
  {
   "cell_type": "code",
   "execution_count": 70,
   "metadata": {},
   "outputs": [],
   "source": [
    "# librosa - for CQT and visualisation\n",
    "import librosa, librosa.display"
   ]
  },
  {
   "cell_type": "code",
   "execution_count": 71,
   "metadata": {},
   "outputs": [],
   "source": [
    "# Interval for label storage\n",
    "from intervaltree import Interval,IntervalTree"
   ]
  },
  {
   "cell_type": "markdown",
   "metadata": {},
   "source": [
    "# Neural Network"
   ]
  },
  {
   "cell_type": "markdown",
   "metadata": {},
   "source": [
    "## Import data"
   ]
  },
  {
   "cell_type": "code",
   "execution_count": 72,
   "metadata": {},
   "outputs": [
    {
     "data": {
      "text/plain": [
       "h5py._hl.files.File"
      ]
     },
     "execution_count": 72,
     "metadata": {},
     "output_type": "execute_result"
    }
   ],
   "source": [
    "# import h5py to read in hdf5 files \n",
    "import h5py\n",
    "\n",
    "filename ='musicnet.h5'\n",
    "music_net = h5py.File(filename,'r')\n",
    "type(music_net)"
   ]
  },
  {
   "cell_type": "code",
   "execution_count": 73,
   "metadata": {},
   "outputs": [
    {
     "data": {
      "text/plain": [
       "['id_1727', 'id_1728', 'id_1729', 'id_1730', 'id_1733']"
      ]
     },
     "execution_count": 73,
     "metadata": {},
     "output_type": "execute_result"
    }
   ],
   "source": [
    "# extract 5 songs from the database\n",
    "n = 5\n",
    "source_list = list(music_net.keys())[:n]\n",
    "source_list"
   ]
  },
  {
   "cell_type": "markdown",
   "metadata": {},
   "source": [
    "## Preprocessing"
   ]
  },
  {
   "cell_type": "code",
   "execution_count": 6,
   "metadata": {},
   "outputs": [
    {
     "name": "stdout",
     "output_type": "stream",
     "text": [
      "initializing cqt transforms\n",
      "------------------------------------------------------------\n",
      "extracting data from id_1727\n",
      "extracting data from id_1728\n",
      "extracting data from id_1729\n",
      "extracting data from id_1730\n",
      "extracting data from id_1733\n",
      "------------------------------------------------------------\n",
      "CQT transformation on each song complete\n",
      "------------------------------------------------------------\n",
      "CQT dimensions: [(13971, 252), (7849, 252), (13891, 252), (11517, 252), (17063, 252)]\n"
     ]
    }
   ],
   "source": [
    "# init lists for storing results\n",
    "cqt_container = [] # array to store the cqt for each song\n",
    "cqt_shapes = [] # array to store the shapes of each cqt\n",
    "\n",
    "print('initializing cqt transforms')\n",
    "print('-'*60)\n",
    "for id_ in source_list:\n",
    "    print('extracting data from',id_)\n",
    "    # extract the mono audio data and labels\n",
    "    song = music_net[id_]\n",
    "    music = song['data'][()]\n",
    "\n",
    "    # downsampling\n",
    "    sr = 44100\n",
    "    sr_16k = 16000\n",
    "\n",
    "    # resample to 16kHz to increase the the number of cqt points\n",
    "    music = librosa.resample(music,sr,sr_16k)\n",
    "\n",
    "    # CQT parameters\n",
    "    sr_16k = sr_16k # downsampling to 16kHz\n",
    "    hop_length = 512 # 32ms frames  \n",
    "    bins_per_octave = 36 # corresponds to 7 octaves on the piano \n",
    "    # 7 x 36 = 252 number of bins \n",
    "    n_bins = 252 # frequency resolution \n",
    "    window = 'hann' # hanning window for smoothness\n",
    "\n",
    "    # CQT absolute magnitude \n",
    "    C = np.abs(librosa.cqt(music,\n",
    "                           sr = sr_16k , \n",
    "                           hop_length = hop_length,\n",
    "                           bins_per_octave = bins_per_octave,\n",
    "                           window = window,\n",
    "                           n_bins = n_bins))\n",
    "    # transpose to get the array in the correct format\n",
    "    C = np.transpose(C)\n",
    "    \n",
    "    # append the length of this cqt to the length array \n",
    "    cqt_shapes.append(C.shape)\n",
    "    \n",
    "    # append to container\n",
    "    cqt_container.append(C)\n",
    "\n",
    "print('-'*60)\n",
    "print('CQT transformation on each song complete')\n",
    "print('-'*60)\n",
    "print('CQT dimensions:', cqt_shapes)"
   ]
  },
  {
   "cell_type": "code",
   "execution_count": 7,
   "metadata": {},
   "outputs": [
    {
     "name": "stdout",
     "output_type": "stream",
     "text": [
      "constructing label vectors\n",
      "------------------------------------------------------------\n",
      "labels preprocessed\n",
      "------------------------------------------------------------\n",
      "labels dimensions: [(13971, 88), (7849, 88), (13891, 88), (11517, 88), (17063, 88)]\n"
     ]
    }
   ],
   "source": [
    "# extract and format labels \n",
    "labels_container = [] # array to store the labels of each song\n",
    "labels_shapes = [] # array for storing label dimensions\n",
    "\n",
    "# set up params for labels \n",
    "number_of_notes = 88 ## 88 piano notes \n",
    "hop_length = 512 # 32ms frames  \n",
    "# counter to loop through cqt container \n",
    "i = 0 \n",
    "\n",
    "print('constructing label vectors')\n",
    "print('-'*60)\n",
    "\n",
    "for id_ in source_list:\n",
    "    # retrieve the song for this id \n",
    "    song = music_net[id_]\n",
    "    raw_labels = song['labels'][()]\n",
    "    \n",
    "    # number of frames in this song\n",
    "    number_frames = cqt_container[i].shape[0]\n",
    "    i += 1  \n",
    "    \n",
    "    # binary labels - one hot encoding\n",
    "    binary_labels = np.zeros((number_frames, number_of_notes))\n",
    "\n",
    "    # init tree for slicing\n",
    "    labels_tree = IntervalTree()\n",
    "    # construct interval tree \n",
    "    for label in raw_labels: \n",
    "        pitch = label['note_id']\n",
    "        start_time = label['start_time']\n",
    "        end_time = label['end_time']\n",
    "        labels_tree.addi(start_time,end_time,pitch)\n",
    "\n",
    "    # resample the labels by finding the number of frames per second\n",
    "    for frame in range(binary_labels.shape[0]):\n",
    "        # slice the interval tree for notes in this frame \n",
    "        labels = labels_tree.at(frame*hop_length)\n",
    "        for label in labels:\n",
    "            # the labels vector is from 0 to 87 \n",
    "            # 21 is the A0 on the piano\n",
    "            pitch = label[2]-21 \n",
    "            # if this pitch is active in this window \n",
    "            binary_labels[frame,pitch] = 1\n",
    "    \n",
    "    # append the binary_labels\n",
    "    labels_container.append(binary_labels)\n",
    "    # store label shapes \n",
    "    labels_shapes.append(binary_labels.shape)\n",
    "\n",
    "print('labels preprocessed')\n",
    "print('-'*60)\n",
    "print('labels dimensions:', labels_shapes)"
   ]
  },
  {
   "cell_type": "code",
   "execution_count": 75,
   "metadata": {},
   "outputs": [
    {
     "data": {
      "text/plain": [
       "(64291, 252)"
      ]
     },
     "execution_count": 75,
     "metadata": {},
     "output_type": "execute_result"
    }
   ],
   "source": [
    "# stack the containers vertically\n",
    "X = np.vstack(cqt_container)\n",
    "y = np.vstack(labels_container)\n",
    "X.shape"
   ]
  },
  {
   "cell_type": "code",
   "execution_count": 76,
   "metadata": {},
   "outputs": [],
   "source": [
    "# # save to txt files \n",
    "# np.save('preprocessed_cqt', X)\n",
    "# np.save('preprocessed_labels', y)"
   ]
  },
  {
   "cell_type": "code",
   "execution_count": 77,
   "metadata": {},
   "outputs": [],
   "source": [
    "# # load files\n",
    "# X = np.load('preprocessed_cqt.npy')\n",
    "# y = np.load('preprocessed_labels.npy')"
   ]
  },
  {
   "cell_type": "markdown",
   "metadata": {},
   "source": [
    "## train-test split and normalization "
   ]
  },
  {
   "cell_type": "code",
   "execution_count": 78,
   "metadata": {},
   "outputs": [],
   "source": [
    "# split into training and test \n",
    "from sklearn.model_selection import train_test_split\n",
    "\n",
    "# split into train, test and validation \n",
    "X_train_val, X_test, y_train_val, y_test = train_test_split(X, y, test_size = 0.2, random_state=42)\n",
    "# # need to set split = 0.25 to get 60-20-20 split \n",
    "X_train, X_val, y_train, y_val = train_test_split(X_train_val,y_train_val, test_size=0.25, random_state=42)"
   ]
  },
  {
   "cell_type": "code",
   "execution_count": 79,
   "metadata": {},
   "outputs": [],
   "source": [
    "# Normalization \n",
    "max_train = X_train.max()\n",
    "min_train = X_train.min()\n",
    "max_val = X_val.max()\n",
    "min_val = X_val.min()\n",
    "max_test = X_test.max()\n",
    "min_test = X_test.min()\n",
    "\n",
    "X_val_norm = (X_val - min_train)/(max_train - min_train)\n",
    "X_test_norm = (X_test - min_train)/(max_train - min_train)\n",
    "X_train_norm = (X_train - min_train)/(max_train - min_train)\n",
    "\n",
    "# Compute the mean\n",
    "train_mean = np.mean(X_train_norm, axis = 0)\n",
    "\n",
    "# Subtract it\n",
    "X_train_norm = X_train_norm - train_mean\n",
    "X_val_norm = X_val_norm - train_mean\n",
    "X_test_norm = X_test_norm - train_mean\n",
    "\n",
    "# reassign for easy interpretation \n",
    "X_train = X_train_norm\n",
    "X_val = X_val_norm\n",
    "X_test = X_test_norm"
   ]
  },
  {
   "cell_type": "markdown",
   "metadata": {},
   "source": [
    "## Define model "
   ]
  },
  {
   "cell_type": "code",
   "execution_count": 80,
   "metadata": {},
   "outputs": [
    {
     "name": "stdout",
     "output_type": "stream",
     "text": [
      "_________________________________________________________________\n",
      "Layer (type)                 Output Shape              Param #   \n",
      "=================================================================\n",
      "dense_11 (Dense)             (None, 252)               63756     \n",
      "_________________________________________________________________\n",
      "dense_12 (Dense)             (None, 256)               64768     \n",
      "_________________________________________________________________\n",
      "dense_13 (Dense)             (None, 256)               65792     \n",
      "_________________________________________________________________\n",
      "dense_14 (Dense)             (None, 256)               65792     \n",
      "_________________________________________________________________\n",
      "dense_15 (Dense)             (None, 88)                22616     \n",
      "=================================================================\n",
      "Total params: 282,724\n",
      "Trainable params: 282,724\n",
      "Non-trainable params: 0\n",
      "_________________________________________________________________\n"
     ]
    }
   ],
   "source": [
    "# import keras deep learning models  \n",
    "from keras.layers import Dense, Dropout\n",
    "from keras.models import Sequential \n",
    "\n",
    "# model parameters \n",
    "layers = 3\n",
    "hidden_nodes = 256\n",
    "num_col = 252\n",
    "output_nodes = 88\n",
    "\n",
    "# model type \n",
    "model = Sequential()\n",
    "\n",
    "# input layer\n",
    "model.add(Dense(num_col,kernel_initializer='normal', \\\n",
    "                activation='relu',input_shape=(num_col,)))\n",
    "\n",
    "# hidden layers \n",
    "for i in range(layers): \n",
    "    model.add(Dense(hidden_nodes,activation='relu', kernel_initializer='normal'))\n",
    "    \n",
    "# output layer\n",
    "model.add(Dense(output_nodes, activation='sigmoid',kernel_initializer='normal'))\n",
    "\n",
    "# compile model - with accuracy,f1 measure metrics\n",
    "model.compile(optimizer='adam',\n",
    "              loss='binary_crossentropy',\n",
    "              metrics=['acc'])\n",
    "\n",
    "model.summary()"
   ]
  },
  {
   "cell_type": "markdown",
   "metadata": {},
   "source": [
    "## Fit the model"
   ]
  },
  {
   "cell_type": "code",
   "execution_count": 81,
   "metadata": {},
   "outputs": [
    {
     "name": "stdout",
     "output_type": "stream",
     "text": [
      "Fitting model to training data\n",
      "------------------------------\n",
      "Train on 38574 samples, validate on 12858 samples\n",
      "Epoch 1/30\n",
      "38574/38574 [==============================] - 4s 116us/step - loss: 0.1694 - acc: 0.9555 - val_loss: 0.1401 - val_acc: 0.9567\n",
      "Epoch 2/30\n",
      "38574/38574 [==============================] - 4s 107us/step - loss: 0.1365 - acc: 0.9571 - val_loss: 0.1365 - val_acc: 0.9568\n",
      "Epoch 3/30\n",
      "38574/38574 [==============================] - 4s 99us/step - loss: 0.1336 - acc: 0.9572 - val_loss: 0.1330 - val_acc: 0.9569\n",
      "Epoch 4/30\n",
      "38574/38574 [==============================] - 4s 92us/step - loss: 0.1301 - acc: 0.9575 - val_loss: 0.1295 - val_acc: 0.9573\n",
      "Epoch 5/30\n",
      "38574/38574 [==============================] - 3s 87us/step - loss: 0.1271 - acc: 0.9578 - val_loss: 0.1273 - val_acc: 0.9575\n",
      "Epoch 6/30\n",
      "38574/38574 [==============================] - 5s 118us/step - loss: 0.1242 - acc: 0.9582 - val_loss: 0.1239 - val_acc: 0.9579\n",
      "Epoch 7/30\n",
      "38574/38574 [==============================] - 4s 92us/step - loss: 0.1207 - acc: 0.9587 - val_loss: 0.1206 - val_acc: 0.9584\n",
      "Epoch 8/30\n",
      "38574/38574 [==============================] - 4s 104us/step - loss: 0.1175 - acc: 0.9592 - val_loss: 0.1180 - val_acc: 0.9590\n",
      "Epoch 9/30\n",
      "38574/38574 [==============================] - 4s 97us/step - loss: 0.1145 - acc: 0.9597 - val_loss: 0.1149 - val_acc: 0.9597\n",
      "Epoch 10/30\n",
      "38574/38574 [==============================] - 4s 95us/step - loss: 0.1119 - acc: 0.9603 - val_loss: 0.1143 - val_acc: 0.9598\n",
      "Epoch 11/30\n",
      "38574/38574 [==============================] - 3s 84us/step - loss: 0.1090 - acc: 0.9609 - val_loss: 0.1117 - val_acc: 0.9602\n",
      "Epoch 12/30\n",
      "38574/38574 [==============================] - 3s 90us/step - loss: 0.1064 - acc: 0.9615 - val_loss: 0.1082 - val_acc: 0.9608\n",
      "Epoch 13/30\n",
      "38574/38574 [==============================] - 4s 99us/step - loss: 0.1038 - acc: 0.9622 - val_loss: 0.1078 - val_acc: 0.9613\n",
      "Epoch 14/30\n",
      "38574/38574 [==============================] - 4s 101us/step - loss: 0.1012 - acc: 0.9629 - val_loss: 0.1049 - val_acc: 0.9620\n",
      "Epoch 15/30\n",
      "38574/38574 [==============================] - 4s 113us/step - loss: 0.0988 - acc: 0.9636 - val_loss: 0.1037 - val_acc: 0.9623\n",
      "Epoch 16/30\n",
      "38574/38574 [==============================] - 4s 98us/step - loss: 0.0965 - acc: 0.9642 - val_loss: 0.1026 - val_acc: 0.9625\n",
      "Epoch 17/30\n",
      "38574/38574 [==============================] - 4s 110us/step - loss: 0.0940 - acc: 0.9650 - val_loss: 0.0993 - val_acc: 0.9636\n",
      "Epoch 18/30\n",
      "38574/38574 [==============================] - 4s 105us/step - loss: 0.0920 - acc: 0.9655 - val_loss: 0.0977 - val_acc: 0.9640\n",
      "Epoch 19/30\n",
      "38574/38574 [==============================] - 4s 104us/step - loss: 0.0898 - acc: 0.9662 - val_loss: 0.0965 - val_acc: 0.9644\n",
      "Epoch 20/30\n",
      "38574/38574 [==============================] - 3s 89us/step - loss: 0.0876 - acc: 0.9668 - val_loss: 0.0943 - val_acc: 0.9649\n",
      "Epoch 21/30\n",
      "38574/38574 [==============================] - 3s 87us/step - loss: 0.0856 - acc: 0.9675 - val_loss: 0.0934 - val_acc: 0.9652\n",
      "Epoch 22/30\n",
      "38574/38574 [==============================] - 3s 88us/step - loss: 0.0839 - acc: 0.9681 - val_loss: 0.0927 - val_acc: 0.9654\n",
      "Epoch 23/30\n",
      "38574/38574 [==============================] - 4s 93us/step - loss: 0.0818 - acc: 0.9688 - val_loss: 0.0908 - val_acc: 0.9658\n",
      "Epoch 24/30\n",
      "38574/38574 [==============================] - 3s 88us/step - loss: 0.0800 - acc: 0.9694 - val_loss: 0.0902 - val_acc: 0.9662\n",
      "Epoch 25/30\n",
      "38574/38574 [==============================] - 3s 88us/step - loss: 0.0787 - acc: 0.9697 - val_loss: 0.0893 - val_acc: 0.9668\n",
      "Epoch 26/30\n",
      "38574/38574 [==============================] - 3s 88us/step - loss: 0.0766 - acc: 0.9705 - val_loss: 0.0872 - val_acc: 0.9672\n",
      "Epoch 27/30\n",
      "38574/38574 [==============================] - 3s 88us/step - loss: 0.0752 - acc: 0.9711 - val_loss: 0.0868 - val_acc: 0.9675\n",
      "Epoch 28/30\n",
      "38574/38574 [==============================] - 4s 92us/step - loss: 0.0738 - acc: 0.9716 - val_loss: 0.0852 - val_acc: 0.9681\n",
      "Epoch 29/30\n",
      "38574/38574 [==============================] - 3s 88us/step - loss: 0.0719 - acc: 0.9723 - val_loss: 0.0842 - val_acc: 0.9680\n",
      "Epoch 30/30\n",
      "38574/38574 [==============================] - 3s 88us/step - loss: 0.0705 - acc: 0.9727 - val_loss: 0.0828 - val_acc: 0.9689\n"
     ]
    },
    {
     "data": {
      "text/plain": [
       "<keras.callbacks.History at 0x2769b918080>"
      ]
     },
     "execution_count": 81,
     "metadata": {},
     "output_type": "execute_result"
    }
   ],
   "source": [
    "# early stop \n",
    "from keras.callbacks import EarlyStopping\n",
    "# patience = 20 \n",
    "early_stopping_monitor = EarlyStopping(patience=10,mode='auto', verbose=1, min_delta=0, monitor='val_loss')\n",
    "# model params\n",
    "batch_size = 100\n",
    "epochs = 30\n",
    "\n",
    "# fit the model\n",
    "print('Fitting model to training data')\n",
    "print('------------------------------')\n",
    "model.fit(X_train,y_train,validation_data = (X_val, y_val),\n",
    "                    epochs = epochs, batch_size=batch_size,\n",
    "                    callbacks=[early_stopping_monitor], verbose = 1)"
   ]
  },
  {
   "cell_type": "code",
   "execution_count": 82,
   "metadata": {},
   "outputs": [
    {
     "name": "stdout",
     "output_type": "stream",
     "text": [
      "model saved\n"
     ]
    }
   ],
   "source": [
    "# save the trained model \n",
    "model.save('AMT_DNN_binary_crossentropy.h5')\n",
    "print('model saved')"
   ]
  },
  {
   "cell_type": "markdown",
   "metadata": {},
   "source": [
    "### Predict with the model "
   ]
  },
  {
   "cell_type": "code",
   "execution_count": 83,
   "metadata": {},
   "outputs": [],
   "source": [
    "# # load keras model \n",
    "# from keras.models import load_model \n",
    "# model = load_model('AMT_trained_DNN_trial_model.h5')"
   ]
  },
  {
   "cell_type": "code",
   "execution_count": 84,
   "metadata": {},
   "outputs": [
    {
     "name": "stdout",
     "output_type": "stream",
     "text": [
      "making predictions on test set\n",
      "------------------------------\n",
      "12859/12859 [==============================] - 0s 27us/step\n",
      "------------------------------\n",
      "predictions complete\n"
     ]
    }
   ],
   "source": [
    "# parameters for fit\n",
    "batch_size = 100 \n",
    "\n",
    "print('making predictions on test set')\n",
    "print('------------------------------')\n",
    "\n",
    "# predict on test set\n",
    "predictions = model.predict(X_test, batch_size = batch_size, verbose=1)\n",
    "\n",
    "# # clean up predictions - seems to reduce performance \n",
    "# predictions = np.array(predictions).round()\n",
    "# predictions[predictions > 1] = 1\n",
    "\n",
    "print('------------------------------')\n",
    "print('predictions complete')"
   ]
  },
  {
   "cell_type": "code",
   "execution_count": 85,
   "metadata": {},
   "outputs": [
    {
     "name": "stdout",
     "output_type": "stream",
     "text": [
      "model precision: 1.0\n",
      "model recall: 0.985781990521327\n",
      "F-measure: 99.28400954653938\n",
      "Accuracy: 98.5781990521327\n"
     ]
    }
   ],
   "source": [
    "# init true positives etc. \n",
    "TP = 0\n",
    "FN = 0\n",
    "FP = 0\n",
    "\n",
    "# calculating model accuracy \n",
    "TP = np.count_nonzero(np.logical_and( predictions == 1, y_test == 1 ))\n",
    "FN = np.count_nonzero(np.logical_and( predictions == 0, y_test == 1 ))\n",
    "FP = np.count_nonzero(np.logical_and( predictions == 1, y_test == 0 ))\n",
    "if (TP + FN) > 0:\n",
    "    R = TP/float(TP + FN)\n",
    "    P = TP/float(TP + FP)\n",
    "    A = 100*TP/float(TP + FP + FN)\n",
    "    if P == 0 and R == 0:\n",
    "        F = 0\n",
    "    else: \n",
    "        F = 100*2*P*R/(P + R)\n",
    "else: \n",
    "    A = 0\n",
    "    F = 0\n",
    "    R = 0\n",
    "    P = 0\n",
    "\n",
    "print('model precision:', P)\n",
    "print('model recall:', R)\n",
    "print('F-measure:', F)\n",
    "print('Accuracy:', A)"
   ]
  },
  {
   "cell_type": "code",
   "execution_count": 86,
   "metadata": {},
   "outputs": [
    {
     "data": {
      "text/plain": [
       "(208,)"
      ]
     },
     "execution_count": 86,
     "metadata": {},
     "output_type": "execute_result"
    }
   ],
   "source": [
    "# checking to ensure the model doesn't only predict zeros\n",
    "# clear indication of problems with the model\n",
    "predictions[predictions == 1].shape"
   ]
  },
  {
   "cell_type": "code",
   "execution_count": 87,
   "metadata": {},
   "outputs": [
    {
     "data": {
      "text/plain": [
       "(48606,)"
      ]
     },
     "execution_count": 87,
     "metadata": {},
     "output_type": "execute_result"
    }
   ],
   "source": [
    "# number of active notes\n",
    "y_test[y_test==1].shape"
   ]
  },
  {
   "cell_type": "code",
   "execution_count": 88,
   "metadata": {},
   "outputs": [
    {
     "data": {
      "text/plain": [
       "1131592"
      ]
     },
     "execution_count": 88,
     "metadata": {},
     "output_type": "execute_result"
    }
   ],
   "source": [
    "# total number of inactive/active notes \n",
    "y_test.shape[0]*y_test.shape[1]"
   ]
  },
  {
   "cell_type": "markdown",
   "metadata": {},
   "source": [
    "## model evaluation and graphics"
   ]
  },
  {
   "cell_type": "code",
   "execution_count": 89,
   "metadata": {},
   "outputs": [
    {
     "name": "stdout",
     "output_type": "stream",
     "text": [
      "12859/12859 [==============================] - 1s 53us/step\n"
     ]
    },
    {
     "data": {
      "text/plain": [
       "[0.08220364753359982, 0.9692619023588936]"
      ]
     },
     "execution_count": 89,
     "metadata": {},
     "output_type": "execute_result"
    }
   ],
   "source": [
    "# evaluate the model\n",
    "model.evaluate(X_test,y_test)"
   ]
  },
  {
   "cell_type": "code",
   "execution_count": 90,
   "metadata": {},
   "outputs": [
    {
     "data": {
      "image/png": "[encoded data removed]",
      "text/plain": [
       "<Figure size 432x288 with 1 Axes>"
      ]
     },
     "metadata": {
      "needs_background": "light"
     },
     "output_type": "display_data"
    },
    {
     "data": {
      "image/png": "[encoded data removed]",
      "text/plain": [
       "<Figure size 432x288 with 1 Axes>"
      ]
     },
     "metadata": {
      "needs_background": "light"
     },
     "output_type": "display_data"
    }
   ],
   "source": [
    "h = model.history\n",
    "# use the test set and validate \n",
    "plt.figure()\n",
    "\n",
    "# use the history metrics \n",
    "plt.plot(h.history['loss'])\n",
    "plt.plot(h.history['val_loss'])\n",
    "\n",
    "plt.title('model performance')\n",
    "plt.ylabel('loss')\n",
    "plt.xlabel('Epoch')\n",
    "plt.legend(['train','validation']);\n",
    "plt.show()\n",
    "\n",
    "# use the test set and validate \n",
    "plt.figure()\n",
    "\n",
    "# use the history metrics \n",
    "plt.plot(h.history['acc'])\n",
    "plt.plot(h.history['val_acc'])\n",
    "\n",
    "plt.title('model performance')\n",
    "plt.ylabel('accuracy')\n",
    "plt.xlabel('Epoch')\n",
    "plt.legend(['train','validation']);\n",
    "plt.show()"
   ]
  },
  {
   "cell_type": "markdown",
   "metadata": {},
   "source": [
    "## Post-processing"
   ]
  },
  {
   "cell_type": "code",
   "execution_count": 91,
   "metadata": {},
   "outputs": [],
   "source": [
    "# clean model in adjacent frames based on the threshold \n",
    "# a is indexing notes\n",
    "for a in range(predictions.shape[1]):\n",
    "# j is indexing the frames \n",
    "    for j in range(2,predictions.shape[0]-3):\n",
    "        # [1 0* 0 1]\n",
    "        if predictions[j-1,a] == 1 and predictions[j,a] == 0 and predictions[j+1,a] == 0 and predictions[j+2,a] == 1:\n",
    "            predictions[j,a] = 1\n",
    "            predictions[j+1,a] = 1\n",
    "        # [0 0 1* 1 0 0]\n",
    "        if predictions[j-2,a] == 0 and predictions[j-1,a] == 0 and predictions[j,a] == 1 and predictions[j+1,a] == 1 and predictions[j+2,a] == 0 and predictions[j+3,a] == 0:\n",
    "            predictions[j,a] = 0\n",
    "            predictions[j+1,a] = 0\n",
    "        # [0 1* 0 0]\n",
    "        if predictions[j-1,a] == 0 and predictions[j,a] == 1 and predictions[j+1,a] == 0 and predictions[j+2,a] == 0:\n",
    "            predictions[j,a] = 0\n",
    "        # [1 0* 1 1]\n",
    "        if predictions[j-1,a] == 1 and predictions[j,a] == 0 and predictions[j+1,a] == 1 and predictions[j+2,a] == 1:\n",
    "            predictions[j,a] = 1"
   ]
  },
  {
   "cell_type": "code",
   "execution_count": 92,
   "metadata": {},
   "outputs": [
    {
     "name": "stdout",
     "output_type": "stream",
     "text": [
      "model precision: 1.0\n",
      "model recall: 0.985781990521327\n",
      "F-measure: 99.28400954653938\n",
      "Accuracy: 98.5781990521327\n"
     ]
    }
   ],
   "source": [
    "# init true positives etc. \n",
    "TP = 0\n",
    "FN = 0\n",
    "FP = 0\n",
    "\n",
    "# calculating model accuracy \n",
    "TP = np.count_nonzero(np.logical_and( predictions == 1, y_test == 1 ))\n",
    "FN = np.count_nonzero(np.logical_and( predictions == 0, y_test == 1 ))\n",
    "FP = np.count_nonzero(np.logical_and( predictions == 1, y_test == 0 ))\n",
    "if (TP + FN) > 0:\n",
    "    R = TP/float(TP + FN)\n",
    "    P = TP/float(TP + FP)\n",
    "    A = 100*TP/float(TP + FP + FN)\n",
    "    if P == 0 and R == 0:\n",
    "        F = 0\n",
    "    else: \n",
    "        F = 100*2*P*R/(P + R)\n",
    "else: \n",
    "    A = 0\n",
    "    F = 0\n",
    "    R = 0\n",
    "    P = 0\n",
    "\n",
    "print('model precision:', P)\n",
    "print('model recall:', R)\n",
    "print('F-measure:', F)\n",
    "print('Accuracy:', A)"
   ]
  },
  {
   "cell_type": "code",
   "execution_count": 93,
   "metadata": {},
   "outputs": [
    {
     "data": {
      "text/plain": [
       "(208,)"
      ]
     },
     "execution_count": 93,
     "metadata": {},
     "output_type": "execute_result"
    }
   ],
   "source": [
    "# even after post processing we still are missing thousands of active notes\n",
    "predictions[predictions==1].shape"
   ]
  }
 ],
 "metadata": {
  "kernelspec": {
   "display_name": "Python 3",
   "language": "python",
   "name": "python3"
  },
  "language_info": {
   "codemirror_mode": {
    "name": "ipython",
    "version": 3
   },
   "file_extension": ".py",
   "mimetype": "text/x-python",
   "name": "python",
   "nbconvert_exporter": "python",
   "pygments_lexer": "ipython3",
   "version": "3.7.3"
  }
 },
 "nbformat": 4,
 "nbformat_minor": 4
}
