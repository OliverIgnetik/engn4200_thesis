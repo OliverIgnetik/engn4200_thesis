{
 "cells": [
  {
   "cell_type": "code",
   "execution_count": 1,
   "metadata": {},
   "outputs": [],
   "source": [
    "# basic imports\n",
    "import pandas as pd, matplotlib.pyplot as plt, numpy as np \n",
    "import IPython.display as ipd"
   ]
  },
  {
   "cell_type": "code",
   "execution_count": 2,
   "metadata": {},
   "outputs": [],
   "source": [
    "# librosa - for CQT and visualisation\n",
    "import librosa, librosa.display"
   ]
  },
  {
   "cell_type": "code",
   "execution_count": 3,
   "metadata": {},
   "outputs": [],
   "source": [
    "# Interval for label storage\n",
    "from intervaltree import Interval,IntervalTree"
   ]
  },
  {
   "cell_type": "markdown",
   "metadata": {},
   "source": [
    "# Neural Network Multilabel Classification"
   ]
  },
  {
   "cell_type": "markdown",
   "metadata": {},
   "source": [
    "## Outline"
   ]
  },
  {
   "cell_type": "markdown",
   "metadata": {},
   "source": [
    "We will make use of a neural network to help with automatic music transcription. We will train the model with a STFT array and the ground truth annotations for the music piece. Essentially for each frame in the audio signal we a CQT transform with 252 bins and a corresponding binary labels array of length 88.\n",
    "\n",
    "**TYPE OF PROBLEM** - This type of problem is known a multi-label classification problem."
   ]
  },
  {
   "cell_type": "markdown",
   "metadata": {},
   "source": [
    "**INPUT**\n",
    "- The input to the model is a Constant Q Transform (CQT) of the music data for each song. We are making use of a CQT because the frequency resolution in the lower ranges is better then a traditional STFT. The dimensions of the input array are determined by the number of frames and the number of bins/features of the CQT.\n",
    "\n",
    "**OUTPUT**\n",
    "- the output for each frame is a vector with 88 elements corresponding to the notes on a piano. A binary value of 1 corresponds to the note being active\n",
    "- we will train the model on ground truth annotations\n",
    "\n",
    "**GOAL** \n",
    "- to learn the weights by fitting the model to the data and optimizing the loss function "
   ]
  },
  {
   "cell_type": "markdown",
   "metadata": {},
   "source": [
    "**HYPER PARAMETERS TO TUNE** \n",
    "- number of layers \n",
    "- dropout rates\n",
    "- number of neurons in hidden layers\n",
    "\n",
    "We will make use of a dictionary data structure to iterate over different parameter values whilst keeping other parameters as set in the baseline model. "
   ]
  },
  {
   "cell_type": "markdown",
   "metadata": {},
   "source": [
    "## Import data"
   ]
  },
  {
   "cell_type": "code",
   "execution_count": 4,
   "metadata": {},
   "outputs": [
    {
     "data": {
      "text/plain": [
       "h5py._hl.files.File"
      ]
     },
     "execution_count": 4,
     "metadata": {},
     "output_type": "execute_result"
    }
   ],
   "source": [
    "# import h5py to read in hdf5 files \n",
    "import h5py\n",
    "\n",
    "filename ='musicnet.h5'\n",
    "music_net = h5py.File(filename,'r')\n",
    "type(music_net)"
   ]
  },
  {
   "cell_type": "code",
   "execution_count": 7,
   "metadata": {},
   "outputs": [
    {
     "data": {
      "text/plain": [
       "['id_1764', 'id_1765', 'id_1766']"
      ]
     },
     "execution_count": 7,
     "metadata": {},
     "output_type": "execute_result"
    }
   ],
   "source": [
    "# extract 3 songs from the database from the 21st index\n",
    "i = 20 # start index\n",
    "n = 3\n",
    "source_list = list(music_net.keys())[i:n+i]\n",
    "source_list"
   ]
  },
  {
   "cell_type": "code",
   "execution_count": 8,
   "metadata": {},
   "outputs": [
    {
     "data": {
      "image/png": "[encoded data removed]",
      "text/plain": [
       "<Figure size 432x288 with 1 Axes>"
      ]
     },
     "metadata": {
      "needs_background": "light"
     },
     "output_type": "display_data"
    }
   ],
   "source": [
    "# plot the audio data \n",
    "librosa.display.waveplot(music_net[source_list[0]]['data'][()],\n",
    "                         sr=44100,\n",
    "                         x_axis= 'time');\n",
    "plt.ylabel('normalized mono channel');\n",
    "plt.title('waveform for song');"
   ]
  },
  {
   "cell_type": "markdown",
   "metadata": {},
   "source": [
    "## Preprocessing"
   ]
  },
  {
   "cell_type": "code",
   "execution_count": 9,
   "metadata": {},
   "outputs": [
    {
     "name": "stdout",
     "output_type": "stream",
     "text": [
      "initializing cqt transforms\n",
      "------------------------------------------------------------\n",
      "extracting data from id_1764\n",
      "extracting data from id_1765\n",
      "extracting data from id_1766\n",
      "------------------------------------------------------------\n",
      "CQT transformation on each song complete\n",
      "------------------------------------------------------------\n",
      "CQT dimensions: [(13696, 252), (21144, 252), (13356, 252)]\n"
     ]
    }
   ],
   "source": [
    "# init lists for storing results\n",
    "cqt_container = [] # array to store the cqt for each song\n",
    "cqt_shapes = [] # array to store the shapes of each cqt\n",
    "\n",
    "print('initializing cqt transforms')\n",
    "print('-'*60)\n",
    "for id_ in source_list:\n",
    "    print('extracting data from',id_)\n",
    "    # extract the mono audio data and labels\n",
    "    song = music_net[id_]\n",
    "    music = song['data'][()]\n",
    "\n",
    "    # downsampling\n",
    "    sr = 44100\n",
    "    sr_16k = 16000\n",
    "\n",
    "    # resample to 16kHz to increase the the number of cqt points\n",
    "    music = librosa.resample(music,sr,sr_16k)\n",
    "\n",
    "    # CQT parameters\n",
    "    sr_16k = sr_16k # downsampling to 16kHz\n",
    "    hop_length = 512 # 32ms frames  \n",
    "    bins_per_octave = 36 # corresponds to 7 octaves on the piano \n",
    "    # 7 x 36 = 252 number of bins \n",
    "    n_bins = 252 # frequency resolution \n",
    "    window = 'hann' # hanning window for smoothness\n",
    "\n",
    "    # CQT absolute magnitude \n",
    "    C = np.abs(librosa.cqt(music,\n",
    "                           sr = sr_16k , \n",
    "                           hop_length = hop_length,\n",
    "                           bins_per_octave = bins_per_octave,\n",
    "                           window = window,\n",
    "                           n_bins = n_bins))\n",
    "    # transpose to get the array in the correct format\n",
    "    C = np.transpose(C)\n",
    "    \n",
    "    # append the length of this cqt to the length array \n",
    "    cqt_shapes.append(C.shape)\n",
    "    \n",
    "    # append to container\n",
    "    cqt_container.append(C)\n",
    "\n",
    "print('-'*60)\n",
    "print('CQT transformation on each song complete')\n",
    "print('-'*60)\n",
    "print('CQT dimensions:', cqt_shapes)"
   ]
  },
  {
   "cell_type": "code",
   "execution_count": 10,
   "metadata": {},
   "outputs": [
    {
     "name": "stdout",
     "output_type": "stream",
     "text": [
      "constructing label vectors\n",
      "------------------------------------------------------------\n",
      "labels preprocessed\n",
      "------------------------------------------------------------\n",
      "labels dimensions: [(13696, 88), (21144, 88), (13356, 88)]\n"
     ]
    }
   ],
   "source": [
    "# extract and format labels \n",
    "labels_container = [] # array to store the labels of each song\n",
    "labels_shapes = [] # array for storing label dimensions\n",
    "\n",
    "# set up params for labels \n",
    "number_of_notes = 88 ## 88 piano notes \n",
    "hop_length = 512 # 32ms frames  \n",
    "# counter to loop through cqt container \n",
    "i = 0 \n",
    "\n",
    "print('constructing label vectors')\n",
    "print('-'*60)\n",
    "\n",
    "for id_ in source_list:\n",
    "    # retrieve the song for this id \n",
    "    song = music_net[id_]\n",
    "    raw_labels = song['labels'][()]\n",
    "    \n",
    "    # number of frames in this song\n",
    "    number_frames = cqt_container[i].shape[0]\n",
    "    i += 1  \n",
    "    \n",
    "    # binary labels - one hot encoding\n",
    "    binary_labels = np.zeros((number_frames, number_of_notes))\n",
    "\n",
    "    # init tree for slicing\n",
    "    labels_tree = IntervalTree()\n",
    "    # construct interval tree \n",
    "    for label in raw_labels: \n",
    "        pitch = label['note_id']\n",
    "        start_time = label['start_time']\n",
    "        end_time = label['end_time']\n",
    "        labels_tree.addi(start_time,end_time,pitch)\n",
    "\n",
    "    # resample the labels by finding the number of frames per second\n",
    "    for frame in range(binary_labels.shape[0]):\n",
    "        # slice the interval tree for notes in this frame \n",
    "        labels = labels_tree.at(frame*hop_length)\n",
    "        for label in labels:\n",
    "            # the labels vector is from 0 to 87 \n",
    "            # 21 is the A0 on the piano\n",
    "            pitch = label[2]-21 \n",
    "            # if this pitch is active in this window \n",
    "            binary_labels[frame,pitch] = 1\n",
    "    \n",
    "    # append the binary_labels\n",
    "    labels_container.append(binary_labels)\n",
    "    # store label shapes \n",
    "    labels_shapes.append(binary_labels.shape)\n",
    "\n",
    "print('labels preprocessed')\n",
    "print('-'*60)\n",
    "print('labels dimensions:', labels_shapes)"
   ]
  },
  {
   "cell_type": "code",
   "execution_count": 11,
   "metadata": {},
   "outputs": [],
   "source": [
    "# stack the containers vertically\n",
    "X = np.vstack(cqt_container)\n",
    "y = np.vstack(labels_container)"
   ]
  },
  {
   "cell_type": "markdown",
   "metadata": {},
   "source": [
    "## train-test split and normalization"
   ]
  },
  {
   "cell_type": "code",
   "execution_count": 12,
   "metadata": {},
   "outputs": [],
   "source": [
    "# split into training and test \n",
    "from sklearn.model_selection import train_test_split\n",
    "\n",
    "# split into train, test and validation \n",
    "X_train_val, X_test, y_train_val, y_test = train_test_split(X, y, test_size = 0.2, random_state=42)\n",
    "# # need to set split = 0.25 to get 60-20-20 split \n",
    "X_train, X_val, y_train, y_val = train_test_split(X_train_val,y_train_val, test_size=0.25, random_state=42)"
   ]
  },
  {
   "cell_type": "code",
   "execution_count": 13,
   "metadata": {},
   "outputs": [],
   "source": [
    "# Normalization - to test sets having values \n",
    "# outside training test range\n",
    "max_train = X_train.max()\n",
    "min_train = X_train.min()\n",
    "max_val = X_val.max()\n",
    "min_val = X_val.min()\n",
    "max_test = X_test.max()\n",
    "min_test = X_test.min()\n",
    "\n",
    "# normalize\n",
    "X_val_norm = (X_val - min_train)/(max_train - min_train)\n",
    "X_test_norm = (X_test - min_train)/(max_train - min_train)\n",
    "X_train_norm = (X_train - min_train)/(max_train - min_train)\n",
    "\n",
    "# Compute the mean\n",
    "train_mean = np.mean(X_train_norm, axis = 0)\n",
    "\n",
    "# Substract it\n",
    "X_train_norm = X_train_norm - train_mean\n",
    "X_val_norm = X_val_norm - train_mean\n",
    "X_test_norm = X_test_norm - train_mean\n",
    "\n",
    "# reassign for easy interpretation \n",
    "X_train = X_train_norm\n",
    "X_val = X_val_norm\n",
    "X_test = X_test_norm"
   ]
  },
  {
   "cell_type": "markdown",
   "metadata": {},
   "source": [
    "## Multilabel architecture"
   ]
  },
  {
   "cell_type": "markdown",
   "metadata": {},
   "source": [
    "### Appropriate loss function for imbalanced multi-label classification"
   ]
  },
  {
   "cell_type": "code",
   "execution_count": 17,
   "metadata": {},
   "outputs": [],
   "source": [
    "# balanced loss function for multi-label problem\n",
    "    \n",
    "import tensorflow as tf\n",
    "import keras.backend.tensorflow_backend as tfb\n",
    "\n",
    "POS_WEIGHT = 10  # multiplier for positive targets, there are approximately 10-15 times as many inactive notes to active notes in the dataset per frame\n",
    "\n",
    "def weighted_binary_crossentropy(target, output):\n",
    "    \"\"\"\n",
    "    Weighted binary crossentropy between an output tensor \n",
    "    and a target tensor. POS_WEIGHT is used as a multiplier \n",
    "    for the positive targets.\n",
    "\n",
    "    Combination of the following functions:\n",
    "    * keras.losses.binary_crossentropy\n",
    "    * keras.backend.tensorflow_backend.binary_crossentropy\n",
    "    * tf.nn.weighted_cross_entropy_with_logits\n",
    "    \"\"\"\n",
    "    # transform back to logits\n",
    "    _epsilon = tfb._to_tensor(tfb.epsilon(), output.dtype.base_dtype)\n",
    "    output = tf.clip_by_value(output, _epsilon, 1 - _epsilon)\n",
    "    output = tf.math.log(output / (1 - output))\n",
    "    # compute weighted loss\n",
    "    loss = tf.nn.weighted_cross_entropy_with_logits(labels=target,\n",
    "                                                    logits=output,\n",
    "                                                    pos_weight=POS_WEIGHT)\n",
    "    return tf.reduce_mean(loss, axis=-1)\n",
    "\n",
    "# reference - https://stackoverflow.com/questions/42158866/neural-network-for-multi-label-classification-with-large-number-of-classes-outpu"
   ]
  },
  {
   "cell_type": "markdown",
   "metadata": {},
   "source": [
    "### Appropriate metric for multilabel classification tasks"
   ]
  },
  {
   "cell_type": "code",
   "execution_count": 18,
   "metadata": {},
   "outputs": [],
   "source": [
    "from keras import backend as K\n",
    "\n",
    "def f1_score(y_true, y_pred):\n",
    "    def recall(y_true, y_pred):\n",
    "        \"\"\"Recall metric.\n",
    "\n",
    "        Only computes a batch-wise average of recall.\n",
    "\n",
    "        Computes the recall, a metric for multi-label classification of\n",
    "        how many relevant items are selected.\n",
    "        \"\"\"\n",
    "        true_positives = K.sum(K.round(K.clip(y_true * y_pred, 0, 1)))\n",
    "        possible_positives = K.sum(K.round(K.clip(y_true, 0, 1)))\n",
    "        recall = true_positives / (possible_positives + K.epsilon())\n",
    "        return recall\n",
    "\n",
    "    def precision(y_true, y_pred):\n",
    "        \"\"\"Precision metric.\n",
    "\n",
    "        Only computes a batch-wise average of precision.\n",
    "\n",
    "        Computes the precision, a metric for multi-label classification of\n",
    "        how many selected items are relevant.\n",
    "        \"\"\"\n",
    "        true_positives = K.sum(K.round(K.clip(y_true * y_pred, 0, 1)))\n",
    "        predicted_positives = K.sum(K.round(K.clip(y_pred, 0, 1)))\n",
    "        precision = true_positives / (predicted_positives + K.epsilon())\n",
    "        return precision\n",
    "    precision = precision(y_true, y_pred)\n",
    "    recall = recall(y_true, y_pred)\n",
    "    return 2*((precision*recall)/(precision+recall+K.epsilon()))"
   ]
  },
  {
   "cell_type": "markdown",
   "metadata": {},
   "source": [
    "### Baseline model definition "
   ]
  },
  {
   "cell_type": "code",
   "execution_count": 19,
   "metadata": {},
   "outputs": [],
   "source": [
    "# model definition  \n",
    "from keras.layers import Dense, Dropout\n",
    "from keras.models import Sequential \n",
    "import keras.optimizers as KO\n",
    "from keras.layers import BatchNormalization\n",
    "\n",
    "# default hyperparameters for model\n",
    "layers = 3 # layers of model \n",
    "nn = 256 # nodes\n",
    "lr = 0.001 # learning rate\n",
    "act ='relu' # activation functions\n",
    "drop = 0.1 # dropout rate to improve test error perf\n",
    "\n",
    "# default static parameters\n",
    "num_col = 252 # inputs \n",
    "output_nodes = 88 # outputs \n",
    "loss = weighted_binary_crossentropy # loss function for use in back propagation\n",
    "\n",
    "# define model with params\n",
    "def create_model(layers=layers,nn=nn,lr=lr,act=act,drop=drop):  \n",
    "  # Create an Adam optimizer with the given learning rate\n",
    "  opt = KO.Adam(lr=lr)\n",
    "  # create model \n",
    "  model = Sequential()\n",
    "  # input layer\n",
    "  model.add(Dense(num_col,kernel_initializer='normal', \n",
    "                  activation=act ,input_shape=(num_col,)))\n",
    "  model.add(Dropout(drop))\n",
    "  model.add(BatchNormalization())\n",
    "    \n",
    "  for i in range(layers):\n",
    "    # layers with dropout and batch normalization \n",
    "    model.add(Dense(nn, activation=act,\n",
    "                    kernel_initializer = 'normal'))\n",
    "    model.add(Dropout(drop))\n",
    "    model.add(BatchNormalization())\n",
    "  \n",
    "  # output layer - we require a sigmoid activation function \n",
    "  model.add(Dense(output_nodes, activation='sigmoid',kernel_initializer='normal'))\n",
    "    \n",
    "  # compile model\n",
    "  model.compile(optimizer=opt, loss=loss, metrics=[f1_score])\n",
    "    \n",
    "  return model"
   ]
  },
  {
   "cell_type": "markdown",
   "metadata": {},
   "source": [
    "## Hyperparameter Tuning"
   ]
  },
  {
   "cell_type": "markdown",
   "metadata": {},
   "source": [
    "### Function for building model and running with different parameters"
   ]
  },
  {
   "cell_type": "code",
   "execution_count": 20,
   "metadata": {},
   "outputs": [],
   "source": [
    "# Callbacks \n",
    "from keras.callbacks import EarlyStopping\n",
    "\n",
    "def build_run_model(layers=3, drop=0.1, nn=256):\n",
    "    model = create_model(layers=layers, drop=drop, nn=nn)\n",
    "    \n",
    "    # batch size and epoch\n",
    "    batch_size = 32 # mini batch size - compromise between efficiency and error\n",
    "    # only a small number of epochs is needed for hyperparameter tuning     \n",
    "    epochs = 5 # number of times to iterate through the dataset\n",
    "    \n",
    "    # patience determines how long before the model stops training after seeing no improvement\n",
    "    early_stopping_monitor = EarlyStopping(patience=10,mode='auto', verbose=1, min_delta=0, monitor='val_loss')\n",
    "    \n",
    "    model.fit(X_train,y_train,validation_data=(X_val, y_val), epochs=epochs, batch_size=batch_size,\n",
    "                        callbacks=[early_stopping_monitor], verbose=1)\n",
    "    \n",
    "    return model.history"
   ]
  },
  {
   "cell_type": "markdown",
   "metadata": {},
   "source": [
    "### Fitting model for different parameters"
   ]
  },
  {
   "cell_type": "code",
   "execution_count": 21,
   "metadata": {},
   "outputs": [
    {
     "name": "stdout",
     "output_type": "stream",
     "text": [
      "WARNING:tensorflow:From C:\\Users\\olli\\anaconda3\\lib\\site-packages\\tensorflow\\python\\ops\\math_grad.py:1250: add_dispatch_support.<locals>.wrapper (from tensorflow.python.ops.array_ops) is deprecated and will be removed in a future version.\n",
      "Instructions for updating:\n",
      "Use tf.where in 2.0, which has the same broadcast rule as np.where\n",
      "WARNING:tensorflow:From C:\\Users\\olli\\anaconda3\\lib\\site-packages\\keras\\backend\\tensorflow_backend.py:422: The name tf.global_variables is deprecated. Please use tf.compat.v1.global_variables instead.\n",
      "\n",
      "Train on 28917 samples, validate on 9639 samples\n",
      "Epoch 1/5\n",
      "28917/28917 [==============================] - 14s 470us/step - loss: 0.5593 - f1_score: 0.2649 - val_loss: 0.4749 - val_f1_score: 0.3006\n",
      "Epoch 2/5\n",
      "28917/28917 [==============================] - 12s 408us/step - loss: 0.4596 - f1_score: 0.3178 - val_loss: 0.4294 - val_f1_score: 0.3360\n",
      "Epoch 3/5\n",
      "28917/28917 [==============================] - 12s 404us/step - loss: 0.4271 - f1_score: 0.3408 - val_loss: 0.3992 - val_f1_score: 0.3563\n",
      "Epoch 4/5\n",
      "28917/28917 [==============================] - 12s 407us/step - loss: 0.4032 - f1_score: 0.3595 - val_loss: 0.3770 - val_f1_score: 0.3703\n",
      "Epoch 5/5\n",
      "28917/28917 [==============================] - 12s 407us/step - loss: 0.3845 - f1_score: 0.3763 - val_loss: 0.3584 - val_f1_score: 0.3868\n",
      "Train on 28917 samples, validate on 9639 samples\n",
      "Epoch 1/5\n",
      "28917/28917 [==============================] - 17s 590us/step - loss: 0.5661 - f1_score: 0.2590 - val_loss: 0.4730 - val_f1_score: 0.3042\n",
      "Epoch 2/5\n",
      "28917/28917 [==============================] - 15s 510us/step - loss: 0.4685 - f1_score: 0.3111 - val_loss: 0.4417 - val_f1_score: 0.3257\n",
      "Epoch 3/5\n",
      "28917/28917 [==============================] - 15s 512us/step - loss: 0.4384 - f1_score: 0.3323 - val_loss: 0.4067 - val_f1_score: 0.3536\n",
      "Epoch 4/5\n",
      "28917/28917 [==============================] - 15s 507us/step - loss: 0.4164 - f1_score: 0.3495 - val_loss: 0.3833 - val_f1_score: 0.3729\n",
      "Epoch 5/5\n",
      "28917/28917 [==============================] - 15s 507us/step - loss: 0.3993 - f1_score: 0.3630 - val_loss: 0.3712 - val_f1_score: 0.3785\n",
      "Train on 28917 samples, validate on 9639 samples\n",
      "Epoch 1/5\n",
      "28917/28917 [==============================] - 21s 736us/step - loss: 0.5715 - f1_score: 0.2545 - val_loss: 0.4749 - val_f1_score: 0.2984\n",
      "Epoch 2/5\n",
      "28917/28917 [==============================] - 19s 641us/step - loss: 0.4783 - f1_score: 0.3047 - val_loss: 0.4547 - val_f1_score: 0.3200\n",
      "Epoch 3/5\n",
      "28917/28917 [==============================] - 18s 635us/step - loss: 0.4492 - f1_score: 0.3250 - val_loss: 0.4168 - val_f1_score: 0.3423\n",
      "Epoch 4/5\n",
      "28917/28917 [==============================] - 18s 635us/step - loss: 0.4270 - f1_score: 0.3398 - val_loss: 0.3994 - val_f1_score: 0.3513\n",
      "Epoch 5/5\n",
      "28917/28917 [==============================] - 18s 633us/step - loss: 0.4104 - f1_score: 0.3531 - val_loss: 0.4111 - val_f1_score: 0.3477\n",
      "Train on 28917 samples, validate on 9639 samples\n",
      "Epoch 1/5\n",
      "28917/28917 [==============================] - 14s 478us/step - loss: 0.5363 - f1_score: 0.2805 - val_loss: 0.4595 - val_f1_score: 0.3188\n",
      "Epoch 2/5\n",
      "28917/28917 [==============================] - 12s 408us/step - loss: 0.4256 - f1_score: 0.3457 - val_loss: 0.4028 - val_f1_score: 0.3584\n",
      "Epoch 3/5\n",
      "28917/28917 [==============================] - 12s 407us/step - loss: 0.3806 - f1_score: 0.3823 - val_loss: 0.3872 - val_f1_score: 0.3734\n",
      "Epoch 4/5\n",
      "28917/28917 [==============================] - 12s 406us/step - loss: 0.3469 - f1_score: 0.4118 - val_loss: 0.3331 - val_f1_score: 0.4238\n",
      "Epoch 5/5\n",
      "28917/28917 [==============================] - 11s 393us/step - loss: 0.3188 - f1_score: 0.4388 - val_loss: 0.3202 - val_f1_score: 0.4487\n",
      "Train on 28917 samples, validate on 9639 samples\n",
      "Epoch 1/5\n",
      "28917/28917 [==============================] - 19s 672us/step - loss: 0.5667 - f1_score: 0.2587 - val_loss: 0.4699 - val_f1_score: 0.3067\n",
      "Epoch 2/5\n",
      "28917/28917 [==============================] - 17s 589us/step - loss: 0.4687 - f1_score: 0.3102 - val_loss: 0.4331 - val_f1_score: 0.3357\n",
      "Epoch 3/5\n",
      "28917/28917 [==============================] - 17s 601us/step - loss: 0.4386 - f1_score: 0.3330 - val_loss: 0.4097 - val_f1_score: 0.3495\n",
      "Epoch 4/5\n",
      "28917/28917 [==============================] - 17s 603us/step - loss: 0.4161 - f1_score: 0.3503 - val_loss: 0.3852 - val_f1_score: 0.3616\n",
      "Epoch 5/5\n",
      "28917/28917 [==============================] - 17s 590us/step - loss: 0.3977 - f1_score: 0.3652 - val_loss: 0.3674 - val_f1_score: 0.3801\n",
      "Train on 28917 samples, validate on 9639 samples\n",
      "Epoch 1/5\n",
      "28917/28917 [==============================] - 21s 720us/step - loss: 0.5854 - f1_score: 0.2455 - val_loss: 0.4930 - val_f1_score: 0.2899\n",
      "Epoch 2/5\n",
      "28917/28917 [==============================] - 18s 626us/step - loss: 0.4962 - f1_score: 0.2920 - val_loss: 0.4623 - val_f1_score: 0.3078\n",
      "Epoch 3/5\n",
      "28917/28917 [==============================] - 18s 635us/step - loss: 0.4723 - f1_score: 0.3085 - val_loss: 0.4382 - val_f1_score: 0.3283\n",
      "Epoch 4/5\n",
      "28917/28917 [==============================] - 18s 623us/step - loss: 0.4555 - f1_score: 0.3196 - val_loss: 0.4262 - val_f1_score: 0.3383\n",
      "Epoch 5/5\n",
      "28917/28917 [==============================] - 18s 618us/step - loss: 0.4415 - f1_score: 0.3293 - val_loss: 0.4089 - val_f1_score: 0.3454\n",
      "Train on 28917 samples, validate on 9639 samples\n",
      "Epoch 1/5\n",
      "28917/28917 [==============================] - 18s 608us/step - loss: 0.5732 - f1_score: 0.2560 - val_loss: 0.4919 - val_f1_score: 0.2924\n",
      "Epoch 2/5\n",
      "28917/28917 [==============================] - 15s 514us/step - loss: 0.4824 - f1_score: 0.3015 - val_loss: 0.4531 - val_f1_score: 0.3207\n",
      "Epoch 3/5\n",
      "28917/28917 [==============================] - 15s 520us/step - loss: 0.4583 - f1_score: 0.3190 - val_loss: 0.4399 - val_f1_score: 0.3307\n",
      "Epoch 4/5\n",
      "28917/28917 [==============================] - 15s 514us/step - loss: 0.4411 - f1_score: 0.3310 - val_loss: 0.4138 - val_f1_score: 0.3498\n",
      "Epoch 5/5\n",
      "28917/28917 [==============================] - 15s 513us/step - loss: 0.4270 - f1_score: 0.3410 - val_loss: 0.3987 - val_f1_score: 0.3572\n",
      "Train on 28917 samples, validate on 9639 samples\n",
      "Epoch 1/5\n",
      "28917/28917 [==============================] - 24s 846us/step - loss: 0.5672 - f1_score: 0.2585 - val_loss: 0.4776 - val_f1_score: 0.3044\n",
      "Epoch 2/5\n",
      "28917/28917 [==============================] - 21s 740us/step - loss: 0.4699 - f1_score: 0.3102 - val_loss: 0.4343 - val_f1_score: 0.3321\n",
      "Epoch 3/5\n",
      "28917/28917 [==============================] - 22s 748us/step - loss: 0.4396 - f1_score: 0.3327 - val_loss: 0.4080 - val_f1_score: 0.3512\n",
      "Epoch 4/5\n",
      "28917/28917 [==============================] - 22s 752us/step - loss: 0.4173 - f1_score: 0.3495 - val_loss: 0.3928 - val_f1_score: 0.3592\n",
      "Epoch 5/5\n",
      "28917/28917 [==============================] - 22s 751us/step - loss: 0.3987 - f1_score: 0.3631 - val_loss: 0.3716 - val_f1_score: 0.3822\n",
      "Train on 28917 samples, validate on 9639 samples\n",
      "Epoch 1/5\n",
      "28917/28917 [==============================] - 40s 1ms/step - loss: 0.5654 - f1_score: 0.2605 - val_loss: 0.4628 - val_f1_score: 0.3126\n",
      "Epoch 2/5\n",
      "28917/28917 [==============================] - 37s 1ms/step - loss: 0.4592 - f1_score: 0.3184 - val_loss: 0.4130 - val_f1_score: 0.3485\n",
      "Epoch 3/5\n",
      "28917/28917 [==============================] - 36s 1ms/step - loss: 0.4206 - f1_score: 0.3463 - val_loss: 0.3881 - val_f1_score: 0.3634\n",
      "Epoch 4/5\n",
      "28917/28917 [==============================] - 36s 1ms/step - loss: 0.3913 - f1_score: 0.3703 - val_loss: 0.3670 - val_f1_score: 0.3825\n",
      "Epoch 5/5\n",
      "28917/28917 [==============================] - 36s 1ms/step - loss: 0.3682 - f1_score: 0.3901 - val_loss: 0.3344 - val_f1_score: 0.4159\n"
     ]
    }
   ],
   "source": [
    "results = {}\n",
    "\n",
    "# parameters for tuning\n",
    "params = { \n",
    "          'layers' : [2,3,4],\n",
    "          'drop': [0, 0.1,0.2],\n",
    "          'nn': [128,256, 512]\n",
    "}\n",
    "\n",
    "# iterate through different parameters\n",
    "for param in params:\n",
    "    if param not in results.keys():\n",
    "        results[param] = {}\n",
    "        for value in params[param]:\n",
    "            if param=='layers':\n",
    "                # run and compile model and log the history object in the               \n",
    "                results[param][value] = build_run_model(layers=value)\n",
    "            elif param=='drop':\n",
    "                results[param][value] = build_run_model(drop=value)\n",
    "            elif param=='nn':\n",
    "                results[param][value] = build_run_model(nn=value)"
   ]
  },
  {
   "cell_type": "code",
   "execution_count": 22,
   "metadata": {},
   "outputs": [
    {
     "data": {
      "text/plain": [
       "{'layers': {2: <keras.callbacks.callbacks.History at 0x14c86c00d48>,\n",
       "  3: <keras.callbacks.callbacks.History at 0x14c8810af08>,\n",
       "  4: <keras.callbacks.callbacks.History at 0x14c8993a4c8>},\n",
       " 'drop': {0: <keras.callbacks.callbacks.History at 0x14c8ec1ef88>,\n",
       "  0.1: <keras.callbacks.callbacks.History at 0x14c901daec8>,\n",
       "  0.2: <keras.callbacks.callbacks.History at 0x14c9195ff48>},\n",
       " 'nn': {128: <keras.callbacks.callbacks.History at 0x14c930f7b48>,\n",
       "  256: <keras.callbacks.callbacks.History at 0x14c949deac8>,\n",
       "  512: <keras.callbacks.callbacks.History at 0x14c981939c8>}}"
      ]
     },
     "execution_count": 22,
     "metadata": {},
     "output_type": "execute_result"
    }
   ],
   "source": [
    "# dictionary with different params and associated information on model evaluation as an keras object\n",
    "# leaving the results in this form is more flexible then directly extracting the values\n",
    "results"
   ]
  },
  {
   "cell_type": "code",
   "execution_count": 24,
   "metadata": {},
   "outputs": [],
   "source": [
    "# Store f1 and loss results\n",
    "# layers param\n",
    "layers_vals = []\n",
    "layers_f1 = [] \n",
    "layers_loss = []\n",
    "\n",
    "# dropout param\n",
    "drop_vals = []\n",
    "drop_f1 = []\n",
    "drop_loss = []\n",
    "\n",
    "# nn param\n",
    "nn_vals = []\n",
    "nn_f1 = []\n",
    "nn_loss = []\n",
    "\n",
    "# iterate through different parameters\n",
    "for param in results:\n",
    "        for val in results[param]:\n",
    "            if param =='layers':\n",
    "                f1_score = round(results[param][val].history[\"val_f1_score\"][-1],3)\n",
    "                loss_score =round(results[param][val].history[\"val_loss\"][-1],3)\n",
    "                layers_vals.append(val)\n",
    "                layers_f1.append(f1_score)\n",
    "                layers_loss.append(loss_score)\n",
    "            elif param =='drop': \n",
    "                f1_score = round(results[param][val].history[\"val_f1_score\"][-1],3)\n",
    "                loss_score =round(results[param][val].history[\"val_loss\"][-1],3)\n",
    "                drop_vals.append(val)\n",
    "                drop_f1.append(f1_score)\n",
    "                drop_loss.append(loss_score)\n",
    "            elif param =='nn': \n",
    "                f1_score = round(results[param][val].history[\"val_f1_score\"][-1],3)\n",
    "                loss_score = round(results[param][val].history[\"val_loss\"][-1],3)\n",
    "                nn_vals.append(val)\n",
    "                nn_f1.append(f1_score)\n",
    "                nn_loss.append(loss_score)"
   ]
  },
  {
   "cell_type": "code",
   "execution_count": 28,
   "metadata": {},
   "outputs": [
    {
     "data": {
      "text/html": [
       "<div>\n",
       "<style scoped>\n",
       "    .dataframe tbody tr th:only-of-type {\n",
       "        vertical-align: middle;\n",
       "    }\n",
       "\n",
       "    .dataframe tbody tr th {\n",
       "        vertical-align: top;\n",
       "    }\n",
       "\n",
       "    .dataframe thead th {\n",
       "        text-align: right;\n",
       "    }\n",
       "</style>\n",
       "<table border=\"1\" class=\"dataframe\">\n",
       "  <thead>\n",
       "    <tr style=\"text-align: right;\">\n",
       "      <th></th>\n",
       "      <th>validation f1-measure</th>\n",
       "      <th>validation loss score</th>\n",
       "    </tr>\n",
       "    <tr>\n",
       "      <th>layers</th>\n",
       "      <th></th>\n",
       "      <th></th>\n",
       "    </tr>\n",
       "  </thead>\n",
       "  <tbody>\n",
       "    <tr>\n",
       "      <th>2</th>\n",
       "      <td>0.387</td>\n",
       "      <td>0.358</td>\n",
       "    </tr>\n",
       "    <tr>\n",
       "      <th>3</th>\n",
       "      <td>0.379</td>\n",
       "      <td>0.371</td>\n",
       "    </tr>\n",
       "    <tr>\n",
       "      <th>4</th>\n",
       "      <td>0.348</td>\n",
       "      <td>0.411</td>\n",
       "    </tr>\n",
       "  </tbody>\n",
       "</table>\n",
       "</div>"
      ],
      "text/plain": [
       "        validation f1-measure  validation loss score\n",
       "layers                                              \n",
       "2                       0.387                  0.358\n",
       "3                       0.379                  0.371\n",
       "4                       0.348                  0.411"
      ]
     },
     "execution_count": 28,
     "metadata": {},
     "output_type": "execute_result"
    }
   ],
   "source": [
    "# layers table\n",
    "layers_table = pd.DataFrame(zip(layers_vals,layers_f1,layers_loss), columns =['layers', 'validation f1-measure','validation loss score'])\n",
    "layers_table.set_index('layers',inplace=True)\n",
    "layers_table"
   ]
  },
  {
   "cell_type": "code",
   "execution_count": 29,
   "metadata": {},
   "outputs": [
    {
     "data": {
      "text/html": [
       "<div>\n",
       "<style scoped>\n",
       "    .dataframe tbody tr th:only-of-type {\n",
       "        vertical-align: middle;\n",
       "    }\n",
       "\n",
       "    .dataframe tbody tr th {\n",
       "        vertical-align: top;\n",
       "    }\n",
       "\n",
       "    .dataframe thead th {\n",
       "        text-align: right;\n",
       "    }\n",
       "</style>\n",
       "<table border=\"1\" class=\"dataframe\">\n",
       "  <thead>\n",
       "    <tr style=\"text-align: right;\">\n",
       "      <th></th>\n",
       "      <th>validation f1-measure</th>\n",
       "      <th>validation loss score</th>\n",
       "    </tr>\n",
       "    <tr>\n",
       "      <th>Dropout Rate</th>\n",
       "      <th></th>\n",
       "      <th></th>\n",
       "    </tr>\n",
       "  </thead>\n",
       "  <tbody>\n",
       "    <tr>\n",
       "      <th>0.0</th>\n",
       "      <td>0.449</td>\n",
       "      <td>0.320</td>\n",
       "    </tr>\n",
       "    <tr>\n",
       "      <th>0.1</th>\n",
       "      <td>0.380</td>\n",
       "      <td>0.367</td>\n",
       "    </tr>\n",
       "    <tr>\n",
       "      <th>0.2</th>\n",
       "      <td>0.345</td>\n",
       "      <td>0.409</td>\n",
       "    </tr>\n",
       "  </tbody>\n",
       "</table>\n",
       "</div>"
      ],
      "text/plain": [
       "              validation f1-measure  validation loss score\n",
       "Dropout Rate                                              \n",
       "0.0                           0.449                  0.320\n",
       "0.1                           0.380                  0.367\n",
       "0.2                           0.345                  0.409"
      ]
     },
     "execution_count": 29,
     "metadata": {},
     "output_type": "execute_result"
    }
   ],
   "source": [
    "# dropout table\n",
    "drop_table = pd.DataFrame(zip(drop_vals,drop_f1,drop_loss), columns =['Dropout Rate', 'validation f1-measure','validation loss score'])\n",
    "drop_table.set_index('Dropout Rate',inplace=True)\n",
    "drop_table"
   ]
  },
  {
   "cell_type": "code",
   "execution_count": 30,
   "metadata": {},
   "outputs": [
    {
     "data": {
      "text/html": [
       "<div>\n",
       "<style scoped>\n",
       "    .dataframe tbody tr th:only-of-type {\n",
       "        vertical-align: middle;\n",
       "    }\n",
       "\n",
       "    .dataframe tbody tr th {\n",
       "        vertical-align: top;\n",
       "    }\n",
       "\n",
       "    .dataframe thead th {\n",
       "        text-align: right;\n",
       "    }\n",
       "</style>\n",
       "<table border=\"1\" class=\"dataframe\">\n",
       "  <thead>\n",
       "    <tr style=\"text-align: right;\">\n",
       "      <th></th>\n",
       "      <th>validation f1-measure</th>\n",
       "      <th>validation loss score</th>\n",
       "    </tr>\n",
       "    <tr>\n",
       "      <th>Neurons in hidden layers</th>\n",
       "      <th></th>\n",
       "      <th></th>\n",
       "    </tr>\n",
       "  </thead>\n",
       "  <tbody>\n",
       "    <tr>\n",
       "      <th>128</th>\n",
       "      <td>0.357</td>\n",
       "      <td>0.399</td>\n",
       "    </tr>\n",
       "    <tr>\n",
       "      <th>256</th>\n",
       "      <td>0.382</td>\n",
       "      <td>0.372</td>\n",
       "    </tr>\n",
       "    <tr>\n",
       "      <th>512</th>\n",
       "      <td>0.416</td>\n",
       "      <td>0.334</td>\n",
       "    </tr>\n",
       "  </tbody>\n",
       "</table>\n",
       "</div>"
      ],
      "text/plain": [
       "                          validation f1-measure  validation loss score\n",
       "Neurons in hidden layers                                              \n",
       "128                                       0.357                  0.399\n",
       "256                                       0.382                  0.372\n",
       "512                                       0.416                  0.334"
      ]
     },
     "execution_count": 30,
     "metadata": {},
     "output_type": "execute_result"
    }
   ],
   "source": [
    "# layers values\n",
    "nn_table = pd.DataFrame(zip(nn_vals,nn_f1,nn_loss), columns =['Neurons in hidden layers', 'validation f1-measure','validation loss score'])\n",
    "nn_table.set_index('Neurons in hidden layers',inplace=True)\n",
    "nn_table"
   ]
  },
  {
   "cell_type": "markdown",
   "metadata": {},
   "source": [
    "### Conclusions\n",
    "\n",
    "Optimal values to use in model\n",
    "- **number of neurons per layer** : 512 (f1-measure : 0.416, loss : 0.334)\n",
    "- **Dropout Rate** : 0.1 (f1-measure : 0.380, loss : 0.367)\n",
    "- **layers** : 2 (f1-measure : 0.387, loss : 0.358)"
   ]
  },
  {
   "cell_type": "markdown",
   "metadata": {},
   "source": [
    "## Making use of tuned hyperparameters"
   ]
  },
  {
   "cell_type": "markdown",
   "metadata": {},
   "source": [
    "### Redefine loss function and f1 metric for tuned model to avoid namespace conflicts"
   ]
  },
  {
   "cell_type": "code",
   "execution_count": 34,
   "metadata": {
    "jupyter": {
     "source_hidden": true
    }
   },
   "outputs": [],
   "source": [
    "# balanced loss function for multi-label problem\n",
    "    \n",
    "import tensorflow as tf\n",
    "import keras.backend.tensorflow_backend as tfb\n",
    "\n",
    "POS_WEIGHT = 10  # multiplier for positive targets, needs to be tuned\n",
    "\n",
    "def weighted_binary_crossentropy(target, output):\n",
    "    \"\"\"\n",
    "    Weighted binary crossentropy between an output tensor \n",
    "    and a target tensor. POS_WEIGHT is used as a multiplier \n",
    "    for the positive targets.\n",
    "\n",
    "    Combination of the following functions:\n",
    "    * keras.losses.binary_crossentropy\n",
    "    * keras.backend.tensorflow_backend.binary_crossentropy\n",
    "    * tf.nn.weighted_cross_entropy_with_logits\n",
    "    \"\"\"\n",
    "    # transform back to logits\n",
    "    _epsilon = tfb._to_tensor(tfb.epsilon(), output.dtype.base_dtype)\n",
    "    output = tf.clip_by_value(output, _epsilon, 1 - _epsilon)\n",
    "    output = tf.math.log(output / (1 - output))\n",
    "    # compute weighted loss\n",
    "    loss = tf.nn.weighted_cross_entropy_with_logits(labels=target,\n",
    "                                                    logits=output,\n",
    "                                                    pos_weight=POS_WEIGHT)\n",
    "    return tf.reduce_mean(loss, axis=-1)\n",
    "\n",
    "# reference - https://stackoverflow.com/questions/42158866/neural-network-for-multi-label-classification-with-large-number-of-classes-outpu"
   ]
  },
  {
   "cell_type": "code",
   "execution_count": 35,
   "metadata": {
    "jupyter": {
     "source_hidden": true
    }
   },
   "outputs": [],
   "source": [
    "from keras import backend as K\n",
    "\n",
    "def f1_score(y_true, y_pred):\n",
    "    def recall(y_true, y_pred):\n",
    "        \"\"\"Recall metric.\n",
    "\n",
    "        Only computes a batch-wise average of recall.\n",
    "\n",
    "        Computes the recall, a metric for multi-label classification of\n",
    "        how many relevant items are selected.\n",
    "        \"\"\"\n",
    "        true_positives = K.sum(K.round(K.clip(y_true * y_pred, 0, 1)))\n",
    "        possible_positives = K.sum(K.round(K.clip(y_true, 0, 1)))\n",
    "        recall = true_positives / (possible_positives + K.epsilon())\n",
    "        return recall\n",
    "\n",
    "    def precision(y_true, y_pred):\n",
    "        \"\"\"Precision metric.\n",
    "\n",
    "        Only computes a batch-wise average of precision.\n",
    "\n",
    "        Computes the precision, a metric for multi-label classification of\n",
    "        how many selected items are relevant.\n",
    "        \"\"\"\n",
    "        true_positives = K.sum(K.round(K.clip(y_true * y_pred, 0, 1)))\n",
    "        predicted_positives = K.sum(K.round(K.clip(y_pred, 0, 1)))\n",
    "        precision = true_positives / (predicted_positives + K.epsilon())\n",
    "        return precision\n",
    "    precision = precision(y_true, y_pred)\n",
    "    recall = recall(y_true, y_pred)\n",
    "    return 2*((precision*recall)/(precision+recall+K.epsilon()))"
   ]
  },
  {
   "cell_type": "markdown",
   "metadata": {},
   "source": [
    "### Tuned model definition "
   ]
  },
  {
   "cell_type": "code",
   "execution_count": 36,
   "metadata": {},
   "outputs": [],
   "source": [
    "# model definition  \n",
    "from keras.layers import Dense, Dropout\n",
    "from keras.models import Sequential \n",
    "import keras.optimizers as KO\n",
    "from keras.layers import BatchNormalization\n",
    "\n",
    "# parameters from tuning\n",
    "layers = 2 # layers of model \n",
    "nn = 512 # nodes\n",
    "lr = 0.001 # learning rate\n",
    "act ='relu' # activation functions\n",
    "drop = 0.1 # dropout rate to improve test error perf\n",
    "\n",
    "# default static parameters\n",
    "num_col = 252 # inputs \n",
    "output_nodes = 88 # outputs \n",
    "loss = weighted_binary_crossentropy # loss function for use in back propagation\n",
    "\n",
    "# define model with params\n",
    "def create_model(layers=layers,nn=nn,lr=lr,act=act,drop=drop):  \n",
    "  # Create an Adam optimizer with the given learning rate\n",
    "  opt = KO.Adam(lr=lr)\n",
    "  # create model \n",
    "  model = Sequential()\n",
    "  # input layer\n",
    "  model.add(Dense(num_col,kernel_initializer='normal', \n",
    "                  activation=act ,input_shape=(num_col,)))\n",
    "  model.add(Dropout(drop))\n",
    "  model.add(BatchNormalization())\n",
    "    \n",
    "  for i in range(layers):\n",
    "    # layers with dropout and batch normalization \n",
    "    model.add(Dense(nn, activation=act,\n",
    "                    kernel_initializer = 'normal'))\n",
    "    model.add(Dropout(drop))\n",
    "    model.add(BatchNormalization())\n",
    "  \n",
    "  # output layer - we require a sigmoid activation function \n",
    "  model.add(Dense(output_nodes, activation='sigmoid',kernel_initializer='normal'))\n",
    "    \n",
    "  # compile model\n",
    "  model.compile(optimizer=opt, loss=loss, metrics=[f1_score])\n",
    "    \n",
    "  return model"
   ]
  },
  {
   "cell_type": "markdown",
   "metadata": {},
   "source": [
    "### Fit the tuned model "
   ]
  },
  {
   "cell_type": "code",
   "execution_count": 37,
   "metadata": {
    "collapsed": true,
    "jupyter": {
     "outputs_hidden": true
    }
   },
   "outputs": [
    {
     "name": "stdout",
     "output_type": "stream",
     "text": [
      "Train on 28917 samples, validate on 9639 samples\n",
      "Epoch 1/100\n",
      "28917/28917 [==============================] - 30s 1ms/step - loss: 0.5618 - f1_score: 0.2636 - val_loss: 0.4625 - val_f1_score: 0.3144\n",
      "Epoch 2/100\n",
      "28917/28917 [==============================] - 28s 954us/step - loss: 0.4522 - f1_score: 0.3235 - val_loss: 0.4234 - val_f1_score: 0.3377\n",
      "Epoch 3/100\n",
      "28917/28917 [==============================] - 27s 938us/step - loss: 0.4129 - f1_score: 0.3534 - val_loss: 0.3917 - val_f1_score: 0.3646\n",
      "Epoch 4/100\n",
      "28917/28917 [==============================] - 27s 932us/step - loss: 0.3840 - f1_score: 0.3771 - val_loss: 0.3640 - val_f1_score: 0.3857\n",
      "Epoch 5/100\n",
      "28917/28917 [==============================] - 27s 935us/step - loss: 0.3629 - f1_score: 0.3948 - val_loss: 0.3357 - val_f1_score: 0.4164\n",
      "Epoch 6/100\n",
      "28917/28917 [==============================] - 27s 945us/step - loss: 0.3428 - f1_score: 0.4144 - val_loss: 0.3215 - val_f1_score: 0.4211\n",
      "Epoch 7/100\n",
      "28917/28917 [==============================] - 27s 950us/step - loss: 0.3272 - f1_score: 0.4285 - val_loss: 0.3039 - val_f1_score: 0.4423\n",
      "Epoch 8/100\n",
      "28917/28917 [==============================] - 27s 949us/step - loss: 0.3139 - f1_score: 0.4435 - val_loss: 0.2919 - val_f1_score: 0.4502\n",
      "Epoch 9/100\n",
      "28917/28917 [==============================] - 27s 949us/step - loss: 0.3024 - f1_score: 0.4538 - val_loss: 0.2824 - val_f1_score: 0.4594\n",
      "Epoch 10/100\n",
      "28917/28917 [==============================] - 28s 952us/step - loss: 0.2924 - f1_score: 0.4655 - val_loss: 0.2704 - val_f1_score: 0.4739\n",
      "Epoch 11/100\n",
      "28917/28917 [==============================] - 27s 947us/step - loss: 0.2827 - f1_score: 0.4766 - val_loss: 0.2584 - val_f1_score: 0.4935\n",
      "Epoch 12/100\n",
      "28917/28917 [==============================] - 27s 939us/step - loss: 0.2746 - f1_score: 0.4862 - val_loss: 0.2534 - val_f1_score: 0.4902\n",
      "Epoch 13/100\n",
      "28917/28917 [==============================] - 27s 941us/step - loss: 0.2679 - f1_score: 0.4939 - val_loss: 0.2517 - val_f1_score: 0.4988\n",
      "Epoch 14/100\n",
      "28917/28917 [==============================] - 27s 937us/step - loss: 0.2614 - f1_score: 0.5020 - val_loss: 0.2416 - val_f1_score: 0.5224\n",
      "Epoch 15/100\n",
      "28917/28917 [==============================] - 27s 946us/step - loss: 0.2555 - f1_score: 0.5090 - val_loss: 0.2354 - val_f1_score: 0.5231\n",
      "Epoch 16/100\n",
      "28917/28917 [==============================] - 27s 940us/step - loss: 0.2499 - f1_score: 0.5162 - val_loss: 0.2263 - val_f1_score: 0.5316\n",
      "Epoch 17/100\n",
      "28917/28917 [==============================] - 27s 945us/step - loss: 0.2426 - f1_score: 0.5256 - val_loss: 0.2205 - val_f1_score: 0.5448\n",
      "Epoch 18/100\n",
      "28917/28917 [==============================] - 26s 909us/step - loss: 0.2388 - f1_score: 0.5306 - val_loss: 0.2182 - val_f1_score: 0.5394\n",
      "Epoch 19/100\n",
      "28917/28917 [==============================] - 27s 943us/step - loss: 0.2346 - f1_score: 0.5366 - val_loss: 0.2137 - val_f1_score: 0.5469\n",
      "Epoch 20/100\n",
      "28917/28917 [==============================] - 27s 942us/step - loss: 0.2291 - f1_score: 0.5442 - val_loss: 0.2117 - val_f1_score: 0.5438\n",
      "Epoch 21/100\n",
      "28917/28917 [==============================] - 27s 940us/step - loss: 0.2246 - f1_score: 0.5494 - val_loss: 0.2068 - val_f1_score: 0.5573\n",
      "Epoch 22/100\n",
      "28917/28917 [==============================] - 27s 946us/step - loss: 0.2203 - f1_score: 0.5551 - val_loss: 0.1999 - val_f1_score: 0.5781\n",
      "Epoch 23/100\n",
      "28917/28917 [==============================] - 28s 951us/step - loss: 0.2181 - f1_score: 0.5589 - val_loss: 0.1976 - val_f1_score: 0.5713\n",
      "Epoch 24/100\n",
      "28917/28917 [==============================] - 27s 949us/step - loss: 0.2145 - f1_score: 0.5643 - val_loss: 0.1947 - val_f1_score: 0.5760\n",
      "Epoch 25/100\n",
      "28917/28917 [==============================] - 27s 941us/step - loss: 0.2095 - f1_score: 0.5705 - val_loss: 0.1909 - val_f1_score: 0.5885\n",
      "Epoch 26/100\n",
      "28917/28917 [==============================] - 27s 946us/step - loss: 0.2073 - f1_score: 0.5753 - val_loss: 0.1936 - val_f1_score: 0.5790\n",
      "Epoch 27/100\n",
      "28917/28917 [==============================] - 27s 944us/step - loss: 0.2044 - f1_score: 0.5798 - val_loss: 0.1887 - val_f1_score: 0.5870\n",
      "Epoch 28/100\n",
      "28917/28917 [==============================] - 28s 952us/step - loss: 0.2007 - f1_score: 0.5852 - val_loss: 0.1835 - val_f1_score: 0.5965\n",
      "Epoch 29/100\n",
      "28917/28917 [==============================] - 27s 946us/step - loss: 0.1976 - f1_score: 0.5895 - val_loss: 0.1848 - val_f1_score: 0.5896\n",
      "Epoch 30/100\n",
      "28917/28917 [==============================] - 27s 950us/step - loss: 0.1972 - f1_score: 0.5909 - val_loss: 0.1779 - val_f1_score: 0.5960\n",
      "Epoch 31/100\n",
      "28917/28917 [==============================] - 27s 949us/step - loss: 0.1932 - f1_score: 0.5946 - val_loss: 0.1763 - val_f1_score: 0.6129\n",
      "Epoch 32/100\n",
      "28917/28917 [==============================] - 27s 943us/step - loss: 0.1906 - f1_score: 0.6013 - val_loss: 0.1761 - val_f1_score: 0.6040\n",
      "Epoch 33/100\n",
      "28917/28917 [==============================] - 27s 945us/step - loss: 0.1897 - f1_score: 0.6020 - val_loss: 0.1728 - val_f1_score: 0.6110\n",
      "Epoch 34/100\n",
      "28917/28917 [==============================] - 27s 946us/step - loss: 0.1878 - f1_score: 0.6044 - val_loss: 0.1679 - val_f1_score: 0.6227\n",
      "Epoch 35/100\n",
      "28917/28917 [==============================] - 27s 940us/step - loss: 0.1840 - f1_score: 0.6097 - val_loss: 0.1691 - val_f1_score: 0.6137\n",
      "Epoch 36/100\n",
      "28917/28917 [==============================] - 27s 941us/step - loss: 0.1837 - f1_score: 0.6116 - val_loss: 0.1659 - val_f1_score: 0.6289\n",
      "Epoch 37/100\n",
      "28917/28917 [==============================] - 27s 940us/step - loss: 0.1811 - f1_score: 0.6168 - val_loss: 0.1622 - val_f1_score: 0.6301\n",
      "Epoch 38/100\n",
      "28917/28917 [==============================] - 27s 939us/step - loss: 0.1762 - f1_score: 0.6224 - val_loss: 0.1692 - val_f1_score: 0.6224\n",
      "Epoch 39/100\n",
      "28917/28917 [==============================] - 27s 938us/step - loss: 0.1763 - f1_score: 0.6232 - val_loss: 0.1657 - val_f1_score: 0.6259\n",
      "Epoch 40/100\n",
      "28917/28917 [==============================] - 27s 947us/step - loss: 0.1753 - f1_score: 0.6265 - val_loss: 0.1620 - val_f1_score: 0.6250\n",
      "Epoch 41/100\n",
      "28917/28917 [==============================] - 28s 955us/step - loss: 0.1725 - f1_score: 0.6298 - val_loss: 0.1587 - val_f1_score: 0.6385\n",
      "Epoch 42/100\n",
      "28917/28917 [==============================] - 27s 943us/step - loss: 0.1700 - f1_score: 0.6330 - val_loss: 0.1552 - val_f1_score: 0.6398\n",
      "Epoch 43/100\n",
      "28917/28917 [==============================] - 27s 946us/step - loss: 0.1690 - f1_score: 0.6360 - val_loss: 0.1577 - val_f1_score: 0.6350\n",
      "Epoch 44/100\n",
      "28917/28917 [==============================] - 27s 945us/step - loss: 0.1664 - f1_score: 0.6399 - val_loss: 0.1643 - val_f1_score: 0.6240\n",
      "Epoch 45/100\n",
      "28917/28917 [==============================] - 27s 918us/step - loss: 0.1689 - f1_score: 0.6366 - val_loss: 0.1533 - val_f1_score: 0.6542\n",
      "Epoch 46/100\n",
      "28917/28917 [==============================] - 27s 940us/step - loss: 0.1659 - f1_score: 0.6413 - val_loss: 0.1536 - val_f1_score: 0.6421\n",
      "Epoch 47/100\n",
      "28917/28917 [==============================] - 27s 939us/step - loss: 0.1637 - f1_score: 0.6445 - val_loss: 0.1465 - val_f1_score: 0.6602\n",
      "Epoch 48/100\n",
      "28917/28917 [==============================] - 27s 939us/step - loss: 0.1612 - f1_score: 0.6492 - val_loss: 0.1470 - val_f1_score: 0.6519\n",
      "Epoch 49/100\n",
      "28917/28917 [==============================] - 27s 942us/step - loss: 0.1597 - f1_score: 0.6522 - val_loss: 0.1468 - val_f1_score: 0.6582\n",
      "Epoch 50/100\n",
      "28917/28917 [==============================] - 27s 942us/step - loss: 0.1597 - f1_score: 0.6518 - val_loss: 0.1469 - val_f1_score: 0.6596\n",
      "Epoch 51/100\n",
      "28917/28917 [==============================] - 27s 947us/step - loss: 0.1569 - f1_score: 0.6557 - val_loss: 0.1447 - val_f1_score: 0.6631\n",
      "Epoch 52/100\n",
      "28917/28917 [==============================] - 27s 938us/step - loss: 0.1567 - f1_score: 0.6572 - val_loss: 0.1437 - val_f1_score: 0.6608\n",
      "Epoch 53/100\n",
      "28917/28917 [==============================] - 27s 940us/step - loss: 0.1552 - f1_score: 0.6588 - val_loss: 0.1445 - val_f1_score: 0.6644\n",
      "Epoch 54/100\n",
      "28917/28917 [==============================] - 27s 945us/step - loss: 0.1535 - f1_score: 0.6617 - val_loss: 0.1446 - val_f1_score: 0.6677\n",
      "Epoch 55/100\n",
      "28917/28917 [==============================] - 27s 940us/step - loss: 0.1532 - f1_score: 0.6631 - val_loss: 0.1386 - val_f1_score: 0.6736\n",
      "Epoch 56/100\n",
      "28917/28917 [==============================] - 27s 940us/step - loss: 0.1517 - f1_score: 0.6657 - val_loss: 0.1386 - val_f1_score: 0.6805\n",
      "Epoch 57/100\n",
      "28917/28917 [==============================] - 27s 943us/step - loss: 0.1522 - f1_score: 0.6654 - val_loss: 0.1384 - val_f1_score: 0.6732\n",
      "Epoch 58/100\n",
      "28917/28917 [==============================] - 27s 934us/step - loss: 0.1495 - f1_score: 0.6707 - val_loss: 0.1371 - val_f1_score: 0.6778\n",
      "Epoch 59/100\n",
      "28917/28917 [==============================] - 27s 938us/step - loss: 0.1475 - f1_score: 0.6728 - val_loss: 0.1346 - val_f1_score: 0.6872\n",
      "Epoch 60/100\n",
      "28917/28917 [==============================] - 27s 938us/step - loss: 0.1474 - f1_score: 0.6732 - val_loss: 0.1365 - val_f1_score: 0.6854\n",
      "Epoch 61/100\n",
      "28917/28917 [==============================] - 27s 944us/step - loss: 0.1471 - f1_score: 0.6734 - val_loss: 0.1371 - val_f1_score: 0.6854\n",
      "Epoch 62/100\n",
      "28917/28917 [==============================] - 27s 936us/step - loss: 0.1443 - f1_score: 0.6789 - val_loss: 0.1342 - val_f1_score: 0.6911\n",
      "Epoch 63/100\n",
      "28917/28917 [==============================] - 27s 939us/step - loss: 0.1443 - f1_score: 0.6789 - val_loss: 0.1345 - val_f1_score: 0.6838\n",
      "Epoch 64/100\n",
      "28917/28917 [==============================] - 27s 944us/step - loss: 0.1443 - f1_score: 0.6804 - val_loss: 0.1313 - val_f1_score: 0.6945\n",
      "Epoch 65/100\n",
      "28917/28917 [==============================] - 27s 932us/step - loss: 0.1418 - f1_score: 0.6840 - val_loss: 0.1313 - val_f1_score: 0.6909\n",
      "Epoch 66/100\n",
      "28917/28917 [==============================] - 27s 936us/step - loss: 0.1431 - f1_score: 0.6827 - val_loss: 0.1321 - val_f1_score: 0.6923\n",
      "Epoch 67/100\n",
      "28917/28917 [==============================] - 27s 935us/step - loss: 0.1407 - f1_score: 0.6860 - val_loss: 0.1313 - val_f1_score: 0.6954\n",
      "Epoch 68/100\n",
      "28917/28917 [==============================] - 27s 933us/step - loss: 0.1391 - f1_score: 0.6887 - val_loss: 0.1292 - val_f1_score: 0.6927\n",
      "Epoch 69/100\n",
      "28917/28917 [==============================] - 27s 944us/step - loss: 0.1393 - f1_score: 0.6880 - val_loss: 0.1278 - val_f1_score: 0.6964\n",
      "Epoch 70/100\n",
      "28917/28917 [==============================] - 27s 934us/step - loss: 0.1374 - f1_score: 0.6930 - val_loss: 0.1315 - val_f1_score: 0.6852\n",
      "Epoch 71/100\n",
      "28917/28917 [==============================] - 27s 935us/step - loss: 0.1365 - f1_score: 0.6936 - val_loss: 0.1317 - val_f1_score: 0.6889\n",
      "Epoch 72/100\n",
      "28917/28917 [==============================] - 27s 939us/step - loss: 0.1335 - f1_score: 0.6990 - val_loss: 0.1276 - val_f1_score: 0.6978\n",
      "Epoch 73/100\n",
      "28917/28917 [==============================] - 27s 933us/step - loss: 0.1342 - f1_score: 0.6959 - val_loss: 0.1262 - val_f1_score: 0.7048\n",
      "Epoch 74/100\n",
      "28917/28917 [==============================] - 27s 944us/step - loss: 0.1342 - f1_score: 0.6983 - val_loss: 0.1273 - val_f1_score: 0.6989\n",
      "Epoch 75/100\n",
      "28917/28917 [==============================] - 27s 935us/step - loss: 0.1334 - f1_score: 0.7000 - val_loss: 0.1275 - val_f1_score: 0.7059\n",
      "Epoch 76/100\n",
      "28917/28917 [==============================] - 27s 935us/step - loss: 0.1351 - f1_score: 0.6976 - val_loss: 0.1338 - val_f1_score: 0.6870\n",
      "Epoch 77/100\n",
      "28917/28917 [==============================] - 23s 806us/step - loss: 0.1329 - f1_score: 0.6999 - val_loss: 0.1229 - val_f1_score: 0.7120\n",
      "Epoch 78/100\n",
      "28917/28917 [==============================] - 10s 347us/step - loss: 0.1314 - f1_score: 0.7028 - val_loss: 0.1253 - val_f1_score: 0.7081\n",
      "Epoch 79/100\n",
      "28917/28917 [==============================] - 10s 352us/step - loss: 0.1340 - f1_score: 0.7004 - val_loss: 0.1254 - val_f1_score: 0.6974\n",
      "Epoch 80/100\n",
      "28917/28917 [==============================] - 10s 344us/step - loss: 0.1292 - f1_score: 0.7078 - val_loss: 0.1233 - val_f1_score: 0.7039\n",
      "Epoch 81/100\n",
      "28917/28917 [==============================] - 10s 346us/step - loss: 0.1293 - f1_score: 0.7063 - val_loss: 0.1258 - val_f1_score: 0.7046\n",
      "Epoch 82/100\n",
      "28917/28917 [==============================] - 10s 356us/step - loss: 0.1296 - f1_score: 0.7077 - val_loss: 0.1238 - val_f1_score: 0.7066\n",
      "Epoch 83/100\n",
      "28917/28917 [==============================] - 13s 434us/step - loss: 0.1290 - f1_score: 0.7076 - val_loss: 0.1274 - val_f1_score: 0.7034\n",
      "Epoch 84/100\n",
      "28917/28917 [==============================] - 13s 456us/step - loss: 0.1274 - f1_score: 0.7103 - val_loss: 0.1179 - val_f1_score: 0.7277\n",
      "Epoch 85/100\n",
      "28917/28917 [==============================] - 13s 459us/step - loss: 0.1265 - f1_score: 0.7112 - val_loss: 0.1187 - val_f1_score: 0.7227\n",
      "Epoch 86/100\n",
      "28917/28917 [==============================] - 13s 460us/step - loss: 0.1257 - f1_score: 0.7140 - val_loss: 0.1188 - val_f1_score: 0.7202\n",
      "Epoch 87/100\n",
      "28917/28917 [==============================] - 13s 463us/step - loss: 0.1248 - f1_score: 0.7154 - val_loss: 0.1165 - val_f1_score: 0.7309\n",
      "Epoch 88/100\n",
      "28917/28917 [==============================] - 14s 467us/step - loss: 0.1249 - f1_score: 0.7164 - val_loss: 0.1155 - val_f1_score: 0.7294\n",
      "Epoch 89/100\n",
      "28917/28917 [==============================] - 13s 463us/step - loss: 0.1241 - f1_score: 0.7170 - val_loss: 0.1146 - val_f1_score: 0.7252\n",
      "Epoch 90/100\n",
      "28917/28917 [==============================] - 14s 472us/step - loss: 0.1226 - f1_score: 0.7206 - val_loss: 0.1169 - val_f1_score: 0.7323\n",
      "Epoch 91/100\n",
      "28917/28917 [==============================] - 14s 471us/step - loss: 0.1233 - f1_score: 0.7198 - val_loss: 0.1178 - val_f1_score: 0.7261\n",
      "Epoch 92/100\n",
      "28917/28917 [==============================] - 15s 505us/step - loss: 0.1233 - f1_score: 0.7201 - val_loss: 0.1152 - val_f1_score: 0.7360\n",
      "Epoch 93/100\n",
      "28917/28917 [==============================] - 15s 513us/step - loss: 0.1207 - f1_score: 0.7232 - val_loss: 0.1127 - val_f1_score: 0.7398\n",
      "Epoch 94/100\n",
      "28917/28917 [==============================] - 14s 481us/step - loss: 0.1216 - f1_score: 0.7222 - val_loss: 0.1153 - val_f1_score: 0.7249\n",
      "Epoch 95/100\n",
      "28917/28917 [==============================] - 14s 495us/step - loss: 0.1195 - f1_score: 0.7255 - val_loss: 0.1149 - val_f1_score: 0.7345\n",
      "Epoch 96/100\n",
      "28917/28917 [==============================] - 14s 495us/step - loss: 0.1199 - f1_score: 0.7250 - val_loss: 0.1130 - val_f1_score: 0.7311\n",
      "Epoch 97/100\n",
      "28917/28917 [==============================] - 14s 493us/step - loss: 0.1202 - f1_score: 0.7252 - val_loss: 0.1164 - val_f1_score: 0.7240\n",
      "Epoch 98/100\n",
      "28917/28917 [==============================] - 14s 494us/step - loss: 0.1197 - f1_score: 0.7255 - val_loss: 0.1134 - val_f1_score: 0.7290\n",
      "Epoch 99/100\n",
      "28917/28917 [==============================] - 14s 494us/step - loss: 0.1198 - f1_score: 0.7257 - val_loss: 0.1130 - val_f1_score: 0.7451\n",
      "Epoch 100/100\n",
      "28917/28917 [==============================] - 14s 500us/step - loss: 0.1186 - f1_score: 0.7276 - val_loss: 0.1102 - val_f1_score: 0.7415\n"
     ]
    },
    {
     "data": {
      "text/plain": [
       "<keras.callbacks.callbacks.History at 0x14c9e3ab788>"
      ]
     },
     "execution_count": 37,
     "metadata": {},
     "output_type": "execute_result"
    }
   ],
   "source": [
    "# fit tuned model\n",
    "\n",
    "final_model = create_model()\n",
    "\n",
    "# batch size\n",
    "batch_size = 32 # mini batch size - compromise between efficiency and error\n",
    "\n",
    "# here we will use a much larger number of epochs for \n",
    "# training compared to the parameter tuning  \n",
    "epochs = 70 \n",
    "\n",
    "# patience determines how long before the model stops training after seeing no improvement\n",
    "early_stopping_monitor = EarlyStopping(patience=10,mode='auto', verbose=1, min_delta=0, monitor='val_loss')\n",
    "\n",
    "final_model.fit(X_train,y_train,validation_data=(X_val, y_val), epochs=epochs, batch_size=batch_size,\n",
    "                    callbacks=[early_stopping_monitor], verbose=1)\n"
   ]
  },
  {
   "cell_type": "markdown",
   "metadata": {},
   "source": [
    "### Model history and performances"
   ]
  },
  {
   "cell_type": "code",
   "execution_count": 38,
   "metadata": {},
   "outputs": [],
   "source": [
    "h = final_model.history"
   ]
  },
  {
   "cell_type": "code",
   "execution_count": 59,
   "metadata": {},
   "outputs": [
    {
     "data": {
      "image/png": "[encoded data removed]",
      "text/plain": [
       "<Figure size 1440x720 with 2 Axes>"
      ]
     },
     "metadata": {
      "needs_background": "light"
     },
     "output_type": "display_data"
    }
   ],
   "source": [
    "plt.figure(figsize=(20,10))\n",
    "\n",
    "# use the test set and validate \n",
    "plt.subplot(121)\n",
    "\n",
    "# use the history metrics \n",
    "plt.plot(h.history['loss'])\n",
    "plt.plot(h.history['val_loss'])\n",
    "\n",
    "plt.ylabel('weighted crossentropy loss', fontsize=14)\n",
    "plt.xlabel('Epoch', fontsize=14)\n",
    "plt.xticks(fontsize=14)\n",
    "plt.yticks(fontsize=14)\n",
    "plt.legend(['train','validation'],fontsize=14);\n",
    "\n",
    "plt.subplot(122)\n",
    "# use the history metrics \n",
    "plt.plot(h.history['f1_score'])\n",
    "plt.plot(h.history['val_f1_score'])\n",
    "\n",
    "plt.ylabel('f1 measure',fontsize=14)\n",
    "plt.xlabel('Epoch',fontsize=14)\n",
    "plt.xticks(fontsize=14)\n",
    "plt.yticks(fontsize=14)\n",
    "plt.legend(['train','validation'], loc='lower right',fontsize=14);\n",
    "plt.show()"
   ]
  }
 ],
 "metadata": {
  "kernelspec": {
   "display_name": "Python 3",
   "language": "python",
   "name": "python3"
  },
  "language_info": {
   "codemirror_mode": {
    "name": "ipython",
    "version": 3
   },
   "file_extension": ".py",
   "mimetype": "text/x-python",
   "name": "python",
   "nbconvert_exporter": "python",
   "pygments_lexer": "ipython3",
   "version": "3.7.7"
  }
 },
 "nbformat": 4,
 "nbformat_minor": 4
}
