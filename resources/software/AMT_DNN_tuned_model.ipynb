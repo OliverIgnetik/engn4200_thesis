{
 "cells": [
  {
   "cell_type": "code",
   "execution_count": 1,
   "metadata": {},
   "outputs": [],
   "source": [
    "# basic imports\n",
    "import pandas as pd, matplotlib.pyplot as plt, numpy as np \n",
    "import IPython.display as ipd"
   ]
  },
  {
   "cell_type": "code",
   "execution_count": 2,
   "metadata": {},
   "outputs": [],
   "source": [
    "# librosa - for CQT and visualisation\n",
    "import librosa, librosa.display"
   ]
  },
  {
   "cell_type": "code",
   "execution_count": 3,
   "metadata": {},
   "outputs": [],
   "source": [
    "# Interval for label storage\n",
    "from intervaltree import Interval,IntervalTree"
   ]
  },
  {
   "cell_type": "markdown",
   "metadata": {},
   "source": [
    "# Neural Network model training"
   ]
  },
  {
   "cell_type": "markdown",
   "metadata": {},
   "source": [
    "## Import data"
   ]
  },
  {
   "cell_type": "code",
   "execution_count": 4,
   "metadata": {},
   "outputs": [
    {
     "data": {
      "text/plain": [
       "h5py._hl.files.File"
      ]
     },
     "execution_count": 4,
     "metadata": {},
     "output_type": "execute_result"
    }
   ],
   "source": [
    "# import h5py to read in hdf5 files \n",
    "import h5py\n",
    "\n",
    "filename ='musicnet.h5'\n",
    "music_net = h5py.File(filename,'r')\n",
    "type(music_net)"
   ]
  },
  {
   "cell_type": "code",
   "execution_count": 5,
   "metadata": {},
   "outputs": [
    {
     "data": {
      "text/plain": [
       "['id_1872',\n",
       " 'id_1873',\n",
       " 'id_1876',\n",
       " 'id_1893',\n",
       " 'id_1916',\n",
       " 'id_1918',\n",
       " 'id_1919',\n",
       " 'id_1922',\n",
       " 'id_1923',\n",
       " 'id_1931',\n",
       " 'id_1932',\n",
       " 'id_1933',\n",
       " 'id_2075',\n",
       " 'id_2076',\n",
       " 'id_2077',\n",
       " 'id_2078',\n",
       " 'id_2079',\n",
       " 'id_2080',\n",
       " 'id_2081',\n",
       " 'id_2082']"
      ]
     },
     "execution_count": 5,
     "metadata": {},
     "output_type": "execute_result"
    }
   ],
   "source": [
    "# extract 20 songs from the database \n",
    "n = 20\n",
    "i = 50 # start index\n",
    "source_list = list(music_net.keys())[i:n+i]\n",
    "source_list"
   ]
  },
  {
   "cell_type": "code",
   "execution_count": 6,
   "metadata": {},
   "outputs": [
    {
     "data": {
      "image/png": "[encoded data removed]",
      "text/plain": [
       "<Figure size 432x288 with 1 Axes>"
      ]
     },
     "metadata": {
      "needs_background": "light"
     },
     "output_type": "display_data"
    }
   ],
   "source": [
    "# plot the audio data for the third song \n",
    "librosa.display.waveplot(music_net[source_list[2]]['data'][()],\n",
    "                         sr=44100,\n",
    "                         x_axis= 'time');\n",
    "plt.ylabel('normalized mono channel');\n",
    "plt.title('waveform for song');"
   ]
  },
  {
   "cell_type": "markdown",
   "metadata": {},
   "source": [
    "## Preprocessing"
   ]
  },
  {
   "cell_type": "code",
   "execution_count": 7,
   "metadata": {},
   "outputs": [
    {
     "name": "stdout",
     "output_type": "stream",
     "text": [
      "initializing cqt transforms\n",
      "------------------------------------------------------------\n",
      "extracting data from id_1872\n",
      "extracting data from id_1873\n",
      "extracting data from id_1876\n",
      "extracting data from id_1893\n",
      "extracting data from id_1916\n",
      "extracting data from id_1918\n",
      "extracting data from id_1919\n",
      "extracting data from id_1922\n",
      "extracting data from id_1923\n",
      "extracting data from id_1931\n",
      "extracting data from id_1932\n",
      "extracting data from id_1933\n",
      "extracting data from id_2075\n",
      "extracting data from id_2076\n",
      "extracting data from id_2077\n",
      "extracting data from id_2078\n",
      "extracting data from id_2079\n",
      "extracting data from id_2080\n",
      "extracting data from id_2081\n",
      "extracting data from id_2082\n",
      "------------------------------------------------------------\n",
      "CQT transformation on each song complete\n",
      "------------------------------------------------------------\n",
      "CQT dimensions: [(15921, 252), (11458, 252), (11140, 252), (10183, 252), (21095, 252), (11474, 252), (13572, 252), (12564, 252), (12287, 252), (14735, 252), (7815, 252), (10989, 252), (10282, 252), (7735, 252), (7817, 252), (11125, 252), (8710, 252), (7310, 252), (9373, 252), (10682, 252)]\n"
     ]
    }
   ],
   "source": [
    "# init lists for storing results\n",
    "cqt_container = [] # array to store the cqt for each song\n",
    "cqt_shapes = [] # array to store the shapes of each cqt\n",
    "\n",
    "print('initializing cqt transforms')\n",
    "print('-'*60)\n",
    "for id_ in source_list:\n",
    "    print('extracting data from',id_)\n",
    "    # extract the mono audio data and labels\n",
    "    song = music_net[id_]\n",
    "    music = song['data'][()]\n",
    "\n",
    "    # downsampling\n",
    "    sr = 44100\n",
    "    sr_16k = 16000\n",
    "\n",
    "    # resample to 16kHz to increase the the number of cqt points\n",
    "    music = librosa.resample(music,sr,sr_16k)\n",
    "\n",
    "    # CQT parameters\n",
    "    sr_16k = sr_16k # downsampling to 16kHz\n",
    "    hop_length = 512 # 32ms frames  \n",
    "    bins_per_octave = 36 # corresponds to 7 octaves on the piano \n",
    "    # 7 x 36 = 252 number of bins \n",
    "    n_bins = 252 # frequency resolution \n",
    "    window = 'hann' # hanning window for smoothness\n",
    "\n",
    "    # CQT absolute magnitude \n",
    "    C = np.abs(librosa.cqt(music,\n",
    "                           sr = sr_16k , \n",
    "                           hop_length = hop_length,\n",
    "                           bins_per_octave = bins_per_octave,\n",
    "                           window = window,\n",
    "                           n_bins = n_bins))\n",
    "    # transpose to get the array in the correct format\n",
    "    C = np.transpose(C)\n",
    "    \n",
    "    # append the length of this cqt to the length array \n",
    "    cqt_shapes.append(C.shape)\n",
    "    \n",
    "    # append to container\n",
    "    cqt_container.append(C)\n",
    "\n",
    "print('-'*60)\n",
    "print('CQT transformation on each song complete')\n",
    "print('-'*60)\n",
    "print('CQT dimensions:', cqt_shapes)"
   ]
  },
  {
   "cell_type": "code",
   "execution_count": 8,
   "metadata": {},
   "outputs": [
    {
     "name": "stdout",
     "output_type": "stream",
     "text": [
      "constructing label vectors\n",
      "------------------------------------------------------------\n",
      "labels preprocessed\n",
      "------------------------------------------------------------\n",
      "labels dimensions: [(15921, 88), (11458, 88), (11140, 88), (10183, 88), (21095, 88), (11474, 88), (13572, 88), (12564, 88), (12287, 88), (14735, 88), (7815, 88), (10989, 88), (10282, 88), (7735, 88), (7817, 88), (11125, 88), (8710, 88), (7310, 88), (9373, 88), (10682, 88)]\n"
     ]
    }
   ],
   "source": [
    "# extract and format labels \n",
    "labels_container = [] # array to store the labels of each song\n",
    "labels_shapes = [] # array for storing label dimensions\n",
    "\n",
    "# set up params for labels \n",
    "number_of_notes = 88 ## 88 piano notes \n",
    "hop_length = 512 # 32ms frames  \n",
    "# counter to loop through cqt container \n",
    "i = 0 \n",
    "\n",
    "print('constructing label vectors')\n",
    "print('-'*60)\n",
    "\n",
    "for id_ in source_list:\n",
    "    # retrieve the song for this id \n",
    "    song = music_net[id_]\n",
    "    raw_labels = song['labels'][()]\n",
    "    \n",
    "    # number of frames in this song\n",
    "    number_frames = cqt_container[i].shape[0]\n",
    "    i += 1  \n",
    "    \n",
    "    # binary labels - one hot encoding\n",
    "    binary_labels = np.zeros((number_frames, number_of_notes))\n",
    "\n",
    "    # init tree for slicing\n",
    "    labels_tree = IntervalTree()\n",
    "    # construct interval tree \n",
    "    for label in raw_labels: \n",
    "        pitch = label['note_id']\n",
    "        start_time = label['start_time']\n",
    "        end_time = label['end_time']\n",
    "        labels_tree.addi(start_time,end_time,pitch)\n",
    "\n",
    "    # resample the labels by finding the number of frames per second\n",
    "    for frame in range(binary_labels.shape[0]):\n",
    "        # slice the interval tree for notes in this frame \n",
    "        labels = labels_tree.at(frame*hop_length)\n",
    "        for label in labels:\n",
    "            # the labels vector is from 0 to 87 \n",
    "            # 21 is the A0 on the piano\n",
    "            pitch = label[2]-21 \n",
    "            # if this pitch is active in this window \n",
    "            binary_labels[frame,pitch] = 1\n",
    "    \n",
    "    # append the binary_labels\n",
    "    labels_container.append(binary_labels)\n",
    "    # store label shapes \n",
    "    labels_shapes.append(binary_labels.shape)\n",
    "\n",
    "print('labels preprocessed')\n",
    "print('-'*60)\n",
    "print('labels dimensions:', labels_shapes)"
   ]
  },
  {
   "cell_type": "code",
   "execution_count": 81,
   "metadata": {},
   "outputs": [
    {
     "data": {
      "text/plain": [
       "(226267, 252)"
      ]
     },
     "execution_count": 81,
     "metadata": {},
     "output_type": "execute_result"
    }
   ],
   "source": [
    "# stack the containers vertically\n",
    "X = np.vstack(cqt_container)\n",
    "y = np.vstack(labels_container)\n",
    "X.shape"
   ]
  },
  {
   "cell_type": "code",
   "execution_count": 9,
   "metadata": {},
   "outputs": [],
   "source": [
    "# # save to txt files \n",
    "# np.save('preprocessed_cqt', X)\n",
    "# np.save('preprocessed_labels', y)"
   ]
  },
  {
   "cell_type": "code",
   "execution_count": 10,
   "metadata": {},
   "outputs": [],
   "source": [
    "# # load files\n",
    "# X = np.load('preprocessed_cqt.npy')\n",
    "# y = np.load('preprocessed_labels.npy')"
   ]
  },
  {
   "cell_type": "markdown",
   "metadata": {},
   "source": [
    "## train-test split and normalization"
   ]
  },
  {
   "cell_type": "code",
   "execution_count": 82,
   "metadata": {},
   "outputs": [],
   "source": [
    "# split into training and test \n",
    "from sklearn.model_selection import train_test_split\n",
    "\n",
    "# split into train, test and validation \n",
    "X_train_val, X_test, y_train_val, y_test = train_test_split(X, y, test_size = 0.2, random_state=42)\n",
    "# # need to set split = 0.25 to get 60-20-20 split \n",
    "X_train, X_val, y_train, y_val = train_test_split(X_train_val,y_train_val, test_size=0.25, random_state=42)"
   ]
  },
  {
   "cell_type": "code",
   "execution_count": 83,
   "metadata": {},
   "outputs": [],
   "source": [
    "# Normalization - to test sets having values \n",
    "# outside training test range\n",
    "max_train = X_train.max()\n",
    "min_train = X_train.min()\n",
    "max_val = X_val.max()\n",
    "min_val = X_val.min()\n",
    "max_test = X_test.max()\n",
    "min_test = X_test.min()\n",
    "\n",
    "# normalize\n",
    "X_val_norm = (X_val - min_train)/(max_train - min_train)\n",
    "X_test_norm = (X_test - min_train)/(max_train - min_train)\n",
    "X_train_norm = (X_train - min_train)/(max_train - min_train)\n",
    "\n",
    "# Compute the mean\n",
    "train_mean = np.mean(X_train_norm, axis = 0)\n",
    "\n",
    "# Substract it\n",
    "X_train_norm = X_train_norm - train_mean\n",
    "X_val_norm = X_val_norm - train_mean\n",
    "X_test_norm = X_test_norm - train_mean\n",
    "\n",
    "# reassign for easy interpretation \n",
    "X_train = X_train_norm\n",
    "X_val = X_val_norm\n",
    "X_test = X_test_norm"
   ]
  },
  {
   "cell_type": "markdown",
   "metadata": {},
   "source": [
    "## Multilabel architecture"
   ]
  },
  {
   "cell_type": "markdown",
   "metadata": {},
   "source": [
    "### model builder function"
   ]
  },
  {
   "cell_type": "code",
   "execution_count": 84,
   "metadata": {},
   "outputs": [],
   "source": [
    "# model definition  \n",
    "from keras.layers import Dense, Dropout\n",
    "from keras.models import Sequential \n",
    "import keras.optimizers as KO\n",
    "from keras.layers import BatchNormalization\n",
    "\n",
    "# default hyperparameters for model\n",
    "layers = 3 # layers of model \n",
    "nn = 256 # nodes\n",
    "lr = 0.001 # learning rate\n",
    "act ='relu' # activation functions\n",
    "drop = 0 # dropout rate to improve test error perf\n",
    "\n",
    "# default static parameters\n",
    "num_col = 252 # inputs \n",
    "output_nodes = 88 # outputs \n",
    "loss = 'binary_crossentropy' # loss function for use in back propagation\n",
    "\n",
    "# define model with params\n",
    "def create_model(layers=layers,nn=nn,lr=lr,act=act,drop=drop):  \n",
    "  # Create an Adam optimizer with the given learning rate\n",
    "  opt = KO.Adam(lr=lr)\n",
    "  # create model \n",
    "  model = Sequential()\n",
    "  # input layer\n",
    "  model.add(Dense(num_col,kernel_initializer='normal', \n",
    "                  activation=act ,input_shape=(num_col,)))\n",
    "  model.add(Dropout(drop))\n",
    "  model.add(BatchNormalization())\n",
    "    \n",
    "  for i in range(layers):\n",
    "    # layers with dropout and batch normalization \n",
    "    model.add(Dense(nn, activation=act,\n",
    "                    kernel_initializer = 'normal'))\n",
    "    model.add(Dropout(drop))\n",
    "    model.add(BatchNormalization())\n",
    "  \n",
    "  # output layer - we require a sigmoid activation function \n",
    "  model.add(Dense(output_nodes, activation='sigmoid',kernel_initializer='normal'))\n",
    "    \n",
    "  # compile model\n",
    "  model.compile(optimizer=opt,\n",
    "              loss=loss,\n",
    "              metrics=['acc'])\n",
    "    \n",
    "  return model"
   ]
  },
  {
   "cell_type": "markdown",
   "metadata": {},
   "source": [
    "### best model parameters obtained from grid search"
   ]
  },
  {
   "cell_type": "code",
   "execution_count": 85,
   "metadata": {},
   "outputs": [],
   "source": [
    "# best parameters for model\n",
    "layers = 3 \n",
    "nn = 128\n",
    "lr = 0.001 # try slightly different learning rate -> 0.1 was unstable \n",
    "act ='selu' \n",
    "drop = 0.2 # dropout may be causing instability\n",
    "\n",
    "# define model with best params from grid search to apply to unseen data\n",
    "model = create_model(layers=layers,\n",
    "                     nn=nn,\n",
    "                     lr=lr,\n",
    "                     act=act,\n",
    "                     drop=drop)\n",
    "\n",
    "# store the initial weights incase we want to rerun the model\n",
    "init_weights = model.get_weights()"
   ]
  },
  {
   "cell_type": "markdown",
   "metadata": {},
   "source": [
    "## Fit the model"
   ]
  },
  {
   "cell_type": "code",
   "execution_count": 86,
   "metadata": {},
   "outputs": [],
   "source": [
    "# Callbacks \n",
    "from keras.callbacks import EarlyStopping\n",
    "from keras.callbacks import ModelCheckpoint\n",
    "# early stop for overfitting\n",
    "early_stopping_monitor = EarlyStopping(patience=5,\n",
    "                                       mode='auto',\n",
    "                                       verbose=0,\n",
    "                                       min_delta=0,\n",
    "                                       monitor='val_loss')\n",
    "\n",
    "# this will save the best model and will not overwrite it\n",
    "model_save = ModelCheckpoint('AMT_DNN_HYPER.hdf5', monitor='val_loss', save_best_only=True)"
   ]
  },
  {
   "cell_type": "code",
   "execution_count": 89,
   "metadata": {},
   "outputs": [
    {
     "name": "stdout",
     "output_type": "stream",
     "text": [
      "Fitting model to training data\n",
      "------------------------------\n",
      "Train on 135759 samples, validate on 45254 samples\n",
      "Epoch 1/30\n",
      "135759/135759 [==============================] - 77s 567us/step - loss: 0.1564 - acc: 0.9480 - val_loss: 0.1128 - val_acc: 0.9663\n",
      "Epoch 2/30\n",
      "135759/135759 [==============================] - 76s 557us/step - loss: 0.1136 - acc: 0.9663 - val_loss: 0.1114 - val_acc: 0.9664\n",
      "Epoch 3/30\n",
      "135759/135759 [==============================] - 78s 572us/step - loss: 0.1121 - acc: 0.9663 - val_loss: 0.1105 - val_acc: 0.9664\n",
      "Epoch 4/30\n",
      "135759/135759 [==============================] - 82s 604us/step - loss: 0.1112 - acc: 0.9663 - val_loss: 0.1096 - val_acc: 0.9664\n",
      "Epoch 5/30\n",
      "135759/135759 [==============================] - 77s 564us/step - loss: 0.1104 - acc: 0.9663 - val_loss: 0.1089 - val_acc: 0.9664\n",
      "Epoch 6/30\n",
      "135759/135759 [==============================] - 77s 565us/step - loss: 0.1097 - acc: 0.9664 - val_loss: 0.1081 - val_acc: 0.9664\n",
      "Epoch 7/30\n",
      "135759/135759 [==============================] - 87s 642us/step - loss: 0.1091 - acc: 0.9664 - val_loss: 0.1074 - val_acc: 0.9665\n",
      "Epoch 8/30\n",
      "135759/135759 [==============================] - 92s 678us/step - loss: 0.1086 - acc: 0.9664 - val_loss: 0.1067 - val_acc: 0.9665\n",
      "Epoch 9/30\n",
      "135759/135759 [==============================] - 88s 648us/step - loss: 0.1081 - acc: 0.9664 - val_loss: 0.1061 - val_acc: 0.9665\n",
      "Epoch 10/30\n",
      "135759/135759 [==============================] - 90s 662us/step - loss: 0.1076 - acc: 0.9664 - val_loss: 0.1057 - val_acc: 0.9666\n",
      "Epoch 11/30\n",
      "135759/135759 [==============================] - 93s 685us/step - loss: 0.1072 - acc: 0.9664 - val_loss: 0.1051 - val_acc: 0.9666\n",
      "Epoch 12/30\n",
      "135759/135759 [==============================] - 90s 661us/step - loss: 0.1069 - acc: 0.9665 - val_loss: 0.1046 - val_acc: 0.9666\n",
      "Epoch 13/30\n",
      "135759/135759 [==============================] - 92s 678us/step - loss: 0.1065 - acc: 0.9665 - val_loss: 0.1042 - val_acc: 0.9667\n",
      "Epoch 14/30\n",
      "135759/135759 [==============================] - 94s 695us/step - loss: 0.1061 - acc: 0.9665 - val_loss: 0.1039 - val_acc: 0.9667\n",
      "Epoch 15/30\n",
      "135759/135759 [==============================] - 96s 706us/step - loss: 0.1059 - acc: 0.9665 - val_loss: 0.1033 - val_acc: 0.9667\n",
      "Epoch 16/30\n",
      "135759/135759 [==============================] - 94s 693us/step - loss: 0.1056 - acc: 0.9666 - val_loss: 0.1030 - val_acc: 0.9668\n",
      "Epoch 17/30\n",
      "135759/135759 [==============================] - 97s 714us/step - loss: 0.1054 - acc: 0.9666 - val_loss: 0.1027 - val_acc: 0.9669\n",
      "Epoch 18/30\n",
      "135759/135759 [==============================] - 95s 698us/step - loss: 0.1051 - acc: 0.9666 - val_loss: 0.1023 - val_acc: 0.9669\n",
      "Epoch 19/30\n",
      "135759/135759 [==============================] - 96s 711us/step - loss: 0.1049 - acc: 0.9666 - val_loss: 0.1025 - val_acc: 0.9668\n",
      "Epoch 20/30\n",
      "135759/135759 [==============================] - 99s 726us/step - loss: 0.1047 - acc: 0.9666 - val_loss: 0.1017 - val_acc: 0.9669\n",
      "Epoch 21/30\n",
      "135759/135759 [==============================] - 93s 686us/step - loss: 0.1045 - acc: 0.9667 - val_loss: 0.1014 - val_acc: 0.9670\n",
      "Epoch 22/30\n",
      "135759/135759 [==============================] - 98s 723us/step - loss: 0.1044 - acc: 0.9667 - val_loss: 0.1014 - val_acc: 0.9669\n",
      "Epoch 23/30\n",
      "135759/135759 [==============================] - 106s 779us/step - loss: 0.1041 - acc: 0.9667 - val_loss: 0.1012 - val_acc: 0.9670\n",
      "Epoch 24/30\n",
      "135759/135759 [==============================] - 103s 757us/step - loss: 0.1040 - acc: 0.9667 - val_loss: 0.1008 - val_acc: 0.9671\n",
      "Epoch 25/30\n",
      "135759/135759 [==============================] - 101s 747us/step - loss: 0.1038 - acc: 0.9667 - val_loss: 0.1005 - val_acc: 0.9671\n",
      "Epoch 26/30\n",
      "135759/135759 [==============================] - 102s 751us/step - loss: 0.1037 - acc: 0.9667 - val_loss: 0.1003 - val_acc: 0.9671\n",
      "Epoch 27/30\n",
      "135759/135759 [==============================] - 110s 807us/step - loss: 0.1035 - acc: 0.9668 - val_loss: 0.1002 - val_acc: 0.9672\n",
      "Epoch 28/30\n",
      "135759/135759 [==============================] - 116s 856us/step - loss: 0.1034 - acc: 0.9668 - val_loss: 0.0999 - val_acc: 0.9672\n",
      "Epoch 29/30\n",
      "135759/135759 [==============================] - 105s 773us/step - loss: 0.1033 - acc: 0.9668 - val_loss: 0.0999 - val_acc: 0.9672\n",
      "Epoch 30/30\n",
      "135759/135759 [==============================] - 102s 752us/step - loss: 0.1032 - acc: 0.9668 - val_loss: 0.0996 - val_acc: 0.9672\n",
      "------------------------------\n",
      "Model fitted to training data\n"
     ]
    }
   ],
   "source": [
    "# set weights\n",
    "model.set_weights(init_weights)\n",
    "\n",
    "# set best params\n",
    "# batch size and epoch\n",
    "batch_size = 200 # mini batch size - compromise between efficiency and error\n",
    "epochs = 30 # number of times to iterate through the dataset\n",
    "\n",
    "# fit the model\n",
    "print('Fitting model to training data')\n",
    "print('------------------------------')\n",
    "model.fit(X_train,y_train,validation_data=(X_val, y_val),\n",
    "                    epochs=epochs, batch_size=batch_size,\n",
    "                    callbacks=[early_stopping_monitor, model_save], \n",
    "                    verbose=1)\n",
    "print('------------------------------')\n",
    "print('Model fitted to training data')"
   ]
  },
  {
   "cell_type": "markdown",
   "metadata": {},
   "source": [
    "### Model history"
   ]
  },
  {
   "cell_type": "code",
   "execution_count": 90,
   "metadata": {},
   "outputs": [],
   "source": [
    "h = model.history"
   ]
  },
  {
   "cell_type": "code",
   "execution_count": 91,
   "metadata": {},
   "outputs": [
    {
     "data": {
      "image/png": "[encoded data removed]",
      "text/plain": [
       "<Figure size 432x288 with 1 Axes>"
      ]
     },
     "metadata": {
      "needs_background": "light"
     },
     "output_type": "display_data"
    },
    {
     "data": {
      "image/png": "[encoded data removed]",
      "text/plain": [
       "<Figure size 432x288 with 1 Axes>"
      ]
     },
     "metadata": {
      "needs_background": "light"
     },
     "output_type": "display_data"
    }
   ],
   "source": [
    "# use the test set and validate \n",
    "plt.figure()\n",
    "\n",
    "# use the history metrics \n",
    "plt.plot(h.history['loss'])\n",
    "plt.plot(h.history['val_loss'])\n",
    "\n",
    "plt.title('model performance')\n",
    "plt.ylabel('binary cross entropy')\n",
    "plt.xlabel('Epoch')\n",
    "plt.legend(['train','validation']);\n",
    "plt.show()\n",
    "\n",
    "# use the test set and validate \n",
    "plt.figure()\n",
    "\n",
    "# use the history metrics \n",
    "plt.plot(h.history['acc'])\n",
    "plt.plot(h.history['val_acc'])\n",
    "\n",
    "plt.title('model performance')\n",
    "plt.ylabel('accuracy')\n",
    "plt.xlabel('Epoch')\n",
    "plt.legend(['train','validation']);\n",
    "plt.show()"
   ]
  },
  {
   "cell_type": "code",
   "execution_count": 19,
   "metadata": {},
   "outputs": [],
   "source": [
    "# # save the trained model \n",
    "# model.save('AMT_trained_DNN_trial_model.h5')\n",
    "# print('model saved')"
   ]
  },
  {
   "cell_type": "markdown",
   "metadata": {},
   "source": [
    "## model evaluation on test set (unseen data) "
   ]
  },
  {
   "cell_type": "code",
   "execution_count": 20,
   "metadata": {},
   "outputs": [],
   "source": [
    "# # load keras model \n",
    "# from keras.models import load_model \n",
    "# model = load_model('AMT_trained_DNN_trial_model.h5')"
   ]
  },
  {
   "cell_type": "code",
   "execution_count": 92,
   "metadata": {},
   "outputs": [
    {
     "name": "stdout",
     "output_type": "stream",
     "text": [
      "45254/45254 [==============================] - 13s 291us/step\n",
      "test loss : 0.09982186777499666, test accuracy : 0.9670782537868526\n"
     ]
    }
   ],
   "source": [
    "# batch size is default = 32 for testing\n",
    "val_loss,val_acc = model.evaluate(X_test,y_test)\n",
    "print('test loss : {}, test accuracy : {}'.format(val_loss,val_acc))"
   ]
  },
  {
   "cell_type": "markdown",
   "metadata": {},
   "source": [
    "## model details "
   ]
  },
  {
   "cell_type": "code",
   "execution_count": 73,
   "metadata": {},
   "outputs": [
    {
     "data": {
      "text/plain": [
       "'binary_crossentropy'"
      ]
     },
     "execution_count": 73,
     "metadata": {},
     "output_type": "execute_result"
    }
   ],
   "source": [
    "model.loss"
   ]
  },
  {
   "cell_type": "code",
   "execution_count": 74,
   "metadata": {},
   "outputs": [
    {
     "data": {
      "text/plain": [
       "['acc']"
      ]
     },
     "execution_count": 74,
     "metadata": {},
     "output_type": "execute_result"
    }
   ],
   "source": [
    "model.metrics"
   ]
  },
  {
   "cell_type": "code",
   "execution_count": 75,
   "metadata": {},
   "outputs": [
    {
     "data": {
      "text/plain": [
       "{'name': 'sequential_11',\n",
       " 'layers': [{'class_name': 'Dense',\n",
       "   'config': {'name': 'dense_51',\n",
       "    'trainable': True,\n",
       "    'batch_input_shape': (None, 252),\n",
       "    'dtype': 'float32',\n",
       "    'units': 252,\n",
       "    'activation': 'selu',\n",
       "    'use_bias': True,\n",
       "    'kernel_initializer': {'class_name': 'RandomNormal',\n",
       "     'config': {'mean': 0.0, 'stddev': 0.05, 'seed': None}},\n",
       "    'bias_initializer': {'class_name': 'Zeros', 'config': {}},\n",
       "    'kernel_regularizer': None,\n",
       "    'bias_regularizer': None,\n",
       "    'activity_regularizer': None,\n",
       "    'kernel_constraint': None,\n",
       "    'bias_constraint': None}},\n",
       "  {'class_name': 'Dropout',\n",
       "   'config': {'name': 'dropout_33',\n",
       "    'trainable': True,\n",
       "    'rate': 0.2,\n",
       "    'noise_shape': None,\n",
       "    'seed': None}},\n",
       "  {'class_name': 'BatchNormalization',\n",
       "   'config': {'name': 'batch_normalization_25',\n",
       "    'trainable': True,\n",
       "    'axis': -1,\n",
       "    'momentum': 0.99,\n",
       "    'epsilon': 0.001,\n",
       "    'center': True,\n",
       "    'scale': True,\n",
       "    'beta_initializer': {'class_name': 'Zeros', 'config': {}},\n",
       "    'gamma_initializer': {'class_name': 'Ones', 'config': {}},\n",
       "    'moving_mean_initializer': {'class_name': 'Zeros', 'config': {}},\n",
       "    'moving_variance_initializer': {'class_name': 'Ones', 'config': {}},\n",
       "    'beta_regularizer': None,\n",
       "    'gamma_regularizer': None,\n",
       "    'beta_constraint': None,\n",
       "    'gamma_constraint': None}},\n",
       "  {'class_name': 'Dense',\n",
       "   'config': {'name': 'dense_52',\n",
       "    'trainable': True,\n",
       "    'units': 128,\n",
       "    'activation': 'selu',\n",
       "    'use_bias': True,\n",
       "    'kernel_initializer': {'class_name': 'RandomNormal',\n",
       "     'config': {'mean': 0.0, 'stddev': 0.05, 'seed': None}},\n",
       "    'bias_initializer': {'class_name': 'Zeros', 'config': {}},\n",
       "    'kernel_regularizer': None,\n",
       "    'bias_regularizer': None,\n",
       "    'activity_regularizer': None,\n",
       "    'kernel_constraint': None,\n",
       "    'bias_constraint': None}},\n",
       "  {'class_name': 'Dropout',\n",
       "   'config': {'name': 'dropout_34',\n",
       "    'trainable': True,\n",
       "    'rate': 0.2,\n",
       "    'noise_shape': None,\n",
       "    'seed': None}},\n",
       "  {'class_name': 'BatchNormalization',\n",
       "   'config': {'name': 'batch_normalization_26',\n",
       "    'trainable': True,\n",
       "    'axis': -1,\n",
       "    'momentum': 0.99,\n",
       "    'epsilon': 0.001,\n",
       "    'center': True,\n",
       "    'scale': True,\n",
       "    'beta_initializer': {'class_name': 'Zeros', 'config': {}},\n",
       "    'gamma_initializer': {'class_name': 'Ones', 'config': {}},\n",
       "    'moving_mean_initializer': {'class_name': 'Zeros', 'config': {}},\n",
       "    'moving_variance_initializer': {'class_name': 'Ones', 'config': {}},\n",
       "    'beta_regularizer': None,\n",
       "    'gamma_regularizer': None,\n",
       "    'beta_constraint': None,\n",
       "    'gamma_constraint': None}},\n",
       "  {'class_name': 'Dense',\n",
       "   'config': {'name': 'dense_53',\n",
       "    'trainable': True,\n",
       "    'units': 128,\n",
       "    'activation': 'selu',\n",
       "    'use_bias': True,\n",
       "    'kernel_initializer': {'class_name': 'RandomNormal',\n",
       "     'config': {'mean': 0.0, 'stddev': 0.05, 'seed': None}},\n",
       "    'bias_initializer': {'class_name': 'Zeros', 'config': {}},\n",
       "    'kernel_regularizer': None,\n",
       "    'bias_regularizer': None,\n",
       "    'activity_regularizer': None,\n",
       "    'kernel_constraint': None,\n",
       "    'bias_constraint': None}},\n",
       "  {'class_name': 'Dropout',\n",
       "   'config': {'name': 'dropout_35',\n",
       "    'trainable': True,\n",
       "    'rate': 0.2,\n",
       "    'noise_shape': None,\n",
       "    'seed': None}},\n",
       "  {'class_name': 'BatchNormalization',\n",
       "   'config': {'name': 'batch_normalization_27',\n",
       "    'trainable': True,\n",
       "    'axis': -1,\n",
       "    'momentum': 0.99,\n",
       "    'epsilon': 0.001,\n",
       "    'center': True,\n",
       "    'scale': True,\n",
       "    'beta_initializer': {'class_name': 'Zeros', 'config': {}},\n",
       "    'gamma_initializer': {'class_name': 'Ones', 'config': {}},\n",
       "    'moving_mean_initializer': {'class_name': 'Zeros', 'config': {}},\n",
       "    'moving_variance_initializer': {'class_name': 'Ones', 'config': {}},\n",
       "    'beta_regularizer': None,\n",
       "    'gamma_regularizer': None,\n",
       "    'beta_constraint': None,\n",
       "    'gamma_constraint': None}},\n",
       "  {'class_name': 'Dense',\n",
       "   'config': {'name': 'dense_54',\n",
       "    'trainable': True,\n",
       "    'units': 128,\n",
       "    'activation': 'selu',\n",
       "    'use_bias': True,\n",
       "    'kernel_initializer': {'class_name': 'RandomNormal',\n",
       "     'config': {'mean': 0.0, 'stddev': 0.05, 'seed': None}},\n",
       "    'bias_initializer': {'class_name': 'Zeros', 'config': {}},\n",
       "    'kernel_regularizer': None,\n",
       "    'bias_regularizer': None,\n",
       "    'activity_regularizer': None,\n",
       "    'kernel_constraint': None,\n",
       "    'bias_constraint': None}},\n",
       "  {'class_name': 'Dropout',\n",
       "   'config': {'name': 'dropout_36',\n",
       "    'trainable': True,\n",
       "    'rate': 0.2,\n",
       "    'noise_shape': None,\n",
       "    'seed': None}},\n",
       "  {'class_name': 'BatchNormalization',\n",
       "   'config': {'name': 'batch_normalization_28',\n",
       "    'trainable': True,\n",
       "    'axis': -1,\n",
       "    'momentum': 0.99,\n",
       "    'epsilon': 0.001,\n",
       "    'center': True,\n",
       "    'scale': True,\n",
       "    'beta_initializer': {'class_name': 'Zeros', 'config': {}},\n",
       "    'gamma_initializer': {'class_name': 'Ones', 'config': {}},\n",
       "    'moving_mean_initializer': {'class_name': 'Zeros', 'config': {}},\n",
       "    'moving_variance_initializer': {'class_name': 'Ones', 'config': {}},\n",
       "    'beta_regularizer': None,\n",
       "    'gamma_regularizer': None,\n",
       "    'beta_constraint': None,\n",
       "    'gamma_constraint': None}},\n",
       "  {'class_name': 'Dense',\n",
       "   'config': {'name': 'dense_55',\n",
       "    'trainable': True,\n",
       "    'units': 88,\n",
       "    'activation': 'sigmoid',\n",
       "    'use_bias': True,\n",
       "    'kernel_initializer': {'class_name': 'RandomNormal',\n",
       "     'config': {'mean': 0.0, 'stddev': 0.05, 'seed': None}},\n",
       "    'bias_initializer': {'class_name': 'Zeros', 'config': {}},\n",
       "    'kernel_regularizer': None,\n",
       "    'bias_regularizer': None,\n",
       "    'activity_regularizer': None,\n",
       "    'kernel_constraint': None,\n",
       "    'bias_constraint': None}}]}"
      ]
     },
     "execution_count": 75,
     "metadata": {},
     "output_type": "execute_result"
    }
   ],
   "source": [
    "model.get_config()"
   ]
  },
  {
   "cell_type": "code",
   "execution_count": null,
   "metadata": {},
   "outputs": [],
   "source": []
  }
 ],
 "metadata": {
  "kernelspec": {
   "display_name": "Python 3",
   "language": "python",
   "name": "python3"
  },
  "language_info": {
   "codemirror_mode": {
    "name": "ipython",
    "version": 3
   },
   "file_extension": ".py",
   "mimetype": "text/x-python",
   "name": "python",
   "nbconvert_exporter": "python",
   "pygments_lexer": "ipython3",
   "version": "3.7.3"
  }
 },
 "nbformat": 4,
 "nbformat_minor": 4
}
