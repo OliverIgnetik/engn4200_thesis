{
 "cells": [
  {
   "cell_type": "code",
   "execution_count": 7,
   "metadata": {},
   "outputs": [],
   "source": [
    "import scipy, librosa\n",
    "import librosa.display\n",
    "import pandas as pd\n",
    "import numpy as np \n",
    "import matplotlib.pyplot as plt\n",
    "import IPython.display as ipd \n",
    "from glob import glob"
   ]
  },
  {
   "cell_type": "markdown",
   "metadata": {},
   "source": [
    "# TEMPOGRAM"
   ]
  },
  {
   "cell_type": "code",
   "execution_count": 8,
   "metadata": {},
   "outputs": [
    {
     "ename": "IndexError",
     "evalue": "list index out of range",
     "output_type": "error",
     "traceback": [
      "\u001b[1;31m---------------------------------------------------------------------------\u001b[0m",
      "\u001b[1;31mIndexError\u001b[0m                                Traceback (most recent call last)",
      "\u001b[1;32m<ipython-input-8-699dc4653f8f>\u001b[0m in \u001b[0;36m<module>\u001b[1;34m\u001b[0m\n\u001b[0;32m      2\u001b[0m \u001b[1;33m\u001b[0m\u001b[0m\n\u001b[0;32m      3\u001b[0m \u001b[0maudio_files\u001b[0m \u001b[1;33m=\u001b[0m \u001b[0mglob\u001b[0m\u001b[1;33m(\u001b[0m\u001b[1;34m'*.mp3'\u001b[0m\u001b[1;33m)\u001b[0m\u001b[1;33m\u001b[0m\u001b[1;33m\u001b[0m\u001b[0m\n\u001b[1;32m----> 4\u001b[1;33m \u001b[0mx\u001b[0m \u001b[1;33m,\u001b[0m \u001b[0msr\u001b[0m \u001b[1;33m=\u001b[0m \u001b[0mlibrosa\u001b[0m\u001b[1;33m.\u001b[0m\u001b[0mload\u001b[0m\u001b[1;33m(\u001b[0m\u001b[0maudio_files\u001b[0m\u001b[1;33m[\u001b[0m\u001b[1;36m0\u001b[0m\u001b[1;33m]\u001b[0m\u001b[1;33m)\u001b[0m\u001b[1;33m\u001b[0m\u001b[1;33m\u001b[0m\u001b[0m\n\u001b[0m\u001b[0;32m      5\u001b[0m \u001b[1;33m\u001b[0m\u001b[0m\n\u001b[0;32m      6\u001b[0m \u001b[1;31m# Convert interval into frame numbers for slicing a part of the song\u001b[0m\u001b[1;33m\u001b[0m\u001b[1;33m\u001b[0m\u001b[1;33m\u001b[0m\u001b[0m\n",
      "\u001b[1;31mIndexError\u001b[0m: list index out of range"
     ]
    }
   ],
   "source": [
    "# total number of samples \n",
    "\n",
    "audio_files = glob('*.mp3')\n",
    "x , sr = librosa.load(audio_files[0])\n",
    "\n",
    "# Convert interval into frame numbers for slicing a part of the song\n",
    "start = 40 \n",
    "end = 50\n",
    "sample_progression = librosa.time_to_samples(np.arange(start,end,1), sr = sr)\n",
    "#  grab the starting and ending frames\n",
    "start_sample = sample_progression[0]\n",
    "end_sample = sample_progression[-1]\n",
    "\n",
    "sample = x[start_sample:end_sample]"
   ]
  },
  {
   "cell_type": "code",
   "execution_count": null,
   "metadata": {},
   "outputs": [],
   "source": [
    "# Checking the audio\n",
    "ipd.Audio(sample, rate=sr)"
   ]
  },
  {
   "cell_type": "code",
   "execution_count": null,
   "metadata": {},
   "outputs": [],
   "source": [
    "# Compute local onset autocorrelation\n",
    "\n",
    "hop_length = 512\n",
    "oenv = librosa.onset.onset_strength(y=sample, sr=sr, hop_length=hop_length)\n",
    "tempogram = librosa.feature.tempogram(onset_envelope=oenv, sr=sr,\n",
    "                                       hop_length=hop_length)\n",
    "# Compute global onset autocorrelation\n",
    "ac_global = librosa.autocorrelate(oenv, max_size=tempogram.shape[0])\n",
    "ac_global = librosa.util.normalize(ac_global)\n",
    "# Estimate the global tempo for display purposes\n",
    "tempo = librosa.beat.tempo(onset_envelope=oenv, sr=sr, hop_length=hop_length)[0]"
   ]
  },
  {
   "cell_type": "code",
   "execution_count": null,
   "metadata": {},
   "outputs": [],
   "source": [
    "import matplotlib.pyplot as plt\n",
    "plt.figure(figsize=(8, 8))\n",
    "plt.subplot(4, 1, 1)\n",
    "plt.plot(oenv, label='Onset strength')\n",
    "plt.xticks([])\n",
    "plt.legend(frameon=True)\n",
    "plt.axis('tight')\n",
    "plt.subplot(4, 1, 2)\n",
    "# We'll truncate the display to a narrower range of tempi\n",
    "librosa.display.specshow(tempogram, sr=sr, hop_length=hop_length,\n",
    "                         x_axis='time', y_axis='tempo')\n",
    "plt.axhline(tempo, color='w', linestyle='--', alpha=1,\n",
    "            label='Estimated tempo={:g}'.format(tempo))\n",
    "plt.legend(frameon=True, framealpha=0.75)\n",
    "plt.subplot(4, 1, 3)\n",
    "x = np.linspace(0, tempogram.shape[0] * float(hop_length) / sr,\n",
    "                num=tempogram.shape[0])\n",
    "plt.plot(x, np.mean(tempogram, axis=1), label='Mean local autocorrelation')\n",
    "plt.plot(x, ac_global, '--', alpha=0.75, label='Global autocorrelation')\n",
    "plt.xlabel('Lag (seconds)')\n",
    "plt.axis('tight')\n",
    "plt.legend(frameon=True)\n",
    "plt.subplot(4,1,4)\n",
    "# We can also plot on a BPM axis\n",
    "freqs = librosa.tempo_frequencies(tempogram.shape[0], hop_length=hop_length, sr=sr)\n",
    "plt.semilogx(freqs[1:], np.mean(tempogram[1:], axis=1),\n",
    "             label='Mean local autocorrelation', basex=2)\n",
    "plt.semilogx(freqs[1:], ac_global[1:], '--', alpha=0.75,\n",
    "             label='Global autocorrelation', basex=2)\n",
    "plt.axvline(tempo, color='black', linestyle='--', alpha=.8,\n",
    "            label='Estimated tempo={:g}'.format(tempo))\n",
    "plt.legend(frameon=True)\n",
    "plt.xlabel('BPM')\n",
    "plt.axis('tight')\n",
    "plt.grid()\n",
    "plt.tight_layout()\n",
    "plt.show()\n"
   ]
  }
 ],
 "metadata": {
  "kernelspec": {
   "display_name": "Python 3",
   "language": "python",
   "name": "python3"
  },
  "language_info": {
   "codemirror_mode": {
    "name": "ipython",
    "version": 3
   },
   "file_extension": ".py",
   "mimetype": "text/x-python",
   "name": "python",
   "nbconvert_exporter": "python",
   "pygments_lexer": "ipython3",
   "version": "3.7.3"
  }
 },
 "nbformat": 4,
 "nbformat_minor": 4
}
