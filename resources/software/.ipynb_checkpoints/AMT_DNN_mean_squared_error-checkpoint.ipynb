{
 "cells": [
  {
   "cell_type": "code",
   "execution_count": 91,
   "metadata": {},
   "outputs": [],
   "source": [
    "# basic imports\n",
    "import pandas as pd, matplotlib.pyplot as plt, numpy as np \n",
    "import IPython.display as ipd"
   ]
  },
  {
   "cell_type": "code",
   "execution_count": 92,
   "metadata": {},
   "outputs": [],
   "source": [
    "# librosa - for CQT and visualisation\n",
    "import librosa, librosa.display"
   ]
  },
  {
   "cell_type": "code",
   "execution_count": 93,
   "metadata": {},
   "outputs": [],
   "source": [
    "# Interval for label storage\n",
    "from intervaltree import Interval,IntervalTree"
   ]
  },
  {
   "cell_type": "markdown",
   "metadata": {},
   "source": [
    "# Neural Network"
   ]
  },
  {
   "cell_type": "markdown",
   "metadata": {},
   "source": [
    "## Import data"
   ]
  },
  {
   "cell_type": "code",
   "execution_count": 94,
   "metadata": {},
   "outputs": [
    {
     "data": {
      "text/plain": [
       "h5py._hl.files.File"
      ]
     },
     "execution_count": 94,
     "metadata": {},
     "output_type": "execute_result"
    }
   ],
   "source": [
    "# import h5py to read in hdf5 files \n",
    "import h5py\n",
    "\n",
    "filename ='musicnet.h5'\n",
    "music_net = h5py.File(filename,'r')\n",
    "type(music_net)"
   ]
  },
  {
   "cell_type": "code",
   "execution_count": 95,
   "metadata": {},
   "outputs": [
    {
     "data": {
      "text/plain": [
       "['id_1727', 'id_1728', 'id_1729', 'id_1730', 'id_1733']"
      ]
     },
     "execution_count": 95,
     "metadata": {},
     "output_type": "execute_result"
    }
   ],
   "source": [
    "# extract n songs from the database\n",
    "n=5\n",
    "source_list = list(music_net.keys())[:n]\n",
    "source_list"
   ]
  },
  {
   "cell_type": "markdown",
   "metadata": {},
   "source": [
    "## Preprocessing"
   ]
  },
  {
   "cell_type": "code",
   "execution_count": 96,
   "metadata": {},
   "outputs": [
    {
     "name": "stdout",
     "output_type": "stream",
     "text": [
      "initializing cqt transforms\n",
      "------------------------------------------------------------\n",
      "extracting data from id_1727\n",
      "extracting data from id_1728\n",
      "extracting data from id_1729\n",
      "extracting data from id_1730\n",
      "extracting data from id_1733\n",
      "------------------------------------------------------------\n",
      "CQT transformation on each song complete\n",
      "------------------------------------------------------------\n",
      "CQT dimensions: [(13971, 252), (7849, 252), (13891, 252), (11517, 252), (17063, 252)]\n"
     ]
    }
   ],
   "source": [
    "# init lists for storing results\n",
    "cqt_container = [] # array to store the cqt for each song\n",
    "cqt_shapes = [] # array to store the shapes of each cqt\n",
    "\n",
    "print('initializing cqt transforms')\n",
    "print('-'*60)\n",
    "for id_ in source_list:\n",
    "    print('extracting data from',id_)\n",
    "    # extract the mono audio data and labels\n",
    "    song = music_net[id_]\n",
    "    music = song['data'][()]\n",
    "\n",
    "    # downsampling\n",
    "    sr = 44100\n",
    "    sr_16k = 16000\n",
    "\n",
    "    # resample to 16kHz to increase the the number of cqt points\n",
    "    music = librosa.resample(music,sr,sr_16k)\n",
    "\n",
    "    # CQT parameters\n",
    "    sr_16k = sr_16k # downsampling to 16kHz\n",
    "    hop_length = 512 # 32ms frames  \n",
    "    bins_per_octave = 36 # corresponds to 7 octaves on the piano \n",
    "    # 7 x 36 = 252 number of bins \n",
    "    n_bins = 252 # frequency resolution \n",
    "    window = 'hann' # hanning window for smoothness\n",
    "\n",
    "    # CQT absolute magnitude \n",
    "    C = np.abs(librosa.cqt(music,\n",
    "                           sr = sr_16k , \n",
    "                           hop_length = hop_length,\n",
    "                           bins_per_octave = bins_per_octave,\n",
    "                           window = window,\n",
    "                           n_bins = n_bins))\n",
    "    # transpose to get the array in the correct format\n",
    "    C = np.transpose(C)\n",
    "    \n",
    "    # append the length of this cqt to the length array \n",
    "    cqt_shapes.append(C.shape)\n",
    "    \n",
    "    # append to container\n",
    "    cqt_container.append(C)\n",
    "\n",
    "print('-'*60)\n",
    "print('CQT transformation on each song complete')\n",
    "print('-'*60)\n",
    "print('CQT dimensions:', cqt_shapes)"
   ]
  },
  {
   "cell_type": "code",
   "execution_count": 97,
   "metadata": {},
   "outputs": [
    {
     "name": "stdout",
     "output_type": "stream",
     "text": [
      "constructing label vectors\n",
      "------------------------------------------------------------\n",
      "labels preprocessed\n",
      "------------------------------------------------------------\n",
      "labels dimensions: [(13971, 88), (7849, 88), (13891, 88), (11517, 88), (17063, 88)]\n"
     ]
    }
   ],
   "source": [
    "# extract and format labels \n",
    "labels_container = [] # array to store the labels of each song\n",
    "labels_shapes = [] # array for storing label dimensions\n",
    "\n",
    "# set up params for labels \n",
    "number_of_notes = 88 ## 88 piano notes \n",
    "hop_length = 512 # 32ms frames  \n",
    "# counter to loop through cqt container \n",
    "i = 0 \n",
    "\n",
    "print('constructing label vectors')\n",
    "print('-'*60)\n",
    "\n",
    "for id_ in source_list:\n",
    "    # retrieve the song for this id \n",
    "    song = music_net[id_]\n",
    "    raw_labels = song['labels'][()]\n",
    "    \n",
    "    # number of frames in this song\n",
    "    number_frames = cqt_container[i].shape[0]\n",
    "    i += 1  \n",
    "    \n",
    "    # binary labels - one hot encoding\n",
    "    binary_labels = np.zeros((number_frames, number_of_notes))\n",
    "\n",
    "    # init tree for slicing\n",
    "    labels_tree = IntervalTree()\n",
    "    # construct interval tree \n",
    "    for label in raw_labels: \n",
    "        pitch = label['note_id']\n",
    "        start_time = label['start_time']\n",
    "        end_time = label['end_time']\n",
    "        labels_tree.addi(start_time,end_time,pitch)\n",
    "\n",
    "    # resample the labels by finding the number of frames per second\n",
    "    for frame in range(binary_labels.shape[0]):\n",
    "        # slice the interval tree for notes in this frame \n",
    "        labels = labels_tree.at(frame*hop_length)\n",
    "        for label in labels:\n",
    "            # the labels vector is from 0 to 87 \n",
    "            # 21 is the A0 on the piano\n",
    "            pitch = label[2]-21 \n",
    "            # if this pitch is active in this window \n",
    "            binary_labels[frame,pitch] = 1\n",
    "    \n",
    "    # append the binary_labels\n",
    "    labels_container.append(binary_labels)\n",
    "    # store label shapes \n",
    "    labels_shapes.append(binary_labels.shape)\n",
    "\n",
    "print('labels preprocessed')\n",
    "print('-'*60)\n",
    "print('labels dimensions:', labels_shapes)"
   ]
  },
  {
   "cell_type": "code",
   "execution_count": 98,
   "metadata": {},
   "outputs": [
    {
     "data": {
      "text/plain": [
       "(64291, 252)"
      ]
     },
     "execution_count": 98,
     "metadata": {},
     "output_type": "execute_result"
    }
   ],
   "source": [
    "# stack the containers vertically\n",
    "X = np.vstack(cqt_container)\n",
    "y = np.vstack(labels_container)\n",
    "X.shape"
   ]
  },
  {
   "cell_type": "code",
   "execution_count": 9,
   "metadata": {},
   "outputs": [],
   "source": [
    "# # save to txt files \n",
    "# np.save('preprocessed_cqt', X)\n",
    "# np.save('preprocessed_labels', y)"
   ]
  },
  {
   "cell_type": "code",
   "execution_count": 10,
   "metadata": {},
   "outputs": [],
   "source": [
    "# # load files\n",
    "# X = np.load('preprocessed_cqt.npy')\n",
    "# y = np.load('preprocessed_labels.npy')"
   ]
  },
  {
   "cell_type": "markdown",
   "metadata": {},
   "source": [
    "## train-test split and normalization "
   ]
  },
  {
   "cell_type": "code",
   "execution_count": 99,
   "metadata": {},
   "outputs": [],
   "source": [
    "# split into training and test \n",
    "from sklearn.model_selection import train_test_split\n",
    "\n",
    "# split into train, test and validation \n",
    "X_train_val, X_test, y_train_val, y_test = train_test_split(X, y, test_size = 0.2, random_state=42)\n",
    "# # need to set split = 0.25 to get 60-20-20 split \n",
    "X_train, X_val, y_train, y_val = train_test_split(X_train_val,y_train_val, test_size=0.25, random_state=42)"
   ]
  },
  {
   "cell_type": "code",
   "execution_count": 100,
   "metadata": {},
   "outputs": [],
   "source": [
    "# Normalization \n",
    "max_train = X_train.max()\n",
    "min_train = X_train.min()\n",
    "max_val = X_val.max()\n",
    "min_val = X_val.min()\n",
    "max_test = X_test.max()\n",
    "min_test = X_test.min()\n",
    "\n",
    "X_val_norm = (X_val - min_train)/(max_train - min_train)\n",
    "X_test_norm = (X_test - min_train)/(max_train - min_train)\n",
    "X_train_norm = (X_train - min_train)/(max_train - min_train)\n",
    "\n",
    "# Compute the mean\n",
    "train_mean = np.mean(X_train_norm, axis = 0)\n",
    "\n",
    "# Subtract it\n",
    "X_train_norm = X_train_norm - train_mean\n",
    "X_val_norm = X_val_norm - train_mean\n",
    "X_test_norm = X_test_norm - train_mean\n",
    "\n",
    "# reassign for easy interpretation \n",
    "X_train = X_train_norm\n",
    "X_val = X_val_norm\n",
    "X_test = X_test_norm"
   ]
  },
  {
   "cell_type": "markdown",
   "metadata": {},
   "source": [
    "## Define model "
   ]
  },
  {
   "cell_type": "code",
   "execution_count": 136,
   "metadata": {},
   "outputs": [],
   "source": [
    "# https://stackoverflow.com/questions/42158866/neural-network-for-multi-label-classification-with-large-number-of-classes-outpu\n",
    "\n",
    "import tensorflow as tf\n",
    "import keras.backend.tensorflow_backend as tfb\n",
    "\n",
    "POS_WEIGHT = 20 # multiplier for positive targets, needs to be tuned\n",
    "\n",
    "def weighted_binary_crossentropy(target, output):\n",
    "    \"\"\"\n",
    "    Weighted binary crossentropy between an output tensor \n",
    "    and a target tensor. POS_WEIGHT is used as a multiplier \n",
    "    for the positive targets.\n",
    "\n",
    "    Combination of the following functions:\n",
    "    * keras.losses.binary_crossentropy\n",
    "    * keras.backend.tensorflow_backend.binary_crossentropy\n",
    "    * tf.nn.weighted_cross_entropy_with_logits\n",
    "    \"\"\"\n",
    "    # transform back to logits\n",
    "    _epsilon = tfb._to_tensor(tfb.epsilon(), output.dtype.base_dtype)\n",
    "    output = tf.clip_by_value(output, _epsilon, 1 - _epsilon)\n",
    "    output = tf.math.log(output / (1 - output))\n",
    "    # compute weighted loss\n",
    "    loss = tf.nn.weighted_cross_entropy_with_logits(labels=target,\n",
    "                                                    logits=output,\n",
    "                                                    pos_weight=POS_WEIGHT)\n",
    "    return tf.reduce_mean(loss, axis=-1)"
   ]
  },
  {
   "cell_type": "code",
   "execution_count": 144,
   "metadata": {},
   "outputs": [],
   "source": [
    "from keras import backend as K\n",
    "\n",
    "def f1_score(y_true, y_pred):\n",
    "    def recall(y_true, y_pred):\n",
    "        \"\"\"Recall metric.\n",
    "\n",
    "        Only computes a batch-wise average of recall.\n",
    "\n",
    "        Computes the recall, a metric for multi-label classification of\n",
    "        how many relevant items are selected.\n",
    "        \"\"\"\n",
    "        true_positives = K.sum(K.round(K.clip(y_true * y_pred, 0, 1)))\n",
    "        possible_positives = K.sum(K.round(K.clip(y_true, 0, 1)))\n",
    "        recall = true_positives / (possible_positives + K.epsilon())\n",
    "        return recall\n",
    "\n",
    "    def precision(y_true, y_pred):\n",
    "        \"\"\"Precision metric.\n",
    "\n",
    "        Only computes a batch-wise average of precision.\n",
    "\n",
    "        Computes the precision, a metric for multi-label classification of\n",
    "        how many selected items are relevant.\n",
    "        \"\"\"\n",
    "        true_positives = K.sum(K.round(K.clip(y_true * y_pred, 0, 1)))\n",
    "        predicted_positives = K.sum(K.round(K.clip(y_pred, 0, 1)))\n",
    "        precision = true_positives / (predicted_positives + K.epsilon())\n",
    "        return precision\n",
    "    precision = precision(y_true, y_pred)\n",
    "    recall = recall(y_true, y_pred)\n",
    "    return 2*((precision*recall)/(precision+recall+K.epsilon()))"
   ]
  },
  {
   "cell_type": "code",
   "execution_count": 163,
   "metadata": {},
   "outputs": [
    {
     "name": "stdout",
     "output_type": "stream",
     "text": [
      "Model: \"sequential_33\"\n",
      "_________________________________________________________________\n",
      "Layer (type)                 Output Shape              Param #   \n",
      "=================================================================\n",
      "dense_161 (Dense)            (None, 252)               63756     \n",
      "_________________________________________________________________\n",
      "dense_162 (Dense)            (None, 256)               64768     \n",
      "_________________________________________________________________\n",
      "dense_163 (Dense)            (None, 256)               65792     \n",
      "_________________________________________________________________\n",
      "dense_164 (Dense)            (None, 256)               65792     \n",
      "_________________________________________________________________\n",
      "dense_165 (Dense)            (None, 88)                22616     \n",
      "=================================================================\n",
      "Total params: 282,724\n",
      "Trainable params: 282,724\n",
      "Non-trainable params: 0\n",
      "_________________________________________________________________\n"
     ]
    }
   ],
   "source": [
    "# import keras deep learning models  \n",
    "from keras.layers import Dense, Dropout\n",
    "from keras.models import Sequential \n",
    "from keras import losses\n",
    "from tensorflow.keras.metrics import AUC\n",
    "\n",
    "# model parameters \n",
    "layers = 3\n",
    "hidden_nodes = 256\n",
    "num_col = 252\n",
    "output_nodes = 88\n",
    "auc_score = AUC(name='auc')\n",
    "\n",
    "# model type \n",
    "model = Sequential()\n",
    "\n",
    "# input layer\n",
    "model.add(Dense(num_col,kernel_initializer='normal', \\\n",
    "                activation='relu',input_shape=(num_col,)))\n",
    "\n",
    "# hidden layers \n",
    "for i in range(layers): \n",
    "    model.add(Dense(hidden_nodes,activation='relu', kernel_initializer='normal'))\n",
    "    \n",
    "# output layer\n",
    "model.add(Dense(output_nodes, activation='sigmoid',kernel_initializer='normal'))\n",
    "\n",
    "# compile model - with accuracy,f1 measure metrics\n",
    "model.compile(optimizer='adam', loss=weighted_binary_crossentropy,\n",
    "              metrics=[auc_score,f1])\n",
    "# get the initial weight\n",
    "init_weights = model.get_weights()\n",
    "\n",
    "model.summary()"
   ]
  },
  {
   "cell_type": "markdown",
   "metadata": {},
   "source": [
    "## Fit the model"
   ]
  },
  {
   "cell_type": "code",
   "execution_count": 164,
   "metadata": {},
   "outputs": [
    {
     "name": "stdout",
     "output_type": "stream",
     "text": [
      "Fitting model to training data\n",
      "------------------------------------------------------------\n",
      "Train on 38574 samples, validate on 12858 samples\n",
      "Epoch 1/30\n",
      "38574/38574 [==============================] - 22s 564us/step - loss: 0.8261 - auc: 0.8337 - f1: 0.2045 - val_loss: 0.7909 - val_auc: 0.8564 - val_f1: 0.2247\n",
      "Epoch 2/30\n",
      "38574/38574 [==============================] - 20s 507us/step - loss: 0.7535 - auc: 0.8630 - f1: 0.2282 - val_loss: 0.7366 - val_auc: 0.8691 - val_f1: 0.2389\n",
      "Epoch 3/30\n",
      "38574/38574 [==============================] - 20s 507us/step - loss: 0.6984 - auc: 0.8741 - f1: 0.2496 - val_loss: 0.6744 - val_auc: 0.8793 - val_f1: 0.2647\n",
      "Epoch 4/30\n",
      "38574/38574 [==============================] - 20s 510us/step - loss: 0.6517 - auc: 0.8838 - f1: 0.2667 - val_loss: 0.6383 - val_auc: 0.8879 - val_f1: 0.2793\n",
      "Epoch 5/30\n",
      "38574/38574 [==============================] - 20s 513us/step - loss: 0.6114 - auc: 0.8917 - f1: 0.2831 - val_loss: 0.6036 - val_auc: 0.8952 - val_f1: 0.2870\n",
      "Epoch 6/30\n",
      "38574/38574 [==============================] - 20s 514us/step - loss: 0.5755 - auc: 0.8985 - f1: 0.2996 - val_loss: 0.5758 - val_auc: 0.9016 - val_f1: 0.3042\n",
      "Epoch 7/30\n",
      "38574/38574 [==============================] - 20s 511us/step - loss: 0.5440 - auc: 0.9045 - f1: 0.3147 - val_loss: 0.5500 - val_auc: 0.9072 - val_f1: 0.3116\n",
      "Epoch 8/30\n",
      "38574/38574 [==============================] - 20s 511us/step - loss: 0.5169 - auc: 0.9097 - f1: 0.3290 - val_loss: 0.5634 - val_auc: 0.9120 - val_f1: 0.3198\n",
      "Epoch 9/30\n",
      "38574/38574 [==============================] - 20s 515us/step - loss: 0.4908 - auc: 0.9142 - f1: 0.3427 - val_loss: 0.5178 - val_auc: 0.9163 - val_f1: 0.3381\n",
      "Epoch 10/30\n",
      "38574/38574 [==============================] - 20s 518us/step - loss: 0.4691 - auc: 0.9184 - f1: 0.3557 - val_loss: 0.4974 - val_auc: 0.9204 - val_f1: 0.3405\n",
      "Epoch 11/30\n",
      "38574/38574 [==============================] - 20s 514us/step - loss: 0.4461 - auc: 0.9222 - f1: 0.3700 - val_loss: 0.4768 - val_auc: 0.9241 - val_f1: 0.3710\n",
      "Epoch 12/30\n",
      "38574/38574 [==============================] - 19s 504us/step - loss: 0.4285 - auc: 0.9258 - f1: 0.3817 - val_loss: 0.4643 - val_auc: 0.9274 - val_f1: 0.3834\n",
      "Epoch 13/30\n",
      "38574/38574 [==============================] - 20s 512us/step - loss: 0.4091 - auc: 0.9290 - f1: 0.3948 - val_loss: 0.4581 - val_auc: 0.9305 - val_f1: 0.3871\n",
      "Epoch 14/30\n",
      "38574/38574 [==============================] - 20s 512us/step - loss: 0.3959 - auc: 0.9320 - f1: 0.4049 - val_loss: 0.4421 - val_auc: 0.9334 - val_f1: 0.3995\n",
      "Epoch 15/30\n",
      "38574/38574 [==============================] - 20s 512us/step - loss: 0.3783 - auc: 0.9347 - f1: 0.4182 - val_loss: 0.4311 - val_auc: 0.9360 - val_f1: 0.4085\n",
      "Epoch 16/30\n",
      "38574/38574 [==============================] - 20s 509us/step - loss: 0.3653 - auc: 0.9373 - f1: 0.4292 - val_loss: 0.4325 - val_auc: 0.9385 - val_f1: 0.4160\n",
      "Epoch 17/30\n",
      "38574/38574 [==============================] - 20s 507us/step - loss: 0.3511 - auc: 0.9396 - f1: 0.4404 - val_loss: 0.4135 - val_auc: 0.9407 - val_f1: 0.4225\n",
      "Epoch 18/30\n",
      "38574/38574 [==============================] - 20s 508us/step - loss: 0.3377 - auc: 0.9419 - f1: 0.4525 - val_loss: 0.4086 - val_auc: 0.9429 - val_f1: 0.4340\n",
      "Epoch 19/30\n",
      "38574/38574 [==============================] - 20s 507us/step - loss: 0.3259 - auc: 0.9439 - f1: 0.4632 - val_loss: 0.4096 - val_auc: 0.9449 - val_f1: 0.4451\n",
      "Epoch 20/30\n",
      "38574/38574 [==============================] - 19s 505us/step - loss: 0.3152 - auc: 0.9459 - f1: 0.4735 - val_loss: 0.3919 - val_auc: 0.9468 - val_f1: 0.4511\n",
      "Epoch 21/30\n",
      "38574/38574 [==============================] - 20s 506us/step - loss: 0.3034 - auc: 0.9477 - f1: 0.4844 - val_loss: 0.3858 - val_auc: 0.9486 - val_f1: 0.4621\n",
      "Epoch 22/30\n",
      "38574/38574 [==============================] - 20s 509us/step - loss: 0.2934 - auc: 0.9494 - f1: 0.4950 - val_loss: 0.3906 - val_auc: 0.9502 - val_f1: 0.4488\n",
      "Epoch 23/30\n",
      "38574/38574 [==============================] - 19s 504us/step - loss: 0.2864 - auc: 0.9510 - f1: 0.5022 - val_loss: 0.3790 - val_auc: 0.9518 - val_f1: 0.4718\n",
      "Epoch 24/30\n",
      "38574/38574 [==============================] - 19s 503us/step - loss: 0.2727 - auc: 0.9525 - f1: 0.5156 - val_loss: 0.3724 - val_auc: 0.9533 - val_f1: 0.4825\n",
      "Epoch 25/30\n",
      "38574/38574 [==============================] - 19s 499us/step - loss: 0.2662 - auc: 0.9540 - f1: 0.5244 - val_loss: 0.3700 - val_auc: 0.9547 - val_f1: 0.4850\n",
      "Epoch 26/30\n",
      "38574/38574 [==============================] - 20s 507us/step - loss: 0.2590 - auc: 0.9554 - f1: 0.5329 - val_loss: 0.3734 - val_auc: 0.9560 - val_f1: 0.4928\n",
      "Epoch 27/30\n",
      "38574/38574 [==============================] - 19s 504us/step - loss: 0.2494 - auc: 0.9567 - f1: 0.5432 - val_loss: 0.3683 - val_auc: 0.9573 - val_f1: 0.5059\n",
      "Epoch 28/30\n",
      "38574/38574 [==============================] - 19s 505us/step - loss: 0.2433 - auc: 0.9579 - f1: 0.5516 - val_loss: 0.3823 - val_auc: 0.9585 - val_f1: 0.5157\n",
      "Epoch 29/30\n",
      "38574/38574 [==============================] - 19s 503us/step - loss: 0.2358 - auc: 0.9590 - f1: 0.5602 - val_loss: 0.3675 - val_auc: 0.9596 - val_f1: 0.5314\n",
      "Epoch 30/30\n",
      "38574/38574 [==============================] - 19s 500us/step - loss: 0.2275 - auc: 0.9601 - f1: 0.5696 - val_loss: 0.3639 - val_auc: 0.9607 - val_f1: 0.5396\n"
     ]
    },
    {
     "data": {
      "text/plain": [
       "<keras.callbacks.callbacks.History at 0x2d914e8f808>"
      ]
     },
     "execution_count": 164,
     "metadata": {},
     "output_type": "execute_result"
    }
   ],
   "source": [
    "# early stop \n",
    "from keras.callbacks import EarlyStopping\n",
    "from keras.callbacks import ModelCheckpoint\n",
    "\n",
    "# patience = 10 \n",
    "early_stopping_monitor = EarlyStopping(patience=10,mode='auto', verbose=1, min_delta=0, monitor='val_loss')\n",
    "# this will save the best model and will not overwrite it\n",
    "model_save = ModelCheckpoint('AMT_DNN_mean_squared_error.hdf5', monitor='val_loss', save_best_only=True)\n",
    "\n",
    "# model params\n",
    "batch_size = 32\n",
    "epochs = 20\n",
    "\n",
    "# fit the model\n",
    "print('Fitting model to training data')\n",
    "print('-'*60)\n",
    "\n",
    "# set initial weights just incase\n",
    "model.set_weights(init_weights)\n",
    "model.fit(X_train,y_train,validation_data = (X_val, y_val), \\\n",
    "                    epochs = epochs, batch_size=batch_size,\\\n",
    "                    callbacks=[early_stopping_monitor,model_save], verbose = 1)"
   ]
  },
  {
   "cell_type": "markdown",
   "metadata": {},
   "source": [
    "## model evaluation"
   ]
  },
  {
   "cell_type": "code",
   "execution_count": 165,
   "metadata": {},
   "outputs": [],
   "source": [
    "# # load keras model \n",
    "# from keras.models import load_model \n",
    "# model = load_model('AMT_trained_DNN_trial_model.h5')"
   ]
  },
  {
   "cell_type": "code",
   "execution_count": 166,
   "metadata": {},
   "outputs": [],
   "source": [
    "h = model.history"
   ]
  },
  {
   "cell_type": "code",
   "execution_count": 167,
   "metadata": {},
   "outputs": [
    {
     "data": {
      "text/plain": [
       "dict_keys(['val_loss', 'val_auc', 'val_f1', 'loss', 'auc', 'f1'])"
      ]
     },
     "execution_count": 167,
     "metadata": {},
     "output_type": "execute_result"
    }
   ],
   "source": [
    "h.history.keys()"
   ]
  },
  {
   "cell_type": "code",
   "execution_count": 168,
   "metadata": {},
   "outputs": [
    {
     "data": {
      "image/png": "[encoded data removed]",
      "text/plain": [
       "<Figure size 432x288 with 1 Axes>"
      ]
     },
     "metadata": {
      "needs_background": "light"
     },
     "output_type": "display_data"
    },
    {
     "data": {
      "image/png": "[encoded data removed]",
      "text/plain": [
       "<Figure size 432x288 with 1 Axes>"
      ]
     },
     "metadata": {
      "needs_background": "light"
     },
     "output_type": "display_data"
    }
   ],
   "source": [
    "# use the test set and validate \n",
    "plt.figure()\n",
    "\n",
    "# use the history metrics \n",
    "plt.plot(h.history['loss'])\n",
    "plt.plot(h.history['val_loss'])\n",
    "\n",
    "plt.title('model performance')\n",
    "plt.ylabel('loss')\n",
    "plt.xlabel('Epoch')\n",
    "plt.legend(['train','validation']);\n",
    "plt.show()\n",
    "\n",
    "# use the test set and validate \n",
    "plt.figure()\n",
    "\n",
    "# use the history metrics \n",
    "plt.plot(h.history['f1'])\n",
    "plt.plot(h.history['val_f1'])\n",
    "\n",
    "plt.title('model performance')\n",
    "plt.ylabel('f1 score')\n",
    "plt.xlabel('Epoch')\n",
    "plt.legend(['train','validation']);\n",
    "plt.show()"
   ]
  },
  {
   "cell_type": "markdown",
   "metadata": {},
   "source": [
    "## Predict with the model "
   ]
  },
  {
   "cell_type": "code",
   "execution_count": 132,
   "metadata": {},
   "outputs": [],
   "source": [
    "# # load keras model \n",
    "# from keras.models import load_model \n",
    "# model = load_model('AMT_trained_DNN_trial_model.h5')"
   ]
  },
  {
   "cell_type": "code",
   "execution_count": 169,
   "metadata": {},
   "outputs": [
    {
     "name": "stdout",
     "output_type": "stream",
     "text": [
      "12859/12859 [==============================] - 3s 265us/step\n"
     ]
    },
    {
     "data": {
      "text/plain": [
       "[0.36713738714460176, 0.960822343826294, 0.5423025488853455]"
      ]
     },
     "execution_count": 169,
     "metadata": {},
     "output_type": "execute_result"
    }
   ],
   "source": [
    "# evaluate the model\n",
    "model.evaluate(X_test,y_test)"
   ]
  },
  {
   "cell_type": "code",
   "execution_count": 171,
   "metadata": {},
   "outputs": [
    {
     "name": "stdout",
     "output_type": "stream",
     "text": [
      "making predictions on test set\n",
      "------------------------------\n",
      "12859/12859 [==============================] - 0s 37us/step\n",
      "------------------------------\n",
      "predictions complete\n"
     ]
    }
   ],
   "source": [
    "# parameters \n",
    "batch_size = 100 \n",
    "\n",
    "print('making predictions on test set')\n",
    "print('------------------------------')\n",
    "# predict on test set\n",
    "predictions = model.predict(X_test, batch_size = batch_size, verbose=1)\n",
    "\n",
    "print('------------------------------')\n",
    "print('predictions complete')"
   ]
  },
  {
   "cell_type": "code",
   "execution_count": 135,
   "metadata": {},
   "outputs": [
    {
     "name": "stdout",
     "output_type": "stream",
     "text": [
      "model precision: 0.9946581196581197\n",
      "model recall: 0.9989270386266095\n",
      "F-measure: 99.67880085653104\n",
      "Accuracy: 99.35965848452508\n"
     ]
    }
   ],
   "source": [
    "# init true positives etc. \n",
    "TP = 0\n",
    "FN = 0\n",
    "FP = 0\n",
    "\n",
    "# calculating model accuracy \n",
    "TP = np.count_nonzero(np.logical_and( predictions == 1, y_test == 1 ))\n",
    "FN = np.count_nonzero(np.logical_and( predictions == 0, y_test == 1 ))\n",
    "FP = np.count_nonzero(np.logical_and( predictions == 1, y_test == 0 ))\n",
    "if (TP + FN) > 0:\n",
    "    R = TP/float(TP + FN)\n",
    "    P = TP/float(TP + FP)\n",
    "    A = 100*TP/float(TP + FP + FN)\n",
    "    if P == 0 and R == 0:\n",
    "        F = 0\n",
    "    else: \n",
    "        F = 100*2*P*R/(P + R)\n",
    "else: \n",
    "    A = 0\n",
    "    F = 0\n",
    "    R = 0\n",
    "    P = 0\n",
    "\n",
    "print('model precision:', P)\n",
    "print('model recall:', R)\n",
    "print('F-measure:', F)\n",
    "print('Accuracy:', A)"
   ]
  },
  {
   "cell_type": "code",
   "execution_count": 68,
   "metadata": {},
   "outputs": [
    {
     "data": {
      "text/plain": [
       "(178,)"
      ]
     },
     "execution_count": 68,
     "metadata": {},
     "output_type": "execute_result"
    }
   ],
   "source": [
    "# checking to ensure the model doesn't only predict zeros\n",
    "# clear indication of problems with the model\n",
    "predictions[predictions == 1].shape"
   ]
  },
  {
   "cell_type": "code",
   "execution_count": 69,
   "metadata": {},
   "outputs": [
    {
     "data": {
      "text/plain": [
       "(48606,)"
      ]
     },
     "execution_count": 69,
     "metadata": {},
     "output_type": "execute_result"
    }
   ],
   "source": [
    "# number of active notes\n",
    "y_test[y_test==1].shape"
   ]
  },
  {
   "cell_type": "code",
   "execution_count": 70,
   "metadata": {},
   "outputs": [
    {
     "data": {
      "text/plain": [
       "1131592"
      ]
     },
     "execution_count": 70,
     "metadata": {},
     "output_type": "execute_result"
    }
   ],
   "source": [
    "# total number of inactive/active notes \n",
    "y_test.shape[0]*y_test.shape[1]"
   ]
  },
  {
   "cell_type": "code",
   "execution_count": 73,
   "metadata": {},
   "outputs": [
    {
     "data": {
      "text/plain": [
       "22.280911821585814"
      ]
     },
     "execution_count": 73,
     "metadata": {},
     "output_type": "execute_result"
    }
   ],
   "source": [
    "# number of active notes\n",
    "active_notes = y_test[y_test==1].shape[0]\n",
    "# total number of inactive/active notes \n",
    "total_notes = y_test.shape[0]*y_test.shape[1]\n",
    "\n",
    "inactive_notes = total_notes - active_notes\n",
    "inactive_notes/active_notes"
   ]
  },
  {
   "cell_type": "markdown",
   "metadata": {},
   "source": [
    "## Post-processing (reducing erroneous notes)"
   ]
  },
  {
   "cell_type": "code",
   "execution_count": 25,
   "metadata": {},
   "outputs": [],
   "source": [
    "# clean model in adjacent frames based on the threshold \n",
    "# a is indexing notes\n",
    "for a in range(predictions.shape[1]):\n",
    "# j is indexing the frames \n",
    "    for j in range(2,predictions.shape[0]-3):\n",
    "        # [1 0* 0 1]\n",
    "        if predictions[j-1,a] == 1 and predictions[j,a] == 0 and predictions[j+1,a] == 0 and predictions[j+2,a] == 1:\n",
    "            predictions[j,a] = 1\n",
    "            predictions[j+1,a] = 1\n",
    "        # [0 0 1* 1 0 0]\n",
    "        if predictions[j-2,a] == 0 and predictions[j-1,a] == 0 and predictions[j,a] == 1 and predictions[j+1,a] == 1 and predictions[j+2,a] == 0 and predictions[j+3,a] == 0:\n",
    "            predictions[j,a] = 0\n",
    "            predictions[j+1,a] = 0\n",
    "        # [0 1* 0 0]\n",
    "        if predictions[j-1,a] == 0 and predictions[j,a] == 1 and predictions[j+1,a] == 0 and predictions[j+2,a] == 0:\n",
    "            predictions[j,a] = 0\n",
    "        # [1 0* 1 1]\n",
    "        if predictions[j-1,a] == 1 and predictions[j,a] == 0 and predictions[j+1,a] == 1 and predictions[j+2,a] == 1:\n",
    "            predictions[j,a] = 1"
   ]
  },
  {
   "cell_type": "code",
   "execution_count": 26,
   "metadata": {},
   "outputs": [
    {
     "name": "stdout",
     "output_type": "stream",
     "text": [
      "model precision: 0.9952267303102625\n",
      "model recall: 0.6598101265822784\n",
      "F-measure: 79.35299714557564\n",
      "Accuracy: 65.77287066246056\n"
     ]
    }
   ],
   "source": [
    "# init true positives etc. \n",
    "TP = 0\n",
    "FN = 0\n",
    "FP = 0\n",
    "\n",
    "# calculating model accuracy \n",
    "TP = np.count_nonzero(np.logical_and( predictions == 1, y_test == 1 ))\n",
    "FN = np.count_nonzero(np.logical_and( predictions == 0, y_test == 1 ))\n",
    "FP = np.count_nonzero(np.logical_and( predictions == 1, y_test == 0 ))\n",
    "if (TP + FN) > 0:\n",
    "    R = TP/float(TP + FN)\n",
    "    P = TP/float(TP + FP)\n",
    "    A = 100*TP/float(TP + FP + FN)\n",
    "    if P == 0 and R == 0:\n",
    "        F = 0\n",
    "    else: \n",
    "        F = 100*2*P*R/(P + R)\n",
    "else: \n",
    "    A = 0\n",
    "    F = 0\n",
    "    R = 0\n",
    "    P = 0\n",
    "\n",
    "print('model precision:', P)\n",
    "print('model recall:', R)\n",
    "print('F-measure:', F)\n",
    "print('Accuracy:', A)"
   ]
  }
 ],
 "metadata": {
  "kernelspec": {
   "display_name": "Python 3",
   "language": "python",
   "name": "python3"
  },
  "language_info": {
   "codemirror_mode": {
    "name": "ipython",
    "version": 3
   },
   "file_extension": ".py",
   "mimetype": "text/x-python",
   "name": "python",
   "nbconvert_exporter": "python",
   "pygments_lexer": "ipython3",
   "version": "3.7.6"
  }
 },
 "nbformat": 4,
 "nbformat_minor": 4
}
