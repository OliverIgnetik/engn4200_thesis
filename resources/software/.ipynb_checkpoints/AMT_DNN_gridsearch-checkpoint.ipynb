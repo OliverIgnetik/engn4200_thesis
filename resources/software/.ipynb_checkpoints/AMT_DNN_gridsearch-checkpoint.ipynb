{
 "cells": [
  {
   "cell_type": "code",
   "execution_count": 82,
   "metadata": {},
   "outputs": [],
   "source": [
    "# basic imports\n",
    "import pandas as pd, matplotlib.pyplot as plt, numpy as np \n",
    "import IPython.display as ipd"
   ]
  },
  {
   "cell_type": "code",
   "execution_count": 83,
   "metadata": {},
   "outputs": [],
   "source": [
    "# librosa - for CQT and visualisation\n",
    "import librosa, librosa.display"
   ]
  },
  {
   "cell_type": "code",
   "execution_count": 84,
   "metadata": {},
   "outputs": [],
   "source": [
    "# Interval for label storage\n",
    "from intervaltree import Interval,IntervalTree"
   ]
  },
  {
   "cell_type": "markdown",
   "metadata": {},
   "source": [
    "# Neural Network Grid Search"
   ]
  },
  {
   "cell_type": "markdown",
   "metadata": {},
   "source": [
    "## Import data"
   ]
  },
  {
   "cell_type": "code",
   "execution_count": 85,
   "metadata": {},
   "outputs": [
    {
     "data": {
      "text/plain": [
       "h5py._hl.files.File"
      ]
     },
     "execution_count": 85,
     "metadata": {},
     "output_type": "execute_result"
    }
   ],
   "source": [
    "# import h5py to read in hdf5 files \n",
    "import h5py\n",
    "\n",
    "filename ='musicnet.h5'\n",
    "music_net = h5py.File(filename,'r')\n",
    "type(music_net)"
   ]
  },
  {
   "cell_type": "code",
   "execution_count": 86,
   "metadata": {},
   "outputs": [
    {
     "data": {
      "text/plain": [
       "['id_1727', 'id_1728', 'id_1729']"
      ]
     },
     "execution_count": 86,
     "metadata": {},
     "output_type": "execute_result"
    }
   ],
   "source": [
    "# we will use 3 songs for hyper parameter tuning \n",
    "# extract n songs from the database\n",
    "n = 3\n",
    "source_list = list(music_net.keys())[:n]\n",
    "source_list"
   ]
  },
  {
   "cell_type": "code",
   "execution_count": 87,
   "metadata": {},
   "outputs": [
    {
     "data": {
      "image/png": "[encoded data removed]",
      "text/plain": [
       "<Figure size 432x288 with 1 Axes>"
      ]
     },
     "metadata": {
      "needs_background": "light"
     },
     "output_type": "display_data"
    }
   ],
   "source": [
    "# plot the audio data for the first song \n",
    "librosa.display.waveplot(music_net[source_list[0]]['data'][()],\n",
    "                         sr=22500,\n",
    "                         x_axis= 'time');\n",
    "plt.ylabel('normalized mono channel');\n",
    "plt.title('waveform for song');"
   ]
  },
  {
   "cell_type": "markdown",
   "metadata": {},
   "source": [
    "## Preprocessing"
   ]
  },
  {
   "cell_type": "code",
   "execution_count": 88,
   "metadata": {},
   "outputs": [
    {
     "name": "stdout",
     "output_type": "stream",
     "text": [
      "initializing cqt transforms\n",
      "------------------------------------------------------------\n",
      "extracting data from id_1727\n",
      "extracting data from id_1728\n",
      "extracting data from id_1729\n",
      "------------------------------------------------------------\n",
      "CQT transformation on each song complete\n",
      "------------------------------------------------------------\n",
      "CQT dimensions: [(13971, 252), (7849, 252), (13891, 252)]\n"
     ]
    }
   ],
   "source": [
    "# init lists for storing results\n",
    "cqt_container = [] # array to store the cqt for each song\n",
    "cqt_shapes = [] # array to store the shapes of each cqt\n",
    "\n",
    "print('initializing cqt transforms')\n",
    "print('-'*60)\n",
    "for id_ in source_list:\n",
    "    print('extracting data from',id_)\n",
    "    # extract the mono audio data and labels\n",
    "    song = music_net[id_]\n",
    "    music = song['data'][()]\n",
    "\n",
    "    # downsampling\n",
    "    sr = 44100\n",
    "    sr_16k = 16000\n",
    "\n",
    "    # resample to 16kHz to increase the the number of cqt points\n",
    "    music = librosa.resample(music,sr,sr_16k)\n",
    "\n",
    "    # CQT parameters\n",
    "    sr_16k = sr_16k # downsampling to 16kHz\n",
    "    hop_length = 512 # 32ms frames  \n",
    "    bins_per_octave = 36 # corresponds to 7 octaves on the piano \n",
    "    # 7 x 36 = 252 number of bins \n",
    "    n_bins = 252 # frequency resolution \n",
    "    window = 'hann' # hanning window for smoothness\n",
    "\n",
    "    # CQT absolute magnitude \n",
    "    C = np.abs(librosa.cqt(music,\n",
    "                           sr = sr_16k , \n",
    "                           hop_length = hop_length,\n",
    "                           bins_per_octave = bins_per_octave,\n",
    "                           window = window,\n",
    "                           n_bins = n_bins))\n",
    "    # transpose to get the array in the correct format\n",
    "    C = np.transpose(C)\n",
    "    \n",
    "    # append the length of this cqt to the length array \n",
    "    cqt_shapes.append(C.shape)\n",
    "    \n",
    "    # append to container\n",
    "    cqt_container.append(C)\n",
    "\n",
    "print('-'*60)\n",
    "print('CQT transformation on each song complete')\n",
    "print('-'*60)\n",
    "print('CQT dimensions:', cqt_shapes)"
   ]
  },
  {
   "cell_type": "code",
   "execution_count": 89,
   "metadata": {},
   "outputs": [
    {
     "name": "stdout",
     "output_type": "stream",
     "text": [
      "constructing label vectors\n",
      "------------------------------------------------------------\n",
      "labels preprocessed\n",
      "------------------------------------------------------------\n",
      "labels dimensions: [(13971, 88), (7849, 88), (13891, 88)]\n"
     ]
    }
   ],
   "source": [
    "# extract and format labels \n",
    "labels_container = [] # array to store the labels of each song\n",
    "labels_shapes = [] # array for storing label dimensions\n",
    "\n",
    "# set up params for labels \n",
    "number_of_notes = 88 ## 88 piano notes \n",
    "hop_length = 512 # 32ms frames  \n",
    "# counter to loop through cqt container \n",
    "i = 0 \n",
    "\n",
    "print('constructing label vectors')\n",
    "print('-'*60)\n",
    "\n",
    "for id_ in source_list:\n",
    "    # retrieve the song for this id \n",
    "    song = music_net[id_]\n",
    "    raw_labels = song['labels'][()]\n",
    "    \n",
    "    # number of frames in this song\n",
    "    number_frames = cqt_container[i].shape[0]\n",
    "    i += 1  \n",
    "    \n",
    "    # binary labels - one hot encoding\n",
    "    binary_labels = np.zeros((number_frames, number_of_notes))\n",
    "\n",
    "    # init tree for slicing\n",
    "    labels_tree = IntervalTree()\n",
    "    # construct interval tree \n",
    "    for label in raw_labels: \n",
    "        pitch = label['note_id']\n",
    "        start_time = label['start_time']\n",
    "        end_time = label['end_time']\n",
    "        labels_tree.addi(start_time,end_time,pitch)\n",
    "\n",
    "    # resample the labels by finding the number of frames per second\n",
    "    for frame in range(binary_labels.shape[0]):\n",
    "        # slice the interval tree for notes in this frame \n",
    "        labels = labels_tree.at(frame*hop_length)\n",
    "        for label in labels:\n",
    "            # the labels vector is from 0 to 87 \n",
    "            # 21 is the A0 on the piano\n",
    "            pitch = label[2]-21 \n",
    "            # if this pitch is active in this window \n",
    "            binary_labels[frame,pitch] = 1\n",
    "    \n",
    "    # append the binary_labels\n",
    "    labels_container.append(binary_labels)\n",
    "    # store label shapes \n",
    "    labels_shapes.append(binary_labels.shape)\n",
    "\n",
    "print('labels preprocessed')\n",
    "print('-'*60)\n",
    "print('labels dimensions:', labels_shapes)"
   ]
  },
  {
   "cell_type": "code",
   "execution_count": 90,
   "metadata": {},
   "outputs": [],
   "source": [
    "# Format the data for the model \n",
    "X = np.vstack(cqt_container)\n",
    "y = np.vstack(labels_container)"
   ]
  },
  {
   "cell_type": "markdown",
   "metadata": {},
   "source": [
    "## Hyperparameter tuning for DNN"
   ]
  },
  {
   "cell_type": "code",
   "execution_count": 99,
   "metadata": {},
   "outputs": [],
   "source": [
    "# model definition  \n",
    "from keras.layers import Dense, Dropout\n",
    "from keras.models import Sequential \n",
    "from keras.optimizers import Adam\n",
    "from keras.layers import BatchNormalization\n",
    "\n",
    "# default parameters for model\n",
    "layers = 3 # layers of model \n",
    "nn = 256 # nodes\n",
    "num_col = 252 # inputs \n",
    "output_nodes = 88 # outputs \n",
    "lr = 0.01 # learning rate\n",
    "act ='relu' # activation functions\n",
    "drop = 0 # dropout rate to improve test error perf\n",
    "\n",
    "def create_model(layers=layers,nn=nn,lr=lr,act=act, drop=drop):  \n",
    "  # Create an Adam optimizer with the given learning rate\n",
    "  opt = Adam(lr=lr)\n",
    "  # create model \n",
    "  model = Sequential()\n",
    "  # input layer\n",
    "  model.add(Dense(num_col,kernel_initializer='normal', \n",
    "                  activation=act ,input_shape=(num_col,)))\n",
    "  model.add(BatchNormalization())\n",
    "    \n",
    "  for i in range(layers):\n",
    "    # layers with dropout and batch normalization \n",
    "    model.add(Dense(nn, activation=act,\n",
    "                    kernel_initializer = 'normal'))\n",
    "    model.add(Dropout(drop))\n",
    "    model.add(BatchNormalization())\n",
    "  \n",
    "  # output layer - we require a sigmoid activation function \n",
    "  model.add(Dense(output_nodes, activation='sigmoid',kernel_initializer='normal'))\n",
    "    \n",
    "  # compile model\n",
    "  model.compile(optimizer=opt,\n",
    "              # binary cross entropy -> multilabel\n",
    "              loss='binary_crossentropy',\n",
    "              metrics=['acc'])\n",
    "  return model"
   ]
  },
  {
   "cell_type": "code",
   "execution_count": 106,
   "metadata": {},
   "outputs": [
    {
     "name": "stdout",
     "output_type": "stream",
     "text": [
      "performing hyperparameter grid search\n",
      "grab a coffee this will take while...\n",
      "------------------------------------------------------------\n",
      "11904/11904 [==============================] - 8s 661us/step\n",
      "11904/11904 [==============================] - 7s 628us/step\n",
      "11903/11903 [==============================] - 11s 902us/step\n",
      "11904/11904 [==============================] - 11s 914us/step\n",
      "11904/11904 [==============================] - 9s 772us/step\n",
      "11903/11903 [==============================] - 10s 845us/step- ETA:  - E - E\n",
      "11904/11904 [==============================] - 6s 546us/step\n",
      "11904/11904 [==============================] - 6s 538us/step\n",
      "11903/11903 [==============================] - 7s 568us/step\n",
      "11904/11904 [==============================] - 7s 613us/step\n",
      "11904/11904 [==============================] - 7s 623us/step:  - E\n",
      "11903/11903 [==============================] - 10s 853us/step\n",
      "11904/11904 [==============================] - 13s 1ms/step\n",
      "11904/11904 [==============================] - 11s 922us/step\n",
      "11903/11903 [==============================] - 15s 1ms/step \n",
      "11904/11904 [==============================] - 10s 822us/step\n",
      "11904/11904 [==============================] - 10s 831us/step\n",
      "11903/11903 [==============================] - 14s 1ms/step\n",
      "11904/11904 [==============================] - 16s 1ms/step\n",
      "11904/11904 [==============================] - 17s 1ms/step\n",
      "11903/11903 [==============================] - 16s 1ms/step\n",
      "11904/11904 [==============================] - 19s 2ms/step\n",
      "11904/11904 [==============================] - 20s 2ms/step\n",
      "11903/11903 [==============================] - ETA: 0s ETA:  - E - ETA - 20s 2ms/step\n",
      "11904/11904 [==============================] - 22s 2ms/step\n",
      "11904/11904 [==============================] - 23s 2ms/step\n",
      "11903/11903 [==============================] - 30s 3ms/step\n",
      "11904/11904 [==============================] - 14s 1ms/step\n",
      "11904/11904 [==============================] - 15s 1ms/step\n",
      "11903/11903 [==============================] - 19s 2ms/step\n",
      "grid search complete\n"
     ]
    }
   ],
   "source": [
    "# Import KerasClassifier from keras wrappers\n",
    "from keras.wrappers.scikit_learn import KerasClassifier\n",
    "from sklearn.model_selection import RandomizedSearchCV\n",
    "from sklearn.model_selection import KFold\n",
    "\n",
    "# Create a KerasClassifier\n",
    "model = KerasClassifier(build_fn=create_model)\n",
    "\n",
    "# Define the parameters to try out\n",
    "params = {'lr' : [0.1,0.01,0.001], \n",
    "          'act':['relu', 'tanh'],\n",
    "          'batch_size':[32, 128, 256], \n",
    "          'layers' : [2,3,4],\n",
    "          'nn' : [64,128,256],\n",
    "          'drop': [0, 0.1,0.2]}\n",
    "\n",
    "# Create a randomize search cv object and fit it on the data to obtain the results\n",
    "n_iter = 10 # default value\n",
    "random_search = RandomizedSearchCV(model,\n",
    "                                   param_distributions=params,\n",
    "                                   cv=KFold(3),\n",
    "                                   n_iter =n_iter)\n",
    "\n",
    "print('performing hyperparameter grid search')\n",
    "print('grab a coffee this will take while...')\n",
    "print('-'*60)\n",
    "\n",
    "# fit the RandomizedSearchCV object\n",
    "# investigating other params so epochs is not the main concern\n",
    "epochs = 10\n",
    "results = random_search.fit(X,y,verbose=0, epochs=epochs)\n",
    "print('-'*60)\n",
    "print('grid search complete')"
   ]
  },
  {
   "cell_type": "code",
   "execution_count": 107,
   "metadata": {},
   "outputs": [
    {
     "name": "stdout",
     "output_type": "stream",
     "text": [
      "Best: 0.951735389118804 using {'nn': 128, 'lr': 0.1, 'layers': 2, 'drop': 0.1, 'batch_size': 128, 'act': 'tanh'}\n"
     ]
    }
   ],
   "source": [
    "# print the results \n",
    "print('Best: {} using {}'.format(results.best_score_,\n",
    "                                 results.best_params_))"
   ]
  },
  {
   "cell_type": "code",
   "execution_count": 121,
   "metadata": {},
   "outputs": [
    {
     "data": {
      "text/html": [
       "<div>\n",
       "<style scoped>\n",
       "    .dataframe tbody tr th:only-of-type {\n",
       "        vertical-align: middle;\n",
       "    }\n",
       "\n",
       "    .dataframe tbody tr th {\n",
       "        vertical-align: top;\n",
       "    }\n",
       "\n",
       "    .dataframe thead th {\n",
       "        text-align: right;\n",
       "    }\n",
       "</style>\n",
       "<table border=\"1\" class=\"dataframe\">\n",
       "  <thead>\n",
       "    <tr style=\"text-align: right;\">\n",
       "      <th></th>\n",
       "      <th>rank_test_score</th>\n",
       "      <th>mean_test_score</th>\n",
       "      <th>std_test_score</th>\n",
       "      <th>param_nn</th>\n",
       "      <th>param_lr</th>\n",
       "      <th>param_layers</th>\n",
       "      <th>param_drop</th>\n",
       "      <th>param_batch_size</th>\n",
       "      <th>param_act</th>\n",
       "    </tr>\n",
       "  </thead>\n",
       "  <tbody>\n",
       "    <tr>\n",
       "      <th>9</th>\n",
       "      <td>1</td>\n",
       "      <td>0.951735</td>\n",
       "      <td>0.001359</td>\n",
       "      <td>128</td>\n",
       "      <td>0.1</td>\n",
       "      <td>2</td>\n",
       "      <td>0.1</td>\n",
       "      <td>128</td>\n",
       "      <td>tanh</td>\n",
       "    </tr>\n",
       "    <tr>\n",
       "      <th>1</th>\n",
       "      <td>2</td>\n",
       "      <td>0.942368</td>\n",
       "      <td>0.001424</td>\n",
       "      <td>128</td>\n",
       "      <td>0.01</td>\n",
       "      <td>2</td>\n",
       "      <td>0</td>\n",
       "      <td>32</td>\n",
       "      <td>tanh</td>\n",
       "    </tr>\n",
       "    <tr>\n",
       "      <th>7</th>\n",
       "      <td>3</td>\n",
       "      <td>0.941950</td>\n",
       "      <td>0.002817</td>\n",
       "      <td>128</td>\n",
       "      <td>0.01</td>\n",
       "      <td>2</td>\n",
       "      <td>0.2</td>\n",
       "      <td>32</td>\n",
       "      <td>relu</td>\n",
       "    </tr>\n",
       "    <tr>\n",
       "      <th>3</th>\n",
       "      <td>4</td>\n",
       "      <td>0.941144</td>\n",
       "      <td>0.002846</td>\n",
       "      <td>256</td>\n",
       "      <td>0.01</td>\n",
       "      <td>3</td>\n",
       "      <td>0.2</td>\n",
       "      <td>256</td>\n",
       "      <td>tanh</td>\n",
       "    </tr>\n",
       "    <tr>\n",
       "      <th>4</th>\n",
       "      <td>5</td>\n",
       "      <td>0.940373</td>\n",
       "      <td>0.001894</td>\n",
       "      <td>128</td>\n",
       "      <td>0.001</td>\n",
       "      <td>3</td>\n",
       "      <td>0.2</td>\n",
       "      <td>128</td>\n",
       "      <td>relu</td>\n",
       "    </tr>\n",
       "    <tr>\n",
       "      <th>5</th>\n",
       "      <td>6</td>\n",
       "      <td>0.939371</td>\n",
       "      <td>0.001855</td>\n",
       "      <td>256</td>\n",
       "      <td>0.01</td>\n",
       "      <td>2</td>\n",
       "      <td>0.2</td>\n",
       "      <td>128</td>\n",
       "      <td>tanh</td>\n",
       "    </tr>\n",
       "    <tr>\n",
       "      <th>6</th>\n",
       "      <td>7</td>\n",
       "      <td>0.938633</td>\n",
       "      <td>0.008265</td>\n",
       "      <td>256</td>\n",
       "      <td>0.1</td>\n",
       "      <td>4</td>\n",
       "      <td>0.1</td>\n",
       "      <td>128</td>\n",
       "      <td>relu</td>\n",
       "    </tr>\n",
       "    <tr>\n",
       "      <th>8</th>\n",
       "      <td>8</td>\n",
       "      <td>0.935985</td>\n",
       "      <td>0.002134</td>\n",
       "      <td>128</td>\n",
       "      <td>0.001</td>\n",
       "      <td>4</td>\n",
       "      <td>0.1</td>\n",
       "      <td>32</td>\n",
       "      <td>relu</td>\n",
       "    </tr>\n",
       "    <tr>\n",
       "      <th>0</th>\n",
       "      <td>9</td>\n",
       "      <td>0.934465</td>\n",
       "      <td>0.003024</td>\n",
       "      <td>64</td>\n",
       "      <td>0.001</td>\n",
       "      <td>4</td>\n",
       "      <td>0</td>\n",
       "      <td>256</td>\n",
       "      <td>relu</td>\n",
       "    </tr>\n",
       "    <tr>\n",
       "      <th>2</th>\n",
       "      <td>10</td>\n",
       "      <td>0.933395</td>\n",
       "      <td>0.000761</td>\n",
       "      <td>256</td>\n",
       "      <td>0.1</td>\n",
       "      <td>2</td>\n",
       "      <td>0.1</td>\n",
       "      <td>256</td>\n",
       "      <td>relu</td>\n",
       "    </tr>\n",
       "  </tbody>\n",
       "</table>\n",
       "</div>"
      ],
      "text/plain": [
       "   rank_test_score  mean_test_score  std_test_score param_nn param_lr  \\\n",
       "9                1         0.951735        0.001359      128      0.1   \n",
       "1                2         0.942368        0.001424      128     0.01   \n",
       "7                3         0.941950        0.002817      128     0.01   \n",
       "3                4         0.941144        0.002846      256     0.01   \n",
       "4                5         0.940373        0.001894      128    0.001   \n",
       "5                6         0.939371        0.001855      256     0.01   \n",
       "6                7         0.938633        0.008265      256      0.1   \n",
       "8                8         0.935985        0.002134      128    0.001   \n",
       "0                9         0.934465        0.003024       64    0.001   \n",
       "2               10         0.933395        0.000761      256      0.1   \n",
       "\n",
       "  param_layers param_drop param_batch_size param_act  \n",
       "9            2        0.1              128      tanh  \n",
       "1            2          0               32      tanh  \n",
       "7            2        0.2               32      relu  \n",
       "3            3        0.2              256      tanh  \n",
       "4            3        0.2              128      relu  \n",
       "5            2        0.2              128      tanh  \n",
       "6            4        0.1              128      relu  \n",
       "8            4        0.1               32      relu  \n",
       "0            4          0              256      relu  \n",
       "2            2        0.1              256      relu  "
      ]
     },
     "execution_count": 121,
     "metadata": {},
     "output_type": "execute_result"
    }
   ],
   "source": [
    "# display output of grid search in a dataframe \n",
    "df_results = pd.DataFrame(results.cv_results_)\n",
    "df_results_concise = df_results[['rank_test_score','mean_test_score',\n",
    "       'std_test_score','param_nn', 'param_lr', 'param_layers', 'param_drop','param_batch_size', 'param_act']].sort_values(by='rank_test_score')\n",
    "df_results_concise"
   ]
  },
  {
   "cell_type": "code",
   "execution_count": 122,
   "metadata": {},
   "outputs": [
    {
     "data": {
      "text/plain": [
       "rank_test_score              1\n",
       "mean_test_score       0.951735\n",
       "std_test_score      0.00135944\n",
       "param_nn                   128\n",
       "param_lr                   0.1\n",
       "param_layers                 2\n",
       "param_drop                 0.1\n",
       "param_batch_size           128\n",
       "param_act                 tanh\n",
       "Name: 9, dtype: object"
      ]
     },
     "execution_count": 122,
     "metadata": {},
     "output_type": "execute_result"
    }
   ],
   "source": [
    "best_parameters = df_results_concise.iloc[0,:]\n",
    "best_parameters"
   ]
  },
  {
   "cell_type": "markdown",
   "metadata": {},
   "source": [
    "### model with best params after random grid search"
   ]
  },
  {
   "cell_type": "code",
   "execution_count": 126,
   "metadata": {},
   "outputs": [
    {
     "name": "stdout",
     "output_type": "stream",
     "text": [
      "The mean accuracy was: 0.9517350645778455\n",
      "With a standard deviation of: 0.0013594678179285405\n"
     ]
    }
   ],
   "source": [
    "# Import KerasClassifier from keras wrappers\n",
    "from keras.wrappers.scikit_learn import KerasClassifier\n",
    "from sklearn.model_selection import cross_val_score\n",
    "\n",
    "# best parameters for model\n",
    "layers = 2 \n",
    "nn = 128 \n",
    "lr = 0.1 \n",
    "act ='tanh'\n",
    "drop = 0.1 \n",
    "# batch size and epoch\n",
    "epochs = 10\n",
    "batch_size = 128\n",
    "\n",
    "# Create a KerasClassifier\n",
    "model = KerasClassifier(build_fn=create_model,\n",
    "                        layers=layers,\n",
    "                        nn=nn,\n",
    "                        lr=lr,\n",
    "                        act=act,\n",
    "                        drop=drop,\n",
    "                        epochs=epochs,\n",
    "                        batch_size=batch_size,\n",
    "                        verbose=0)\n",
    "\n",
    "# Calculate the accuracy score for each fold\n",
    "kfolds = cross_val_score(model, X, y, cv=3)\n",
    "\n",
    "# Print the mean accuracy\n",
    "print('The mean accuracy was:', kfolds.mean())\n",
    "\n",
    "# Print the accuracy standard deviation\n",
    "print('With a standard deviation of:', kfolds.std())"
   ]
  },
  {
   "cell_type": "markdown",
   "metadata": {},
   "source": [
    "## Define best model - multilabel architecture"
   ]
  },
  {
   "cell_type": "code",
   "execution_count": 128,
   "metadata": {},
   "outputs": [
    {
     "name": "stdout",
     "output_type": "stream",
     "text": [
      "_________________________________________________________________\n",
      "Layer (type)                 Output Shape              Param #   \n",
      "=================================================================\n",
      "dense_243 (Dense)            (None, 252)               63756     \n",
      "_________________________________________________________________\n",
      "batch_normalization_193 (Bat (None, 252)               1008      \n",
      "_________________________________________________________________\n",
      "dense_244 (Dense)            (None, 128)               32384     \n",
      "_________________________________________________________________\n",
      "dropout_143 (Dropout)        (None, 128)               0         \n",
      "_________________________________________________________________\n",
      "batch_normalization_194 (Bat (None, 128)               512       \n",
      "_________________________________________________________________\n",
      "dense_245 (Dense)            (None, 128)               16512     \n",
      "_________________________________________________________________\n",
      "dropout_144 (Dropout)        (None, 128)               0         \n",
      "_________________________________________________________________\n",
      "batch_normalization_195 (Bat (None, 128)               512       \n",
      "_________________________________________________________________\n",
      "dense_246 (Dense)            (None, 88)                11352     \n",
      "=================================================================\n",
      "Total params: 126,036\n",
      "Trainable params: 125,020\n",
      "Non-trainable params: 1,016\n",
      "_________________________________________________________________\n"
     ]
    }
   ],
   "source": [
    "# best parameters for model\n",
    "layers = 2 \n",
    "nn = 128 \n",
    "lr = 0.1 \n",
    "act ='tanh'\n",
    "drop = 0.1 \n",
    "\n",
    "# define model with best params from grid search to apply to unseen data\n",
    "model = create_model(layers=layers,\n",
    "                     nn=nn,\n",
    "                     lr=lr,\n",
    "                     act=act,\n",
    "                     drop=drop); \n",
    "\n",
    "# store the initial weights\n",
    "init_weights = model.get_weights()\n",
    "# summary for model\n",
    "model.summary()"
   ]
  }
 ],
 "metadata": {
  "kernelspec": {
   "display_name": "Python 3",
   "language": "python",
   "name": "python3"
  },
  "language_info": {
   "codemirror_mode": {
    "name": "ipython",
    "version": 3
   },
   "file_extension": ".py",
   "mimetype": "text/x-python",
   "name": "python",
   "nbconvert_exporter": "python",
   "pygments_lexer": "ipython3",
   "version": "3.7.3"
  }
 },
 "nbformat": 4,
 "nbformat_minor": 4
}
