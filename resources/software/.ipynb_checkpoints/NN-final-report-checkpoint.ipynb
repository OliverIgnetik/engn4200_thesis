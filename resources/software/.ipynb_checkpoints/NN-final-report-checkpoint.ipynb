{
 "cells": [
  {
   "cell_type": "code",
   "execution_count": 6,
   "metadata": {},
   "outputs": [],
   "source": [
    "# basic imports\n",
    "import pandas as pd, matplotlib.pyplot as plt, numpy as np \n",
    "import IPython.display as ipd"
   ]
  },
  {
   "cell_type": "code",
   "execution_count": 7,
   "metadata": {},
   "outputs": [],
   "source": [
    "# librosa - for CQT and visualisation\n",
    "import librosa, librosa.display"
   ]
  },
  {
   "cell_type": "code",
   "execution_count": 8,
   "metadata": {},
   "outputs": [],
   "source": [
    "# Interval for label storage\n",
    "from intervaltree import Interval,IntervalTree"
   ]
  },
  {
   "cell_type": "markdown",
   "metadata": {},
   "source": [
    "# Neural Network Multilabel Classification"
   ]
  },
  {
   "cell_type": "markdown",
   "metadata": {},
   "source": [
    "## Outline"
   ]
  },
  {
   "cell_type": "markdown",
   "metadata": {},
   "source": [
    "We will make use of a neural network to help with automatic music transcription. We will train the model with a STFT array and the ground truth annotations for the music piece. Essentially for each frame in the audio signal we a CQT transform with 252 bins and a corresponding binary labels array of length 88.\n",
    "\n",
    "**TYPE OF PROBLEM** - This type of problem is known a multi-label classification problem."
   ]
  },
  {
   "cell_type": "markdown",
   "metadata": {},
   "source": [
    "**INPUT**\n",
    "- The input to the model is a Constant Q Transform (CQT) of the music data for each song. We are making use of a CQT because the frequency resolution in the lower ranges is better then a traditional STFT. The dimensions of the input array are determined by the number of frames and the number of bins/features of the CQT.\n",
    "\n",
    "**OUTPUT**\n",
    "- the output for each frame is a vector with 88 elements corresponding to the notes on a piano. A binary value of 1 corresponds to the note being active\n",
    "- we will train the model on ground truth annotations\n",
    "\n",
    "**GOAL** \n",
    "- to learn the weights by fitting the model to the data and optimizing the loss function "
   ]
  },
  {
   "cell_type": "markdown",
   "metadata": {},
   "source": [
    "**HYPER PARAMETERS TO TUNE** \n",
    "- number of layers \n",
    "- dropout rates\n",
    "- number of neurons in hidden layers\n",
    "\n",
    "We will make use of a dictionary data structure to iterate over different parameter values whilst keeping other parameters as set in the baseline model. "
   ]
  },
  {
   "cell_type": "markdown",
   "metadata": {},
   "source": [
    "## Import data"
   ]
  },
  {
   "cell_type": "code",
   "execution_count": 9,
   "metadata": {},
   "outputs": [
    {
     "data": {
      "text/plain": [
       "h5py._hl.files.File"
      ]
     },
     "execution_count": 9,
     "metadata": {},
     "output_type": "execute_result"
    }
   ],
   "source": [
    "# import h5py to read in hdf5 files \n",
    "import h5py\n",
    "\n",
    "filename ='musicnet.h5'\n",
    "music_net = h5py.File(filename,'r')\n",
    "type(music_net)"
   ]
  },
  {
   "cell_type": "code",
   "execution_count": 10,
   "metadata": {},
   "outputs": [
    {
     "data": {
      "text/plain": [
       "['id_1764', 'id_1765', 'id_1766']"
      ]
     },
     "execution_count": 10,
     "metadata": {},
     "output_type": "execute_result"
    }
   ],
   "source": [
    "# extract 3 songs from the database from the 21st index\n",
    "i = 20 # start index\n",
    "n = 3\n",
    "source_list = list(music_net.keys())[i:n+i]\n",
    "source_list"
   ]
  },
  {
   "cell_type": "code",
   "execution_count": 11,
   "metadata": {},
   "outputs": [
    {
     "data": {
      "image/png": "[encoded data removed]",
      "text/plain": [
       "<Figure size 432x288 with 1 Axes>"
      ]
     },
     "metadata": {
      "needs_background": "light"
     },
     "output_type": "display_data"
    }
   ],
   "source": [
    "# plot the audio data \n",
    "librosa.display.waveplot(music_net[source_list[0]]['data'][()],\n",
    "                         sr=44100,\n",
    "                         x_axis= 'time');\n",
    "plt.ylabel('normalized mono channel');\n",
    "plt.title('waveform for song');"
   ]
  },
  {
   "cell_type": "markdown",
   "metadata": {},
   "source": [
    "## Preprocessing"
   ]
  },
  {
   "cell_type": "code",
   "execution_count": 12,
   "metadata": {},
   "outputs": [
    {
     "name": "stdout",
     "output_type": "stream",
     "text": [
      "initializing cqt transforms\n",
      "------------------------------------------------------------\n",
      "extracting data from id_1764\n",
      "extracting data from id_1765\n",
      "extracting data from id_1766\n",
      "------------------------------------------------------------\n",
      "CQT transformation on each song complete\n",
      "------------------------------------------------------------\n",
      "CQT dimensions: [(13696, 252), (21144, 252), (13356, 252)]\n"
     ]
    }
   ],
   "source": [
    "# init lists for storing results\n",
    "cqt_container = [] # array to store the cqt for each song\n",
    "cqt_shapes = [] # array to store the shapes of each cqt\n",
    "\n",
    "print('initializing cqt transforms')\n",
    "print('-'*60)\n",
    "for id_ in source_list:\n",
    "    print('extracting data from',id_)\n",
    "    # extract the mono audio data and labels\n",
    "    song = music_net[id_]\n",
    "    music = song['data'][()]\n",
    "\n",
    "    # downsampling\n",
    "    sr = 44100\n",
    "    sr_16k = 16000\n",
    "\n",
    "    # resample to 16kHz to increase the the number of cqt points\n",
    "    music = librosa.resample(music,sr,sr_16k)\n",
    "\n",
    "    # CQT parameters\n",
    "    sr_16k = sr_16k # downsampling to 16kHz\n",
    "    hop_length = 512 # 32ms frames  \n",
    "    bins_per_octave = 36 # corresponds to 7 octaves on the piano \n",
    "    # 7 x 36 = 252 number of bins \n",
    "    n_bins = 252 # frequency resolution \n",
    "    window = 'hann' # hanning window for smoothness\n",
    "\n",
    "    # CQT absolute magnitude \n",
    "    C = np.abs(librosa.cqt(music,\n",
    "                           sr = sr_16k , \n",
    "                           hop_length = hop_length,\n",
    "                           bins_per_octave = bins_per_octave,\n",
    "                           window = window,\n",
    "                           n_bins = n_bins))\n",
    "    # transpose to get the array in the correct format\n",
    "    C = np.transpose(C)\n",
    "    \n",
    "    # append the length of this cqt to the length array \n",
    "    cqt_shapes.append(C.shape)\n",
    "    \n",
    "    # append to container\n",
    "    cqt_container.append(C)\n",
    "\n",
    "print('-'*60)\n",
    "print('CQT transformation on each song complete')\n",
    "print('-'*60)\n",
    "print('CQT dimensions:', cqt_shapes)"
   ]
  },
  {
   "cell_type": "code",
   "execution_count": 13,
   "metadata": {},
   "outputs": [
    {
     "name": "stdout",
     "output_type": "stream",
     "text": [
      "constructing label vectors\n",
      "------------------------------------------------------------\n",
      "labels preprocessed\n",
      "------------------------------------------------------------\n",
      "labels dimensions: [(13696, 88), (21144, 88), (13356, 88)]\n"
     ]
    }
   ],
   "source": [
    "# extract and format labels \n",
    "labels_container = [] # array to store the labels of each song\n",
    "labels_shapes = [] # array for storing label dimensions\n",
    "\n",
    "# set up params for labels \n",
    "number_of_notes = 88 ## 88 piano notes \n",
    "hop_length = 512 # 32ms frames  \n",
    "# counter to loop through cqt container \n",
    "i = 0 \n",
    "\n",
    "print('constructing label vectors')\n",
    "print('-'*60)\n",
    "\n",
    "for id_ in source_list:\n",
    "    # retrieve the song for this id \n",
    "    song = music_net[id_]\n",
    "    raw_labels = song['labels'][()]\n",
    "    \n",
    "    # number of frames in this song\n",
    "    number_frames = cqt_container[i].shape[0]\n",
    "    i += 1  \n",
    "    \n",
    "    # binary labels - one hot encoding\n",
    "    binary_labels = np.zeros((number_frames, number_of_notes))\n",
    "\n",
    "    # init tree for slicing\n",
    "    labels_tree = IntervalTree()\n",
    "    # construct interval tree \n",
    "    for label in raw_labels: \n",
    "        pitch = label['note_id']\n",
    "        start_time = label['start_time']\n",
    "        end_time = label['end_time']\n",
    "        labels_tree.addi(start_time,end_time,pitch)\n",
    "\n",
    "    # resample the labels by finding the number of frames per second\n",
    "    for frame in range(binary_labels.shape[0]):\n",
    "        # slice the interval tree for notes in this frame \n",
    "        labels = labels_tree.at(frame*hop_length)\n",
    "        for label in labels:\n",
    "            # the labels vector is from 0 to 87 \n",
    "            # 21 is the A0 on the piano\n",
    "            pitch = label[2]-21 \n",
    "            # if this pitch is active in this window \n",
    "            binary_labels[frame,pitch] = 1\n",
    "    \n",
    "    # append the binary_labels\n",
    "    labels_container.append(binary_labels)\n",
    "    # store label shapes \n",
    "    labels_shapes.append(binary_labels.shape)\n",
    "\n",
    "print('labels preprocessed')\n",
    "print('-'*60)\n",
    "print('labels dimensions:', labels_shapes)"
   ]
  },
  {
   "cell_type": "code",
   "execution_count": 14,
   "metadata": {},
   "outputs": [],
   "source": [
    "# stack the containers vertically\n",
    "X = np.vstack(cqt_container)\n",
    "y = np.vstack(labels_container)"
   ]
  },
  {
   "cell_type": "markdown",
   "metadata": {},
   "source": [
    "## train-test split and normalization"
   ]
  },
  {
   "cell_type": "code",
   "execution_count": 15,
   "metadata": {},
   "outputs": [],
   "source": [
    "# split into training and test \n",
    "from sklearn.model_selection import train_test_split\n",
    "\n",
    "# split into train, test and validation \n",
    "X_train_val, X_test, y_train_val, y_test = train_test_split(X, y, test_size = 0.2, random_state=42)\n",
    "# # need to set split = 0.25 to get 60-20-20 split \n",
    "X_train, X_val, y_train, y_val = train_test_split(X_train_val,y_train_val, test_size=0.25, random_state=42)"
   ]
  },
  {
   "cell_type": "code",
   "execution_count": 16,
   "metadata": {},
   "outputs": [],
   "source": [
    "# Normalization - to test sets having values \n",
    "# outside training test range\n",
    "max_train = X_train.max()\n",
    "min_train = X_train.min()\n",
    "max_val = X_val.max()\n",
    "min_val = X_val.min()\n",
    "max_test = X_test.max()\n",
    "min_test = X_test.min()\n",
    "\n",
    "# normalize\n",
    "X_val_norm = (X_val - min_train)/(max_train - min_train)\n",
    "X_test_norm = (X_test - min_train)/(max_train - min_train)\n",
    "X_train_norm = (X_train - min_train)/(max_train - min_train)\n",
    "\n",
    "# Compute the mean\n",
    "train_mean = np.mean(X_train_norm, axis = 0)\n",
    "\n",
    "# Substract it\n",
    "X_train_norm = X_train_norm - train_mean\n",
    "X_val_norm = X_val_norm - train_mean\n",
    "X_test_norm = X_test_norm - train_mean\n",
    "\n",
    "# reassign for easy interpretation \n",
    "X_train = X_train_norm\n",
    "X_val = X_val_norm\n",
    "X_test = X_test_norm"
   ]
  },
  {
   "cell_type": "markdown",
   "metadata": {},
   "source": [
    "## Multilabel architecture"
   ]
  },
  {
   "cell_type": "markdown",
   "metadata": {},
   "source": [
    "### Appropriate loss function for imbalanced multi-label classification"
   ]
  },
  {
   "cell_type": "code",
   "execution_count": 17,
   "metadata": {},
   "outputs": [
    {
     "name": "stderr",
     "output_type": "stream",
     "text": [
      "C:\\Users\\olli\\anaconda3\\lib\\site-packages\\tensorflow\\python\\framework\\dtypes.py:516: FutureWarning: Passing (type, 1) or '1type' as a synonym of type is deprecated; in a future version of numpy, it will be understood as (type, (1,)) / '(1,)type'.\n",
      "  _np_qint8 = np.dtype([(\"qint8\", np.int8, 1)])\n",
      "C:\\Users\\olli\\anaconda3\\lib\\site-packages\\tensorflow\\python\\framework\\dtypes.py:517: FutureWarning: Passing (type, 1) or '1type' as a synonym of type is deprecated; in a future version of numpy, it will be understood as (type, (1,)) / '(1,)type'.\n",
      "  _np_quint8 = np.dtype([(\"quint8\", np.uint8, 1)])\n",
      "C:\\Users\\olli\\anaconda3\\lib\\site-packages\\tensorflow\\python\\framework\\dtypes.py:518: FutureWarning: Passing (type, 1) or '1type' as a synonym of type is deprecated; in a future version of numpy, it will be understood as (type, (1,)) / '(1,)type'.\n",
      "  _np_qint16 = np.dtype([(\"qint16\", np.int16, 1)])\n",
      "C:\\Users\\olli\\anaconda3\\lib\\site-packages\\tensorflow\\python\\framework\\dtypes.py:519: FutureWarning: Passing (type, 1) or '1type' as a synonym of type is deprecated; in a future version of numpy, it will be understood as (type, (1,)) / '(1,)type'.\n",
      "  _np_quint16 = np.dtype([(\"quint16\", np.uint16, 1)])\n",
      "C:\\Users\\olli\\anaconda3\\lib\\site-packages\\tensorflow\\python\\framework\\dtypes.py:520: FutureWarning: Passing (type, 1) or '1type' as a synonym of type is deprecated; in a future version of numpy, it will be understood as (type, (1,)) / '(1,)type'.\n",
      "  _np_qint32 = np.dtype([(\"qint32\", np.int32, 1)])\n",
      "C:\\Users\\olli\\anaconda3\\lib\\site-packages\\tensorflow\\python\\framework\\dtypes.py:525: FutureWarning: Passing (type, 1) or '1type' as a synonym of type is deprecated; in a future version of numpy, it will be understood as (type, (1,)) / '(1,)type'.\n",
      "  np_resource = np.dtype([(\"resource\", np.ubyte, 1)])\n",
      "C:\\Users\\olli\\anaconda3\\lib\\site-packages\\tensorboard\\compat\\tensorflow_stub\\dtypes.py:541: FutureWarning: Passing (type, 1) or '1type' as a synonym of type is deprecated; in a future version of numpy, it will be understood as (type, (1,)) / '(1,)type'.\n",
      "  _np_qint8 = np.dtype([(\"qint8\", np.int8, 1)])\n",
      "C:\\Users\\olli\\anaconda3\\lib\\site-packages\\tensorboard\\compat\\tensorflow_stub\\dtypes.py:542: FutureWarning: Passing (type, 1) or '1type' as a synonym of type is deprecated; in a future version of numpy, it will be understood as (type, (1,)) / '(1,)type'.\n",
      "  _np_quint8 = np.dtype([(\"quint8\", np.uint8, 1)])\n",
      "C:\\Users\\olli\\anaconda3\\lib\\site-packages\\tensorboard\\compat\\tensorflow_stub\\dtypes.py:543: FutureWarning: Passing (type, 1) or '1type' as a synonym of type is deprecated; in a future version of numpy, it will be understood as (type, (1,)) / '(1,)type'.\n",
      "  _np_qint16 = np.dtype([(\"qint16\", np.int16, 1)])\n",
      "C:\\Users\\olli\\anaconda3\\lib\\site-packages\\tensorboard\\compat\\tensorflow_stub\\dtypes.py:544: FutureWarning: Passing (type, 1) or '1type' as a synonym of type is deprecated; in a future version of numpy, it will be understood as (type, (1,)) / '(1,)type'.\n",
      "  _np_quint16 = np.dtype([(\"quint16\", np.uint16, 1)])\n",
      "C:\\Users\\olli\\anaconda3\\lib\\site-packages\\tensorboard\\compat\\tensorflow_stub\\dtypes.py:545: FutureWarning: Passing (type, 1) or '1type' as a synonym of type is deprecated; in a future version of numpy, it will be understood as (type, (1,)) / '(1,)type'.\n",
      "  _np_qint32 = np.dtype([(\"qint32\", np.int32, 1)])\n",
      "C:\\Users\\olli\\anaconda3\\lib\\site-packages\\tensorboard\\compat\\tensorflow_stub\\dtypes.py:550: FutureWarning: Passing (type, 1) or '1type' as a synonym of type is deprecated; in a future version of numpy, it will be understood as (type, (1,)) / '(1,)type'.\n",
      "  np_resource = np.dtype([(\"resource\", np.ubyte, 1)])\n",
      "Using TensorFlow backend.\n"
     ]
    }
   ],
   "source": [
    "# balanced loss function for multi-label problem\n",
    "    \n",
    "import tensorflow as tf\n",
    "import keras.backend.tensorflow_backend as tfb\n",
    "\n",
    "POS_WEIGHT = 10  # multiplier for positive targets, there are approximately 10-15 times as many inactive notes to active notes in the dataset per frame\n",
    "\n",
    "def weighted_binary_crossentropy(target, output):\n",
    "    \"\"\"\n",
    "    Weighted binary crossentropy between an output tensor \n",
    "    and a target tensor. POS_WEIGHT is used as a multiplier \n",
    "    for the positive targets.\n",
    "\n",
    "    Combination of the following functions:\n",
    "    * keras.losses.binary_crossentropy\n",
    "    * keras.backend.tensorflow_backend.binary_crossentropy\n",
    "    * tf.nn.weighted_cross_entropy_with_logits\n",
    "    \"\"\"\n",
    "    # transform back to logits\n",
    "    _epsilon = tfb._to_tensor(tfb.epsilon(), output.dtype.base_dtype)\n",
    "    output = tf.clip_by_value(output, _epsilon, 1 - _epsilon)\n",
    "    output = tf.math.log(output / (1 - output))\n",
    "    # compute weighted loss\n",
    "    loss = tf.nn.weighted_cross_entropy_with_logits(labels=target,\n",
    "                                                    logits=output,\n",
    "                                                    pos_weight=POS_WEIGHT)\n",
    "    return tf.reduce_mean(loss, axis=-1)\n",
    "\n",
    "# reference - https://stackoverflow.com/questions/42158866/neural-network-for-multi-label-classification-with-large-number-of-classes-outpu"
   ]
  },
  {
   "cell_type": "markdown",
   "metadata": {},
   "source": [
    "### Appropriate metric for multilabel classification tasks"
   ]
  },
  {
   "cell_type": "code",
   "execution_count": 18,
   "metadata": {},
   "outputs": [],
   "source": [
    "from keras import backend as K\n",
    "\n",
    "def f1_score(y_true, y_pred):\n",
    "    def recall(y_true, y_pred):\n",
    "        \"\"\"Recall metric.\n",
    "\n",
    "        Only computes a batch-wise average of recall.\n",
    "\n",
    "        Computes the recall, a metric for multi-label classification of\n",
    "        how many relevant items are selected.\n",
    "        \"\"\"\n",
    "        true_positives = K.sum(K.round(K.clip(y_true * y_pred, 0, 1)))\n",
    "        possible_positives = K.sum(K.round(K.clip(y_true, 0, 1)))\n",
    "        recall = true_positives / (possible_positives + K.epsilon())\n",
    "        return recall\n",
    "\n",
    "    def precision(y_true, y_pred):\n",
    "        \"\"\"Precision metric.\n",
    "\n",
    "        Only computes a batch-wise average of precision.\n",
    "\n",
    "        Computes the precision, a metric for multi-label classification of\n",
    "        how many selected items are relevant.\n",
    "        \"\"\"\n",
    "        true_positives = K.sum(K.round(K.clip(y_true * y_pred, 0, 1)))\n",
    "        predicted_positives = K.sum(K.round(K.clip(y_pred, 0, 1)))\n",
    "        precision = true_positives / (predicted_positives + K.epsilon())\n",
    "        return precision\n",
    "    precision = precision(y_true, y_pred)\n",
    "    recall = recall(y_true, y_pred)\n",
    "    return 2*((precision*recall)/(precision+recall+K.epsilon()))"
   ]
  },
  {
   "cell_type": "markdown",
   "metadata": {},
   "source": [
    "### Baseline model definition "
   ]
  },
  {
   "cell_type": "code",
   "execution_count": 19,
   "metadata": {},
   "outputs": [],
   "source": [
    "# model definition  \n",
    "from keras.layers import Dense, Dropout\n",
    "from keras.models import Sequential \n",
    "import keras.optimizers as KO\n",
    "from keras.layers import BatchNormalization\n",
    "\n",
    "# default hyperparameters for model\n",
    "layers = 3 # layers of model \n",
    "nn = 256 # nodes\n",
    "lr = 0.001 # learning rate\n",
    "act ='relu' # activation functions\n",
    "drop = 0.1 # dropout rate to improve test error perf\n",
    "\n",
    "# default static parameters\n",
    "num_col = 252 # inputs \n",
    "output_nodes = 88 # outputs \n",
    "loss = weighted_binary_crossentropy # loss function for use in back propagation\n",
    "\n",
    "# define model with params\n",
    "def create_model(layers=layers,nn=nn,lr=lr,act=act,drop=drop):  \n",
    "  # Create an Adam optimizer with the given learning rate\n",
    "  opt = KO.Adam(lr=lr)\n",
    "  # create model \n",
    "  model = Sequential()\n",
    "  # input layer\n",
    "  model.add(Dense(num_col,kernel_initializer='normal', \n",
    "                  activation=act ,input_shape=(num_col,)))\n",
    "  model.add(Dropout(drop))\n",
    "  model.add(BatchNormalization())\n",
    "    \n",
    "  for i in range(layers):\n",
    "    # layers with dropout and batch normalization \n",
    "    model.add(Dense(nn, activation=act,\n",
    "                    kernel_initializer = 'normal'))\n",
    "    model.add(Dropout(drop))\n",
    "    model.add(BatchNormalization())\n",
    "  \n",
    "  # output layer - we require a sigmoid activation function \n",
    "  model.add(Dense(output_nodes, activation='sigmoid',kernel_initializer='normal'))\n",
    "    \n",
    "  # compile model\n",
    "  model.compile(optimizer=opt, loss=loss, metrics=[f1_score])\n",
    "    \n",
    "  return model"
   ]
  },
  {
   "cell_type": "markdown",
   "metadata": {},
   "source": [
    "## Hyperparameter Tuning"
   ]
  },
  {
   "cell_type": "markdown",
   "metadata": {},
   "source": [
    "### Function for building model and running with different parameters"
   ]
  },
  {
   "cell_type": "code",
   "execution_count": 20,
   "metadata": {},
   "outputs": [],
   "source": [
    "# Callbacks \n",
    "from keras.callbacks import EarlyStopping\n",
    "\n",
    "def build_run_model(layers=3, drop=0.1, nn=256):\n",
    "    model = create_model(layers=layers, drop=drop, nn=nn)\n",
    "    \n",
    "    # batch size and epoch\n",
    "    batch_size = 32 # mini batch size - compromise between efficiency and error\n",
    "    # only a small number of epochs is needed for hyperparameter tuning     \n",
    "    epochs = 5 # number of times to iterate through the dataset\n",
    "    \n",
    "    # patience determines how long before the model stops training after seeing no improvement\n",
    "    early_stopping_monitor = EarlyStopping(patience=10,mode='auto', verbose=1, min_delta=0, monitor='val_loss')\n",
    "    \n",
    "    model.fit(X_train,y_train,validation_data=(X_val, y_val), epochs=epochs, batch_size=batch_size,\n",
    "                        callbacks=[early_stopping_monitor], verbose=1)\n",
    "    \n",
    "    return model.history"
   ]
  },
  {
   "cell_type": "markdown",
   "metadata": {},
   "source": [
    "### Fitting model for different parameters"
   ]
  },
  {
   "cell_type": "code",
   "execution_count": 21,
   "metadata": {},
   "outputs": [
    {
     "name": "stdout",
     "output_type": "stream",
     "text": [
      "WARNING:tensorflow:From C:\\Users\\olli\\anaconda3\\lib\\site-packages\\tensorflow\\python\\ops\\math_grad.py:1250: add_dispatch_support.<locals>.wrapper (from tensorflow.python.ops.array_ops) is deprecated and will be removed in a future version.\n",
      "Instructions for updating:\n",
      "Use tf.where in 2.0, which has the same broadcast rule as np.where\n",
      "WARNING:tensorflow:From C:\\Users\\olli\\anaconda3\\lib\\site-packages\\keras\\backend\\tensorflow_backend.py:422: The name tf.global_variables is deprecated. Please use tf.compat.v1.global_variables instead.\n",
      "\n",
      "Train on 28917 samples, validate on 9639 samples\n",
      "Epoch 1/5\n",
      "28917/28917 [==============================] - 4s 140us/step - loss: 0.5586 - f1_score: 0.2652 - val_loss: 0.4669 - val_f1_score: 0.3142\n",
      "Epoch 2/5\n",
      "28917/28917 [==============================] - 3s 119us/step - loss: 0.4584 - f1_score: 0.3186 - val_loss: 0.4278 - val_f1_score: 0.3386\n",
      "Epoch 3/5\n",
      "28917/28917 [==============================] - 3s 119us/step - loss: 0.4265 - f1_score: 0.3431 - val_loss: 0.3978 - val_f1_score: 0.3601\n",
      "Epoch 4/5\n",
      "28917/28917 [==============================] - 3s 120us/step - loss: 0.4044 - f1_score: 0.3594 - val_loss: 0.3763 - val_f1_score: 0.3742\n",
      "Epoch 5/5\n",
      "28917/28917 [==============================] - 4s 121us/step - loss: 0.3851 - f1_score: 0.3742 - val_loss: 0.3739 - val_f1_score: 0.3742\n",
      "Train on 28917 samples, validate on 9639 samples\n",
      "Epoch 1/5\n",
      "28917/28917 [==============================] - 5s 172us/step - loss: 0.5645 - f1_score: 0.2596 - val_loss: 0.4702 - val_f1_score: 0.3080\n",
      "Epoch 2/5\n",
      "28917/28917 [==============================] - 4s 149us/step - loss: 0.4679 - f1_score: 0.3125 - val_loss: 0.4334 - val_f1_score: 0.3347\n",
      "Epoch 3/5\n",
      "28917/28917 [==============================] - 4s 154us/step - loss: 0.4375 - f1_score: 0.3337 - val_loss: 0.4111 - val_f1_score: 0.3453\n",
      "Epoch 4/5\n",
      "28917/28917 [==============================] - 5s 173us/step - loss: 0.4151 - f1_score: 0.3502 - val_loss: 0.3876 - val_f1_score: 0.3652\n",
      "Epoch 5/5\n",
      "28917/28917 [==============================] - 5s 173us/step - loss: 0.3964 - f1_score: 0.3655 - val_loss: 0.3679 - val_f1_score: 0.3817\n",
      "Train on 28917 samples, validate on 9639 samples\n",
      "Epoch 1/5\n",
      "28917/28917 [==============================] - 7s 231us/step - loss: 0.5714 - f1_score: 0.2548 - val_loss: 0.4860 - val_f1_score: 0.2968\n",
      "Epoch 2/5\n",
      "28917/28917 [==============================] - 7s 236us/step - loss: 0.4781 - f1_score: 0.3040 - val_loss: 0.4478 - val_f1_score: 0.3237\n",
      "Epoch 3/5\n",
      "28917/28917 [==============================] - 6s 201us/step - loss: 0.4497 - f1_score: 0.3233 - val_loss: 0.4147 - val_f1_score: 0.3401\n",
      "Epoch 4/5\n",
      "28917/28917 [==============================] - 6s 201us/step - loss: 0.4265 - f1_score: 0.3399 - val_loss: 0.3952 - val_f1_score: 0.3631\n",
      "Epoch 5/5\n",
      "28917/28917 [==============================] - 6s 208us/step - loss: 0.4097 - f1_score: 0.3537 - val_loss: 0.3784 - val_f1_score: 0.3703\n",
      "Train on 28917 samples, validate on 9639 samples\n",
      "Epoch 1/5\n",
      "28917/28917 [==============================] - 4s 151us/step - loss: 0.5362 - f1_score: 0.2807 - val_loss: 0.4476 - val_f1_score: 0.3273\n",
      "Epoch 2/5\n",
      "28917/28917 [==============================] - 4s 134us/step - loss: 0.4243 - f1_score: 0.3469 - val_loss: 0.4020 - val_f1_score: 0.3686\n",
      "Epoch 3/5\n",
      "28917/28917 [==============================] - 4s 137us/step - loss: 0.3822 - f1_score: 0.3812 - val_loss: 0.3686 - val_f1_score: 0.3920\n",
      "Epoch 4/5\n",
      "28917/28917 [==============================] - 4s 140us/step - loss: 0.3470 - f1_score: 0.4119 - val_loss: 0.3546 - val_f1_score: 0.4012\n",
      "Epoch 5/5\n",
      "28917/28917 [==============================] - 4s 136us/step - loss: 0.3192 - f1_score: 0.4376 - val_loss: 0.3110 - val_f1_score: 0.4441\n",
      "Train on 28917 samples, validate on 9639 samples\n",
      "Epoch 1/5\n",
      "28917/28917 [==============================] - 6s 204us/step - loss: 0.5654 - f1_score: 0.2598 - val_loss: 0.4721 - val_f1_score: 0.3079\n",
      "Epoch 2/5\n",
      "28917/28917 [==============================] - 5s 188us/step - loss: 0.4681 - f1_score: 0.3111 - val_loss: 0.4378 - val_f1_score: 0.3333\n",
      "Epoch 3/5\n",
      "28917/28917 [==============================] - 5s 190us/step - loss: 0.4387 - f1_score: 0.3331 - val_loss: 0.4083 - val_f1_score: 0.3448\n",
      "Epoch 4/5\n",
      "28917/28917 [==============================] - 6s 201us/step - loss: 0.4143 - f1_score: 0.3509 - val_loss: 0.3829 - val_f1_score: 0.3720\n",
      "Epoch 5/5\n",
      "28917/28917 [==============================] - 6s 204us/step - loss: 0.3953 - f1_score: 0.3672 - val_loss: 0.3692 - val_f1_score: 0.3816\n",
      "Train on 28917 samples, validate on 9639 samples\n",
      "Epoch 1/5\n",
      "28917/28917 [==============================] - 6s 209us/step - loss: 0.5849 - f1_score: 0.2449 - val_loss: 0.4879 - val_f1_score: 0.2954\n",
      "Epoch 2/5\n",
      "28917/28917 [==============================] - 6s 195us/step - loss: 0.4950 - f1_score: 0.2915 - val_loss: 0.4577 - val_f1_score: 0.3100\n",
      "Epoch 3/5\n",
      "28917/28917 [==============================] - 5s 190us/step - loss: 0.4711 - f1_score: 0.3079 - val_loss: 0.4345 - val_f1_score: 0.3295\n",
      "Epoch 4/5\n",
      "28917/28917 [==============================] - 6s 223us/step - loss: 0.4533 - f1_score: 0.3201 - val_loss: 0.4163 - val_f1_score: 0.3428\n",
      "Epoch 5/5\n",
      "28917/28917 [==============================] - 7s 248us/step - loss: 0.4394 - f1_score: 0.3307 - val_loss: 0.4058 - val_f1_score: 0.3501\n",
      "Train on 28917 samples, validate on 9639 samples\n",
      "Epoch 1/5\n",
      "28917/28917 [==============================] - 6s 194us/step - loss: 0.5749 - f1_score: 0.2549 - val_loss: 0.4817 - val_f1_score: 0.2993\n",
      "Epoch 2/5\n",
      "28917/28917 [==============================] - 6s 191us/step - loss: 0.4834 - f1_score: 0.3003 - val_loss: 0.4510 - val_f1_score: 0.3244\n",
      "Epoch 3/5\n",
      "28917/28917 [==============================] - 5s 179us/step - loss: 0.4593 - f1_score: 0.3180 - val_loss: 0.4314 - val_f1_score: 0.3309\n",
      "Epoch 4/5\n",
      "28917/28917 [==============================] - 5s 179us/step - loss: 0.4406 - f1_score: 0.3296 - val_loss: 0.4128 - val_f1_score: 0.3463\n",
      "Epoch 5/5\n",
      "28917/28917 [==============================] - 5s 183us/step - loss: 0.4275 - f1_score: 0.3396 - val_loss: 0.3979 - val_f1_score: 0.3588\n",
      "Train on 28917 samples, validate on 9639 samples\n",
      "Epoch 1/5\n",
      "28917/28917 [==============================] - 8s 293us/step - loss: 0.5650 - f1_score: 0.2600 - val_loss: 0.4700 - val_f1_score: 0.3052\n",
      "Epoch 2/5\n",
      "28917/28917 [==============================] - 8s 268us/step - loss: 0.4696 - f1_score: 0.3098 - val_loss: 0.4354 - val_f1_score: 0.3362\n",
      "Epoch 3/5\n",
      "28917/28917 [==============================] - 8s 266us/step - loss: 0.4387 - f1_score: 0.3332 - val_loss: 0.4066 - val_f1_score: 0.3602\n",
      "Epoch 4/5\n",
      "28917/28917 [==============================] - 8s 281us/step - loss: 0.4163 - f1_score: 0.3494 - val_loss: 0.3886 - val_f1_score: 0.3621\n",
      "Epoch 5/5\n",
      "28917/28917 [==============================] - 8s 284us/step - loss: 0.3966 - f1_score: 0.3661 - val_loss: 0.3712 - val_f1_score: 0.3806\n",
      "Train on 28917 samples, validate on 9639 samples\n",
      "Epoch 1/5\n",
      "28917/28917 [==============================] - 17s 582us/step - loss: 0.5662 - f1_score: 0.2605 - val_loss: 0.4632 - val_f1_score: 0.3179\n",
      "Epoch 2/5\n",
      "28917/28917 [==============================] - 16s 549us/step - loss: 0.4600 - f1_score: 0.3187 - val_loss: 0.4305 - val_f1_score: 0.3378\n",
      "Epoch 3/5\n",
      "28917/28917 [==============================] - 15s 533us/step - loss: 0.4209 - f1_score: 0.3464 - val_loss: 0.3843 - val_f1_score: 0.3658\n",
      "Epoch 4/5\n",
      "28917/28917 [==============================] - 16s 539us/step - loss: 0.3931 - f1_score: 0.3680 - val_loss: 0.3753 - val_f1_score: 0.3744\n",
      "Epoch 5/5\n",
      "28917/28917 [==============================] - 16s 541us/step - loss: 0.3691 - f1_score: 0.3895 - val_loss: 0.3465 - val_f1_score: 0.3993\n"
     ]
    }
   ],
   "source": [
    "results = {}\n",
    "\n",
    "# parameters for tuning\n",
    "params = { \n",
    "          'layers' : [2,3,4],\n",
    "          'drop': [0, 0.1,0.2],\n",
    "          'nn': [128,256, 512]\n",
    "}\n",
    "\n",
    "# iterate through different parameters\n",
    "for param in params:\n",
    "    if param not in results.keys():\n",
    "        results[param] = {}\n",
    "        for value in params[param]:\n",
    "            if param=='layers':\n",
    "                # run and compile model and log the history object in the               \n",
    "                results[param][value] = build_run_model(layers=value)\n",
    "            elif param=='drop':\n",
    "                results[param][value] = build_run_model(drop=value)\n",
    "            elif param=='nn':\n",
    "                results[param][value] = build_run_model(nn=value)"
   ]
  },
  {
   "cell_type": "code",
   "execution_count": 22,
   "metadata": {},
   "outputs": [
    {
     "data": {
      "text/plain": [
       "{'layers': {2: <keras.callbacks.callbacks.History at 0x2843fdf8508>,\n",
       "  3: <keras.callbacks.callbacks.History at 0x28441326688>,\n",
       "  4: <keras.callbacks.callbacks.History at 0x28446658d08>},\n",
       " 'drop': {0: <keras.callbacks.callbacks.History at 0x2844bad4fc8>,\n",
       "  0.1: <keras.callbacks.callbacks.History at 0x2844d2eefc8>,\n",
       "  0.2: <keras.callbacks.callbacks.History at 0x2844ec48788>},\n",
       " 'nn': {128: <keras.callbacks.callbacks.History at 0x284534adec8>,\n",
       "  256: <keras.callbacks.callbacks.History at 0x28457e0dac8>,\n",
       "  512: <keras.callbacks.callbacks.History at 0x2845c695e08>}}"
      ]
     },
     "execution_count": 22,
     "metadata": {},
     "output_type": "execute_result"
    }
   ],
   "source": [
    "# dictionary with different params and associated information on model evaluation as an keras object\n",
    "# leaving the results in this form is more flexible then directly extracting the values\n",
    "results"
   ]
  },
  {
   "cell_type": "code",
   "execution_count": 23,
   "metadata": {},
   "outputs": [],
   "source": [
    "# Store f1 and loss results\n",
    "# layers param\n",
    "layers_vals = []\n",
    "layers_f1 = [] \n",
    "layers_loss = []\n",
    "\n",
    "# dropout param\n",
    "drop_vals = []\n",
    "drop_f1 = []\n",
    "drop_loss = []\n",
    "\n",
    "# nn param\n",
    "nn_vals = []\n",
    "nn_f1 = []\n",
    "nn_loss = []\n",
    "\n",
    "# iterate through different parameters\n",
    "for param in results:\n",
    "        for val in results[param]:\n",
    "            if param =='layers':\n",
    "                f1_score = round(results[param][val].history[\"val_f1_score\"][-1],3)\n",
    "                loss_score =round(results[param][val].history[\"val_loss\"][-1],3)\n",
    "                layers_vals.append(val)\n",
    "                layers_f1.append(f1_score)\n",
    "                layers_loss.append(loss_score)\n",
    "            elif param =='drop': \n",
    "                f1_score = round(results[param][val].history[\"val_f1_score\"][-1],3)\n",
    "                loss_score =round(results[param][val].history[\"val_loss\"][-1],3)\n",
    "                drop_vals.append(val)\n",
    "                drop_f1.append(f1_score)\n",
    "                drop_loss.append(loss_score)\n",
    "            elif param =='nn': \n",
    "                f1_score = round(results[param][val].history[\"val_f1_score\"][-1],3)\n",
    "                loss_score = round(results[param][val].history[\"val_loss\"][-1],3)\n",
    "                nn_vals.append(val)\n",
    "                nn_f1.append(f1_score)\n",
    "                nn_loss.append(loss_score)"
   ]
  },
  {
   "cell_type": "code",
   "execution_count": 24,
   "metadata": {},
   "outputs": [
    {
     "data": {
      "text/html": [
       "<div>\n",
       "<style scoped>\n",
       "    .dataframe tbody tr th:only-of-type {\n",
       "        vertical-align: middle;\n",
       "    }\n",
       "\n",
       "    .dataframe tbody tr th {\n",
       "        vertical-align: top;\n",
       "    }\n",
       "\n",
       "    .dataframe thead th {\n",
       "        text-align: right;\n",
       "    }\n",
       "</style>\n",
       "<table border=\"1\" class=\"dataframe\">\n",
       "  <thead>\n",
       "    <tr style=\"text-align: right;\">\n",
       "      <th></th>\n",
       "      <th>validation f1-measure</th>\n",
       "      <th>validation loss score</th>\n",
       "    </tr>\n",
       "    <tr>\n",
       "      <th>layers</th>\n",
       "      <th></th>\n",
       "      <th></th>\n",
       "    </tr>\n",
       "  </thead>\n",
       "  <tbody>\n",
       "    <tr>\n",
       "      <th>2</th>\n",
       "      <td>0.374</td>\n",
       "      <td>0.374</td>\n",
       "    </tr>\n",
       "    <tr>\n",
       "      <th>3</th>\n",
       "      <td>0.382</td>\n",
       "      <td>0.368</td>\n",
       "    </tr>\n",
       "    <tr>\n",
       "      <th>4</th>\n",
       "      <td>0.370</td>\n",
       "      <td>0.378</td>\n",
       "    </tr>\n",
       "  </tbody>\n",
       "</table>\n",
       "</div>"
      ],
      "text/plain": [
       "        validation f1-measure  validation loss score\n",
       "layers                                              \n",
       "2                       0.374                  0.374\n",
       "3                       0.382                  0.368\n",
       "4                       0.370                  0.378"
      ]
     },
     "execution_count": 24,
     "metadata": {},
     "output_type": "execute_result"
    }
   ],
   "source": [
    "# layers table\n",
    "layers_table = pd.DataFrame(zip(layers_vals,layers_f1,layers_loss), columns =['layers', 'validation f1-measure','validation loss score'])\n",
    "layers_table.set_index('layers',inplace=True)\n",
    "layers_table"
   ]
  },
  {
   "cell_type": "code",
   "execution_count": 25,
   "metadata": {},
   "outputs": [
    {
     "data": {
      "text/html": [
       "<div>\n",
       "<style scoped>\n",
       "    .dataframe tbody tr th:only-of-type {\n",
       "        vertical-align: middle;\n",
       "    }\n",
       "\n",
       "    .dataframe tbody tr th {\n",
       "        vertical-align: top;\n",
       "    }\n",
       "\n",
       "    .dataframe thead th {\n",
       "        text-align: right;\n",
       "    }\n",
       "</style>\n",
       "<table border=\"1\" class=\"dataframe\">\n",
       "  <thead>\n",
       "    <tr style=\"text-align: right;\">\n",
       "      <th></th>\n",
       "      <th>validation f1-measure</th>\n",
       "      <th>validation loss score</th>\n",
       "    </tr>\n",
       "    <tr>\n",
       "      <th>Dropout Rate</th>\n",
       "      <th></th>\n",
       "      <th></th>\n",
       "    </tr>\n",
       "  </thead>\n",
       "  <tbody>\n",
       "    <tr>\n",
       "      <th>0.0</th>\n",
       "      <td>0.444</td>\n",
       "      <td>0.311</td>\n",
       "    </tr>\n",
       "    <tr>\n",
       "      <th>0.1</th>\n",
       "      <td>0.382</td>\n",
       "      <td>0.369</td>\n",
       "    </tr>\n",
       "    <tr>\n",
       "      <th>0.2</th>\n",
       "      <td>0.350</td>\n",
       "      <td>0.406</td>\n",
       "    </tr>\n",
       "  </tbody>\n",
       "</table>\n",
       "</div>"
      ],
      "text/plain": [
       "              validation f1-measure  validation loss score\n",
       "Dropout Rate                                              \n",
       "0.0                           0.444                  0.311\n",
       "0.1                           0.382                  0.369\n",
       "0.2                           0.350                  0.406"
      ]
     },
     "execution_count": 25,
     "metadata": {},
     "output_type": "execute_result"
    }
   ],
   "source": [
    "# dropout table\n",
    "drop_table = pd.DataFrame(zip(drop_vals,drop_f1,drop_loss), columns =['Dropout Rate', 'validation f1-measure','validation loss score'])\n",
    "drop_table.set_index('Dropout Rate',inplace=True)\n",
    "drop_table"
   ]
  },
  {
   "cell_type": "code",
   "execution_count": 26,
   "metadata": {},
   "outputs": [
    {
     "data": {
      "text/html": [
       "<div>\n",
       "<style scoped>\n",
       "    .dataframe tbody tr th:only-of-type {\n",
       "        vertical-align: middle;\n",
       "    }\n",
       "\n",
       "    .dataframe tbody tr th {\n",
       "        vertical-align: top;\n",
       "    }\n",
       "\n",
       "    .dataframe thead th {\n",
       "        text-align: right;\n",
       "    }\n",
       "</style>\n",
       "<table border=\"1\" class=\"dataframe\">\n",
       "  <thead>\n",
       "    <tr style=\"text-align: right;\">\n",
       "      <th></th>\n",
       "      <th>validation f1-measure</th>\n",
       "      <th>validation loss score</th>\n",
       "    </tr>\n",
       "    <tr>\n",
       "      <th>Neurons in hidden layers</th>\n",
       "      <th></th>\n",
       "      <th></th>\n",
       "    </tr>\n",
       "  </thead>\n",
       "  <tbody>\n",
       "    <tr>\n",
       "      <th>128</th>\n",
       "      <td>0.359</td>\n",
       "      <td>0.398</td>\n",
       "    </tr>\n",
       "    <tr>\n",
       "      <th>256</th>\n",
       "      <td>0.381</td>\n",
       "      <td>0.371</td>\n",
       "    </tr>\n",
       "    <tr>\n",
       "      <th>512</th>\n",
       "      <td>0.399</td>\n",
       "      <td>0.346</td>\n",
       "    </tr>\n",
       "  </tbody>\n",
       "</table>\n",
       "</div>"
      ],
      "text/plain": [
       "                          validation f1-measure  validation loss score\n",
       "Neurons in hidden layers                                              \n",
       "128                                       0.359                  0.398\n",
       "256                                       0.381                  0.371\n",
       "512                                       0.399                  0.346"
      ]
     },
     "execution_count": 26,
     "metadata": {},
     "output_type": "execute_result"
    }
   ],
   "source": [
    "# layers values\n",
    "nn_table = pd.DataFrame(zip(nn_vals,nn_f1,nn_loss), columns =['Neurons in hidden layers', 'validation f1-measure','validation loss score'])\n",
    "nn_table.set_index('Neurons in hidden layers',inplace=True)\n",
    "nn_table"
   ]
  },
  {
   "cell_type": "markdown",
   "metadata": {},
   "source": [
    "### Conclusions\n",
    "\n",
    "Optimal values to use in model\n",
    "- **number of neurons per layer** : 512 \n",
    "- **Dropout Rate** : 0.1 \n",
    "- **layers** : 3"
   ]
  },
  {
   "cell_type": "markdown",
   "metadata": {},
   "source": [
    "## Making use of tuned hyperparameters"
   ]
  },
  {
   "cell_type": "markdown",
   "metadata": {},
   "source": [
    "### Redefine loss function and f1 metric for tuned model to avoid namespace conflicts"
   ]
  },
  {
   "cell_type": "code",
   "execution_count": 31,
   "metadata": {},
   "outputs": [],
   "source": [
    "# balanced loss function for multi-label problem\n",
    "    \n",
    "import tensorflow as tf\n",
    "import keras.backend.tensorflow_backend as tfb\n",
    "\n",
    "POS_WEIGHT = 10  # multiplier for positive targets, needs to be tuned\n",
    "\n",
    "def weighted_binary_crossentropy(target, output):\n",
    "    \"\"\"\n",
    "    Weighted binary crossentropy between an output tensor \n",
    "    and a target tensor. POS_WEIGHT is used as a multiplier \n",
    "    for the positive targets.\n",
    "\n",
    "    Combination of the following functions:\n",
    "    * keras.losses.binary_crossentropy\n",
    "    * keras.backend.tensorflow_backend.binary_crossentropy\n",
    "    * tf.nn.weighted_cross_entropy_with_logits\n",
    "    \"\"\"\n",
    "    # transform back to logits\n",
    "    _epsilon = tfb._to_tensor(tfb.epsilon(), output.dtype.base_dtype)\n",
    "    output = tf.clip_by_value(output, _epsilon, 1 - _epsilon)\n",
    "    output = tf.math.log(output / (1 - output))\n",
    "    # compute weighted loss\n",
    "    loss = tf.nn.weighted_cross_entropy_with_logits(labels=target,\n",
    "                                                    logits=output,\n",
    "                                                    pos_weight=POS_WEIGHT)\n",
    "    return tf.reduce_mean(loss, axis=-1)\n",
    "\n",
    "# reference - https://stackoverflow.com/questions/42158866/neural-network-for-multi-label-classification-with-large-number-of-classes-outpu"
   ]
  },
  {
   "cell_type": "code",
   "execution_count": 32,
   "metadata": {},
   "outputs": [],
   "source": [
    "from keras import backend as K\n",
    "\n",
    "def f1_score(y_true, y_pred):\n",
    "    def recall(y_true, y_pred):\n",
    "        \"\"\"Recall metric.\n",
    "\n",
    "        Only computes a batch-wise average of recall.\n",
    "\n",
    "        Computes the recall, a metric for multi-label classification of\n",
    "        how many relevant items are selected.\n",
    "        \"\"\"\n",
    "        true_positives = K.sum(K.round(K.clip(y_true * y_pred, 0, 1)))\n",
    "        possible_positives = K.sum(K.round(K.clip(y_true, 0, 1)))\n",
    "        recall = true_positives / (possible_positives + K.epsilon())\n",
    "        return recall\n",
    "\n",
    "    def precision(y_true, y_pred):\n",
    "        \"\"\"Precision metric.\n",
    "\n",
    "        Only computes a batch-wise average of precision.\n",
    "\n",
    "        Computes the precision, a metric for multi-label classification of\n",
    "        how many selected items are relevant.\n",
    "        \"\"\"\n",
    "        true_positives = K.sum(K.round(K.clip(y_true * y_pred, 0, 1)))\n",
    "        predicted_positives = K.sum(K.round(K.clip(y_pred, 0, 1)))\n",
    "        precision = true_positives / (predicted_positives + K.epsilon())\n",
    "        return precision\n",
    "    precision = precision(y_true, y_pred)\n",
    "    recall = recall(y_true, y_pred)\n",
    "    return 2*((precision*recall)/(precision+recall+K.epsilon()))"
   ]
  },
  {
   "cell_type": "markdown",
   "metadata": {},
   "source": [
    "### Tuned model definition "
   ]
  },
  {
   "cell_type": "code",
   "execution_count": 33,
   "metadata": {},
   "outputs": [],
   "source": [
    "# model definition  \n",
    "from keras.layers import Dense, Dropout\n",
    "from keras.models import Sequential \n",
    "import keras.optimizers as KO\n",
    "from keras.layers import BatchNormalization\n",
    "\n",
    "# parameters from tuning\n",
    "layers = 3 # layers of model \n",
    "nn = 512 # nodes\n",
    "lr = 0.001 # learning rate\n",
    "act ='relu' # activation functions\n",
    "drop = 0.1 # dropout rate to improve test error perf\n",
    "\n",
    "# default static parameters\n",
    "num_col = 252 # inputs \n",
    "output_nodes = 88 # outputs \n",
    "loss = weighted_binary_crossentropy # loss function for use in back propagation\n",
    "\n",
    "# define model with params\n",
    "def create_model(layers=layers,nn=nn,lr=lr,act=act,drop=drop):  \n",
    "  # Create an Adam optimizer with the given learning rate\n",
    "  opt = KO.Adam(lr=lr)\n",
    "  # create model \n",
    "  model = Sequential()\n",
    "  # input layer\n",
    "  model.add(Dense(num_col,kernel_initializer='normal', \n",
    "                  activation=act ,input_shape=(num_col,)))\n",
    "  model.add(Dropout(drop))\n",
    "  model.add(BatchNormalization())\n",
    "    \n",
    "  for i in range(layers):\n",
    "    # layers with dropout and batch normalization \n",
    "    model.add(Dense(nn, activation=act,\n",
    "                    kernel_initializer = 'normal'))\n",
    "    model.add(Dropout(drop))\n",
    "    model.add(BatchNormalization())\n",
    "  \n",
    "  # output layer - we require a sigmoid activation function \n",
    "  model.add(Dense(output_nodes, activation='sigmoid',kernel_initializer='normal'))\n",
    "    \n",
    "  # compile model\n",
    "  model.compile(optimizer=opt, loss=loss, metrics=[f1_score])\n",
    "    \n",
    "  return model"
   ]
  },
  {
   "cell_type": "markdown",
   "metadata": {},
   "source": [
    "### Fit the tuned model "
   ]
  },
  {
   "cell_type": "code",
   "execution_count": 35,
   "metadata": {},
   "outputs": [
    {
     "name": "stdout",
     "output_type": "stream",
     "text": [
      "Train on 28917 samples, validate on 9639 samples\n",
      "Epoch 1/100\n",
      "28917/28917 [==============================] - 16s 537us/step - loss: 0.5667 - f1_score: 0.2594 - val_loss: 0.4829 - val_f1_score: 0.2980\n",
      "Epoch 2/100\n",
      "28917/28917 [==============================] - 16s 544us/step - loss: 0.4603 - f1_score: 0.3175 - val_loss: 0.4152 - val_f1_score: 0.3471\n",
      "Epoch 3/100\n",
      "28917/28917 [==============================] - 17s 593us/step - loss: 0.4217 - f1_score: 0.3451 - val_loss: 0.3911 - val_f1_score: 0.3614\n",
      "Epoch 4/100\n",
      "28917/28917 [==============================] - 18s 637us/step - loss: 0.3936 - f1_score: 0.3676 - val_loss: 0.3731 - val_f1_score: 0.3799\n",
      "Epoch 5/100\n",
      "28917/28917 [==============================] - 19s 655us/step - loss: 0.3696 - f1_score: 0.3879 - val_loss: 0.3409 - val_f1_score: 0.4061\n",
      "Epoch 6/100\n",
      "28917/28917 [==============================] - 18s 630us/step - loss: 0.3502 - f1_score: 0.4068 - val_loss: 0.3272 - val_f1_score: 0.4155\n",
      "Epoch 7/100\n",
      "28917/28917 [==============================] - 18s 628us/step - loss: 0.3338 - f1_score: 0.4219 - val_loss: 0.3160 - val_f1_score: 0.4266\n",
      "Epoch 8/100\n",
      "28917/28917 [==============================] - 18s 624us/step - loss: 0.3214 - f1_score: 0.4333 - val_loss: 0.2896 - val_f1_score: 0.4551\n",
      "Epoch 9/100\n",
      "28917/28917 [==============================] - 18s 621us/step - loss: 0.3077 - f1_score: 0.4475 - val_loss: 0.2855 - val_f1_score: 0.4605\n",
      "Epoch 10/100\n",
      "28917/28917 [==============================] - 18s 622us/step - loss: 0.2985 - f1_score: 0.4583 - val_loss: 0.2749 - val_f1_score: 0.4735\n",
      "Epoch 11/100\n",
      "28917/28917 [==============================] - 18s 627us/step - loss: 0.2885 - f1_score: 0.4686 - val_loss: 0.2592 - val_f1_score: 0.4850\n",
      "Epoch 12/100\n",
      "28917/28917 [==============================] - 18s 628us/step - loss: 0.2795 - f1_score: 0.4795 - val_loss: 0.2532 - val_f1_score: 0.4927\n",
      "Epoch 13/100\n",
      "28917/28917 [==============================] - 18s 630us/step - loss: 0.2717 - f1_score: 0.4890 - val_loss: 0.2437 - val_f1_score: 0.5011\n",
      "Epoch 14/100\n",
      "28917/28917 [==============================] - 19s 662us/step - loss: 0.2641 - f1_score: 0.4964 - val_loss: 0.2373 - val_f1_score: 0.5121\n",
      "Epoch 15/100\n",
      "28917/28917 [==============================] - 18s 633us/step - loss: 0.2589 - f1_score: 0.5024 - val_loss: 0.2269 - val_f1_score: 0.5287\n",
      "Epoch 16/100\n",
      "28917/28917 [==============================] - 18s 636us/step - loss: 0.2511 - f1_score: 0.5125 - val_loss: 0.2269 - val_f1_score: 0.5344\n",
      "Epoch 17/100\n",
      "28917/28917 [==============================] - 19s 650us/step - loss: 0.2476 - f1_score: 0.5197 - val_loss: 0.2191 - val_f1_score: 0.5305\n",
      "Epoch 18/100\n",
      "28917/28917 [==============================] - 18s 636us/step - loss: 0.2410 - f1_score: 0.5258 - val_loss: 0.2162 - val_f1_score: 0.5395\n",
      "Epoch 19/100\n",
      "28917/28917 [==============================] - 19s 643us/step - loss: 0.2357 - f1_score: 0.5340 - val_loss: 0.2139 - val_f1_score: 0.5477\n",
      "Epoch 20/100\n",
      "28917/28917 [==============================] - 19s 644us/step - loss: 0.2312 - f1_score: 0.5396 - val_loss: 0.2116 - val_f1_score: 0.5409\n",
      "Epoch 21/100\n",
      "28917/28917 [==============================] - 18s 640us/step - loss: 0.2290 - f1_score: 0.5439 - val_loss: 0.2071 - val_f1_score: 0.5498\n",
      "Epoch 22/100\n",
      "28917/28917 [==============================] - 19s 649us/step - loss: 0.2226 - f1_score: 0.5504 - val_loss: 0.1977 - val_f1_score: 0.5651\n",
      "Epoch 23/100\n",
      "28917/28917 [==============================] - 19s 664us/step - loss: 0.2181 - f1_score: 0.5579 - val_loss: 0.1934 - val_f1_score: 0.5671\n",
      "Epoch 24/100\n",
      "28917/28917 [==============================] - 19s 652us/step - loss: 0.2157 - f1_score: 0.5619 - val_loss: 0.1970 - val_f1_score: 0.5618\n",
      "Epoch 25/100\n",
      "28917/28917 [==============================] - 19s 669us/step - loss: 0.2143 - f1_score: 0.5641 - val_loss: 0.1837 - val_f1_score: 0.5887\n",
      "Epoch 26/100\n",
      "28917/28917 [==============================] - 19s 664us/step - loss: 0.2068 - f1_score: 0.5739 - val_loss: 0.1837 - val_f1_score: 0.5881\n",
      "Epoch 27/100\n",
      "28917/28917 [==============================] - 20s 695us/step - loss: 0.2045 - f1_score: 0.5777 - val_loss: 0.1830 - val_f1_score: 0.5777\n",
      "Epoch 28/100\n",
      "28917/28917 [==============================] - 20s 688us/step - loss: 0.2023 - f1_score: 0.5825 - val_loss: 0.1747 - val_f1_score: 0.5943\n",
      "Epoch 29/100\n",
      "28917/28917 [==============================] - 20s 702us/step - loss: 0.1996 - f1_score: 0.5851 - val_loss: 0.1757 - val_f1_score: 0.5918\n",
      "Epoch 30/100\n",
      "28917/28917 [==============================] - 20s 699us/step - loss: 0.1984 - f1_score: 0.5875 - val_loss: 0.1742 - val_f1_score: 0.5971\n",
      "Epoch 31/100\n",
      "28917/28917 [==============================] - 20s 707us/step - loss: 0.1935 - f1_score: 0.5949 - val_loss: 0.1698 - val_f1_score: 0.6049\n",
      "Epoch 32/100\n",
      "28917/28917 [==============================] - 20s 701us/step - loss: 0.1890 - f1_score: 0.6004 - val_loss: 0.1654 - val_f1_score: 0.6131\n",
      "Epoch 33/100\n",
      "28917/28917 [==============================] - 20s 705us/step - loss: 0.1885 - f1_score: 0.6020 - val_loss: 0.1659 - val_f1_score: 0.6130\n",
      "Epoch 34/100\n",
      "28917/28917 [==============================] - 20s 700us/step - loss: 0.1858 - f1_score: 0.6078 - val_loss: 0.1603 - val_f1_score: 0.6166\n",
      "Epoch 35/100\n",
      "28917/28917 [==============================] - 20s 701us/step - loss: 0.1829 - f1_score: 0.6114 - val_loss: 0.1613 - val_f1_score: 0.6164\n",
      "Epoch 36/100\n",
      "28917/28917 [==============================] - 20s 707us/step - loss: 0.1796 - f1_score: 0.6158 - val_loss: 0.1629 - val_f1_score: 0.6159\n",
      "Epoch 37/100\n",
      "28917/28917 [==============================] - 20s 696us/step - loss: 0.1814 - f1_score: 0.6138 - val_loss: 0.1606 - val_f1_score: 0.6199\n",
      "Epoch 38/100\n",
      "28917/28917 [==============================] - 20s 695us/step - loss: 0.1767 - f1_score: 0.6210 - val_loss: 0.1576 - val_f1_score: 0.6291\n",
      "Epoch 39/100\n",
      "28917/28917 [==============================] - 21s 715us/step - loss: 0.1733 - f1_score: 0.6259 - val_loss: 0.1595 - val_f1_score: 0.6232\n",
      "Epoch 40/100\n",
      "28917/28917 [==============================] - 20s 700us/step - loss: 0.1722 - f1_score: 0.6303 - val_loss: 0.1479 - val_f1_score: 0.6455\n",
      "Epoch 41/100\n",
      "28917/28917 [==============================] - 20s 700us/step - loss: 0.1705 - f1_score: 0.6323 - val_loss: 0.1580 - val_f1_score: 0.6261\n",
      "Epoch 42/100\n",
      "28917/28917 [==============================] - 20s 700us/step - loss: 0.1699 - f1_score: 0.6335 - val_loss: 0.1468 - val_f1_score: 0.6453\n",
      "Epoch 43/100\n",
      "28917/28917 [==============================] - 20s 702us/step - loss: 0.1671 - f1_score: 0.6378 - val_loss: 0.1456 - val_f1_score: 0.6497\n",
      "Epoch 44/100\n",
      "28917/28917 [==============================] - 20s 706us/step - loss: 0.1653 - f1_score: 0.6407 - val_loss: 0.1438 - val_f1_score: 0.6640\n",
      "Epoch 45/100\n",
      "28917/28917 [==============================] - 20s 697us/step - loss: 0.1626 - f1_score: 0.6449 - val_loss: 0.1444 - val_f1_score: 0.6565\n",
      "Epoch 46/100\n",
      "28917/28917 [==============================] - 20s 698us/step - loss: 0.1604 - f1_score: 0.6488 - val_loss: 0.1400 - val_f1_score: 0.6641\n",
      "Epoch 47/100\n",
      "28917/28917 [==============================] - 20s 704us/step - loss: 0.1599 - f1_score: 0.6505 - val_loss: 0.1458 - val_f1_score: 0.6480\n",
      "Epoch 48/100\n",
      "28917/28917 [==============================] - 20s 698us/step - loss: 0.1609 - f1_score: 0.6491 - val_loss: 0.1385 - val_f1_score: 0.6580\n",
      "Epoch 49/100\n",
      "28917/28917 [==============================] - 20s 699us/step - loss: 0.1565 - f1_score: 0.6553 - val_loss: 0.1414 - val_f1_score: 0.6589\n",
      "Epoch 50/100\n",
      "28917/28917 [==============================] - 20s 709us/step - loss: 0.1538 - f1_score: 0.6602 - val_loss: 0.1331 - val_f1_score: 0.6770\n",
      "Epoch 51/100\n",
      "28917/28917 [==============================] - 20s 699us/step - loss: 0.1538 - f1_score: 0.6608 - val_loss: 0.1366 - val_f1_score: 0.6620\n",
      "Epoch 52/100\n",
      "28917/28917 [==============================] - 20s 703us/step - loss: 0.1522 - f1_score: 0.6644 - val_loss: 0.1361 - val_f1_score: 0.6765\n",
      "Epoch 53/100\n",
      "28917/28917 [==============================] - 20s 709us/step - loss: 0.1511 - f1_score: 0.6653 - val_loss: 0.1310 - val_f1_score: 0.6811\n",
      "Epoch 54/100\n",
      "28917/28917 [==============================] - 21s 712us/step - loss: 0.1480 - f1_score: 0.6711 - val_loss: 0.1260 - val_f1_score: 0.6856\n",
      "Epoch 55/100\n",
      "28917/28917 [==============================] - 21s 718us/step - loss: 0.1486 - f1_score: 0.6710 - val_loss: 0.1317 - val_f1_score: 0.6832\n",
      "Epoch 56/100\n",
      "28917/28917 [==============================] - 21s 716us/step - loss: 0.1463 - f1_score: 0.6734 - val_loss: 0.1272 - val_f1_score: 0.6876\n",
      "Epoch 57/100\n",
      "28917/28917 [==============================] - 21s 715us/step - loss: 0.1461 - f1_score: 0.6752 - val_loss: 0.1286 - val_f1_score: 0.6804\n",
      "Epoch 58/100\n",
      "28917/28917 [==============================] - 21s 720us/step - loss: 0.1464 - f1_score: 0.6755 - val_loss: 0.1281 - val_f1_score: 0.6831\n",
      "Epoch 59/100\n",
      "28917/28917 [==============================] - 21s 711us/step - loss: 0.1427 - f1_score: 0.6804 - val_loss: 0.1266 - val_f1_score: 0.6786\n",
      "Epoch 60/100\n",
      "28917/28917 [==============================] - 21s 709us/step - loss: 0.1416 - f1_score: 0.6822 - val_loss: 0.1250 - val_f1_score: 0.6851\n",
      "Epoch 61/100\n",
      "28917/28917 [==============================] - 21s 714us/step - loss: 0.1405 - f1_score: 0.6846 - val_loss: 0.1224 - val_f1_score: 0.7027\n",
      "Epoch 62/100\n",
      "28917/28917 [==============================] - 21s 721us/step - loss: 0.1398 - f1_score: 0.6866 - val_loss: 0.1236 - val_f1_score: 0.6947\n",
      "Epoch 63/100\n",
      "28917/28917 [==============================] - 21s 710us/step - loss: 0.1374 - f1_score: 0.6893 - val_loss: 0.1229 - val_f1_score: 0.6957\n",
      "Epoch 64/100\n",
      "28917/28917 [==============================] - 21s 714us/step - loss: 0.1378 - f1_score: 0.6893 - val_loss: 0.1204 - val_f1_score: 0.6996\n",
      "Epoch 65/100\n",
      "28917/28917 [==============================] - 21s 722us/step - loss: 0.1368 - f1_score: 0.6911 - val_loss: 0.1201 - val_f1_score: 0.7031\n",
      "Epoch 66/100\n",
      "28917/28917 [==============================] - 21s 712us/step - loss: 0.1365 - f1_score: 0.6937 - val_loss: 0.1187 - val_f1_score: 0.7039\n",
      "Epoch 67/100\n",
      "28917/28917 [==============================] - 24s 825us/step - loss: 0.1352 - f1_score: 0.6946 - val_loss: 0.1195 - val_f1_score: 0.7024\n",
      "Epoch 68/100\n",
      "28917/28917 [==============================] - 21s 726us/step - loss: 0.1331 - f1_score: 0.6989 - val_loss: 0.1173 - val_f1_score: 0.7152\n",
      "Epoch 69/100\n",
      "28917/28917 [==============================] - 21s 728us/step - loss: 0.1320 - f1_score: 0.7002 - val_loss: 0.1215 - val_f1_score: 0.7010\n",
      "Epoch 70/100\n",
      "28917/28917 [==============================] - 21s 731us/step - loss: 0.1310 - f1_score: 0.7028 - val_loss: 0.1167 - val_f1_score: 0.7023\n",
      "Epoch 71/100\n",
      "28917/28917 [==============================] - 22s 765us/step - loss: 0.1306 - f1_score: 0.7031 - val_loss: 0.1132 - val_f1_score: 0.7150\n",
      "Epoch 72/100\n",
      "28917/28917 [==============================] - 21s 734us/step - loss: 0.1311 - f1_score: 0.7022 - val_loss: 0.1129 - val_f1_score: 0.7150\n",
      "Epoch 73/100\n",
      "28917/28917 [==============================] - 21s 733us/step - loss: 0.1303 - f1_score: 0.7048 - val_loss: 0.1113 - val_f1_score: 0.7208\n",
      "Epoch 74/100\n",
      "28917/28917 [==============================] - 21s 738us/step - loss: 0.1285 - f1_score: 0.7070 - val_loss: 0.1141 - val_f1_score: 0.7088\n",
      "Epoch 75/100\n",
      "28917/28917 [==============================] - 21s 733us/step - loss: 0.1271 - f1_score: 0.7101 - val_loss: 0.1082 - val_f1_score: 0.7326\n",
      "Epoch 76/100\n",
      "28917/28917 [==============================] - 21s 739us/step - loss: 0.1281 - f1_score: 0.7099 - val_loss: 0.1182 - val_f1_score: 0.7123\n",
      "Epoch 77/100\n",
      "28917/28917 [==============================] - 21s 737us/step - loss: 0.1252 - f1_score: 0.7130 - val_loss: 0.1125 - val_f1_score: 0.7250\n",
      "Epoch 78/100\n",
      "28917/28917 [==============================] - 21s 734us/step - loss: 0.1262 - f1_score: 0.7134 - val_loss: 0.1146 - val_f1_score: 0.7146\n",
      "Epoch 79/100\n",
      "28917/28917 [==============================] - 21s 733us/step - loss: 0.1254 - f1_score: 0.7140 - val_loss: 0.1114 - val_f1_score: 0.7265\n",
      "Epoch 80/100\n",
      "28917/28917 [==============================] - 21s 738us/step - loss: 0.1215 - f1_score: 0.7197 - val_loss: 0.1073 - val_f1_score: 0.7339\n",
      "Epoch 81/100\n",
      "28917/28917 [==============================] - 21s 734us/step - loss: 0.1221 - f1_score: 0.7202 - val_loss: 0.1096 - val_f1_score: 0.7354\n",
      "Epoch 82/100\n",
      "28917/28917 [==============================] - 21s 736us/step - loss: 0.1210 - f1_score: 0.7217 - val_loss: 0.1080 - val_f1_score: 0.7329\n",
      "Epoch 83/100\n",
      "28917/28917 [==============================] - 21s 742us/step - loss: 0.1230 - f1_score: 0.7191 - val_loss: 0.1103 - val_f1_score: 0.7182\n",
      "Epoch 84/100\n",
      "28917/28917 [==============================] - 21s 732us/step - loss: 0.1205 - f1_score: 0.7227 - val_loss: 0.1082 - val_f1_score: 0.7312\n",
      "Epoch 85/100\n",
      "28917/28917 [==============================] - 22s 769us/step - loss: 0.1197 - f1_score: 0.7243 - val_loss: 0.1059 - val_f1_score: 0.7375\n",
      "Epoch 86/100\n",
      "28917/28917 [==============================] - 22s 761us/step - loss: 0.1195 - f1_score: 0.7248 - val_loss: 0.1126 - val_f1_score: 0.7203\n",
      "Epoch 87/100\n",
      "28917/28917 [==============================] - 22s 767us/step - loss: 0.1184 - f1_score: 0.7257 - val_loss: 0.1092 - val_f1_score: 0.7273\n",
      "Epoch 88/100\n",
      "28917/28917 [==============================] - 22s 770us/step - loss: 0.1183 - f1_score: 0.7277 - val_loss: 0.1069 - val_f1_score: 0.7381\n",
      "Epoch 89/100\n",
      "28917/28917 [==============================] - 22s 765us/step - loss: 0.1158 - f1_score: 0.7311 - val_loss: 0.1052 - val_f1_score: 0.7360\n",
      "Epoch 90/100\n",
      "28917/28917 [==============================] - 22s 765us/step - loss: 0.1170 - f1_score: 0.7299 - val_loss: 0.1042 - val_f1_score: 0.7475\n",
      "Epoch 91/100\n",
      "28917/28917 [==============================] - 22s 770us/step - loss: 0.1150 - f1_score: 0.7343 - val_loss: 0.1033 - val_f1_score: 0.7503\n",
      "Epoch 92/100\n",
      "28917/28917 [==============================] - 22s 764us/step - loss: 0.1155 - f1_score: 0.7335 - val_loss: 0.1044 - val_f1_score: 0.7348\n",
      "Epoch 93/100\n",
      "28917/28917 [==============================] - 22s 767us/step - loss: 0.1140 - f1_score: 0.7365 - val_loss: 0.1053 - val_f1_score: 0.7449\n",
      "Epoch 94/100\n",
      "28917/28917 [==============================] - 22s 772us/step - loss: 0.1129 - f1_score: 0.7386 - val_loss: 0.1045 - val_f1_score: 0.7453\n",
      "Epoch 95/100\n",
      "28917/28917 [==============================] - 22s 762us/step - loss: 0.1131 - f1_score: 0.7387 - val_loss: 0.1054 - val_f1_score: 0.7375\n",
      "Epoch 96/100\n",
      "28917/28917 [==============================] - 22s 767us/step - loss: 0.1127 - f1_score: 0.7387 - val_loss: 0.1009 - val_f1_score: 0.7471\n",
      "Epoch 97/100\n",
      "28917/28917 [==============================] - 22s 763us/step - loss: 0.1107 - f1_score: 0.7428 - val_loss: 0.0986 - val_f1_score: 0.7509\n",
      "Epoch 98/100\n",
      "28917/28917 [==============================] - 22s 769us/step - loss: 0.1126 - f1_score: 0.7398 - val_loss: 0.0989 - val_f1_score: 0.7513\n",
      "Epoch 99/100\n",
      "28917/28917 [==============================] - 22s 771us/step - loss: 0.1133 - f1_score: 0.7382 - val_loss: 0.0982 - val_f1_score: 0.7572\n",
      "Epoch 100/100\n",
      "28917/28917 [==============================] - 22s 764us/step - loss: 0.1103 - f1_score: 0.7434 - val_loss: 0.0987 - val_f1_score: 0.7585\n"
     ]
    },
    {
     "data": {
      "text/plain": [
       "<keras.callbacks.callbacks.History at 0x2846b9420c8>"
      ]
     },
     "execution_count": 35,
     "metadata": {},
     "output_type": "execute_result"
    }
   ],
   "source": [
    "# fit tuned model\n",
    "\n",
    "final_model = create_model()\n",
    "\n",
    "# batch size\n",
    "batch_size = 32 # mini batch size - compromise between efficiency and error\n",
    "\n",
    "# here we will use a much larger number of epochs for \n",
    "# training compared to the parameter tuning  \n",
    "epochs = 100 \n",
    "\n",
    "# patience determines how long before the model stops training after seeing no improvement\n",
    "early_stopping_monitor = EarlyStopping(patience=10,mode='auto', verbose=1, min_delta=0, monitor='val_loss')\n",
    "\n",
    "final_model.fit(X_train,y_train,validation_data=(X_val, y_val), epochs=epochs, batch_size=batch_size,\n",
    "                    callbacks=[early_stopping_monitor], verbose=1)\n"
   ]
  },
  {
   "cell_type": "markdown",
   "metadata": {},
   "source": [
    "### Save the model history for later use "
   ]
  },
  {
   "cell_type": "code",
   "execution_count": 37,
   "metadata": {},
   "outputs": [],
   "source": [
    "# save the model\n",
    "final_model.save('final_NN.h5')"
   ]
  },
  {
   "cell_type": "markdown",
   "metadata": {},
   "source": [
    "### Model history and performances"
   ]
  },
  {
   "cell_type": "code",
   "execution_count": 38,
   "metadata": {},
   "outputs": [],
   "source": [
    "h = final_model.history"
   ]
  },
  {
   "cell_type": "code",
   "execution_count": 45,
   "metadata": {},
   "outputs": [
    {
     "data": {
      "image/png": "[encoded data removed]",
      "text/plain": [
       "<Figure size 576x864 with 2 Axes>"
      ]
     },
     "metadata": {
      "needs_background": "light"
     },
     "output_type": "display_data"
    }
   ],
   "source": [
    "# use the test set and validate \n",
    "plt.figure(figsize=(8,12))\n",
    "plt.subplot(211)\n",
    "\n",
    "# use the history metrics \n",
    "plt.plot(h.history['loss'])\n",
    "plt.plot(h.history['val_loss'])\n",
    "\n",
    "plt.ylabel('weighted crossentropy loss', fontsize=14)\n",
    "plt.xlabel('Epoch', fontsize=14)\n",
    "plt.xticks(fontsize=14)\n",
    "plt.yticks(fontsize=14)\n",
    "plt.legend(['train','validation'],fontsize=14);\n",
    "\n",
    "plt.subplot(212)\n",
    "# use the history metrics \n",
    "plt.plot(h.history['f1_score'])\n",
    "plt.plot(h.history['val_f1_score'])\n",
    "\n",
    "plt.ylabel('f1 measure',fontsize=14)\n",
    "plt.xlabel('Epoch \\n (b)',fontsize=14)\n",
    "plt.xticks(fontsize=14)\n",
    "plt.yticks(fontsize=14)\n",
    "plt.legend(['train','validation'], loc='lower right',fontsize=14);\n",
    "plt.show()"
   ]
  },
  {
   "cell_type": "code",
   "execution_count": null,
   "metadata": {},
   "outputs": [],
   "source": []
  }
 ],
 "metadata": {
  "kernelspec": {
   "display_name": "Python 3",
   "language": "python",
   "name": "python3"
  },
  "language_info": {
   "codemirror_mode": {
    "name": "ipython",
    "version": 3
   },
   "file_extension": ".py",
   "mimetype": "text/x-python",
   "name": "python",
   "nbconvert_exporter": "python",
   "pygments_lexer": "ipython3",
   "version": "3.7.6"
  }
 },
 "nbformat": 4,
 "nbformat_minor": 4
}
