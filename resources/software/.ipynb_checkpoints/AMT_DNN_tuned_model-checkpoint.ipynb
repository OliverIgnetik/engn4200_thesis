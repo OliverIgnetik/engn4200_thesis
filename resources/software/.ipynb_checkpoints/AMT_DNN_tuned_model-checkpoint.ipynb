{
 "cells": [
  {
   "cell_type": "code",
   "execution_count": 82,
   "metadata": {},
   "outputs": [],
   "source": [
    "# basic imports\n",
    "import pandas as pd, matplotlib.pyplot as plt, numpy as np \n",
    "import IPython.display as ipd"
   ]
  },
  {
   "cell_type": "code",
   "execution_count": 83,
   "metadata": {},
   "outputs": [],
   "source": [
    "# librosa - for CQT and visualisation\n",
    "import librosa, librosa.display"
   ]
  },
  {
   "cell_type": "code",
   "execution_count": 84,
   "metadata": {},
   "outputs": [],
   "source": [
    "# Interval for label storage\n",
    "from intervaltree import Interval,IntervalTree"
   ]
  },
  {
   "cell_type": "markdown",
   "metadata": {},
   "source": [
    "# Neural Network model training"
   ]
  },
  {
   "cell_type": "markdown",
   "metadata": {},
   "source": [
    "## Import data"
   ]
  },
  {
   "cell_type": "code",
   "execution_count": 85,
   "metadata": {},
   "outputs": [
    {
     "data": {
      "text/plain": [
       "h5py._hl.files.File"
      ]
     },
     "execution_count": 85,
     "metadata": {},
     "output_type": "execute_result"
    }
   ],
   "source": [
    "# import h5py to read in hdf5 files \n",
    "import h5py\n",
    "\n",
    "filename ='musicnet.h5'\n",
    "music_net = h5py.File(filename,'r')\n",
    "type(music_net)"
   ]
  },
  {
   "cell_type": "code",
   "execution_count": 86,
   "metadata": {},
   "outputs": [
    {
     "data": {
      "text/plain": [
       "['id_1727', 'id_1728', 'id_1729']"
      ]
     },
     "execution_count": 86,
     "metadata": {},
     "output_type": "execute_result"
    }
   ],
   "source": [
    "# extract 30 songs from the database \n",
    "n = 30\n",
    "source_list = list(music_net.keys())[:n]\n",
    "source_list"
   ]
  },
  {
   "cell_type": "code",
   "execution_count": 87,
   "metadata": {},
   "outputs": [
    {
     "data": {
      "image/png": "[encoded data removed]",
      "text/plain": [
       "<Figure size 432x288 with 1 Axes>"
      ]
     },
     "metadata": {
      "needs_background": "light"
     },
     "output_type": "display_data"
    }
   ],
   "source": [
    "# plot the audio data for the first song \n",
    "librosa.display.waveplot(music_net[source_list[0]]['data'][()],\n",
    "                         sr=22500,\n",
    "                         x_axis= 'time');\n",
    "plt.ylabel('normalized mono channel');\n",
    "plt.title('waveform for song');"
   ]
  },
  {
   "cell_type": "markdown",
   "metadata": {},
   "source": [
    "## Preprocessing"
   ]
  },
  {
   "cell_type": "code",
   "execution_count": 88,
   "metadata": {},
   "outputs": [
    {
     "name": "stdout",
     "output_type": "stream",
     "text": [
      "initializing cqt transforms\n",
      "------------------------------------------------------------\n",
      "extracting data from id_1727\n",
      "extracting data from id_1728\n",
      "extracting data from id_1729\n",
      "------------------------------------------------------------\n",
      "CQT transformation on each song complete\n",
      "------------------------------------------------------------\n",
      "CQT dimensions: [(13971, 252), (7849, 252), (13891, 252)]\n"
     ]
    }
   ],
   "source": [
    "# init lists for storing results\n",
    "cqt_container = [] # array to store the cqt for each song\n",
    "cqt_shapes = [] # array to store the shapes of each cqt\n",
    "\n",
    "print('initializing cqt transforms')\n",
    "print('-'*60)\n",
    "for id_ in source_list:\n",
    "    print('extracting data from',id_)\n",
    "    # extract the mono audio data and labels\n",
    "    song = music_net[id_]\n",
    "    music = song['data'][()]\n",
    "\n",
    "    # downsampling\n",
    "    sr = 44100\n",
    "    sr_16k = 16000\n",
    "\n",
    "    # resample to 16kHz to increase the the number of cqt points\n",
    "    music = librosa.resample(music,sr,sr_16k)\n",
    "\n",
    "    # CQT parameters\n",
    "    sr_16k = sr_16k # downsampling to 16kHz\n",
    "    hop_length = 512 # 32ms frames  \n",
    "    bins_per_octave = 36 # corresponds to 7 octaves on the piano \n",
    "    # 7 x 36 = 252 number of bins \n",
    "    n_bins = 252 # frequency resolution \n",
    "    window = 'hann' # hanning window for smoothness\n",
    "\n",
    "    # CQT absolute magnitude \n",
    "    C = np.abs(librosa.cqt(music,\n",
    "                           sr = sr_16k , \n",
    "                           hop_length = hop_length,\n",
    "                           bins_per_octave = bins_per_octave,\n",
    "                           window = window,\n",
    "                           n_bins = n_bins))\n",
    "    # transpose to get the array in the correct format\n",
    "    C = np.transpose(C)\n",
    "    \n",
    "    # append the length of this cqt to the length array \n",
    "    cqt_shapes.append(C.shape)\n",
    "    \n",
    "    # append to container\n",
    "    cqt_container.append(C)\n",
    "\n",
    "print('-'*60)\n",
    "print('CQT transformation on each song complete')\n",
    "print('-'*60)\n",
    "print('CQT dimensions:', cqt_shapes)"
   ]
  },
  {
   "cell_type": "code",
   "execution_count": 89,
   "metadata": {},
   "outputs": [
    {
     "name": "stdout",
     "output_type": "stream",
     "text": [
      "constructing label vectors\n",
      "------------------------------------------------------------\n",
      "labels preprocessed\n",
      "------------------------------------------------------------\n",
      "labels dimensions: [(13971, 88), (7849, 88), (13891, 88)]\n"
     ]
    }
   ],
   "source": [
    "# extract and format labels \n",
    "labels_container = [] # array to store the labels of each song\n",
    "labels_shapes = [] # array for storing label dimensions\n",
    "\n",
    "# set up params for labels \n",
    "number_of_notes = 88 ## 88 piano notes \n",
    "hop_length = 512 # 32ms frames  \n",
    "# counter to loop through cqt container \n",
    "i = 0 \n",
    "\n",
    "print('constructing label vectors')\n",
    "print('-'*60)\n",
    "\n",
    "for id_ in source_list:\n",
    "    # retrieve the song for this id \n",
    "    song = music_net[id_]\n",
    "    raw_labels = song['labels'][()]\n",
    "    \n",
    "    # number of frames in this song\n",
    "    number_frames = cqt_container[i].shape[0]\n",
    "    i += 1  \n",
    "    \n",
    "    # binary labels - one hot encoding\n",
    "    binary_labels = np.zeros((number_frames, number_of_notes))\n",
    "\n",
    "    # init tree for slicing\n",
    "    labels_tree = IntervalTree()\n",
    "    # construct interval tree \n",
    "    for label in raw_labels: \n",
    "        pitch = label['note_id']\n",
    "        start_time = label['start_time']\n",
    "        end_time = label['end_time']\n",
    "        labels_tree.addi(start_time,end_time,pitch)\n",
    "\n",
    "    # resample the labels by finding the number of frames per second\n",
    "    for frame in range(binary_labels.shape[0]):\n",
    "        # slice the interval tree for notes in this frame \n",
    "        labels = labels_tree.at(frame*hop_length)\n",
    "        for label in labels:\n",
    "            # the labels vector is from 0 to 87 \n",
    "            # 21 is the A0 on the piano\n",
    "            pitch = label[2]-21 \n",
    "            # if this pitch is active in this window \n",
    "            binary_labels[frame,pitch] = 1\n",
    "    \n",
    "    # append the binary_labels\n",
    "    labels_container.append(binary_labels)\n",
    "    # store label shapes \n",
    "    labels_shapes.append(binary_labels.shape)\n",
    "\n",
    "print('labels preprocessed')\n",
    "print('-'*60)\n",
    "print('labels dimensions:', labels_shapes)"
   ]
  },
  {
   "cell_type": "code",
   "execution_count": 91,
   "metadata": {},
   "outputs": [],
   "source": [
    "# # save to txt files \n",
    "# np.save('preprocessed_cqt', X)\n",
    "# np.save('preprocessed_labels', y)"
   ]
  },
  {
   "cell_type": "code",
   "execution_count": 92,
   "metadata": {},
   "outputs": [],
   "source": [
    "# # load files\n",
    "# X = np.load('preprocessed_cqt.npy')\n",
    "# y = np.load('preprocessed_labels.npy')"
   ]
  },
  {
   "cell_type": "markdown",
   "metadata": {},
   "source": [
    "## train-test split and normalization"
   ]
  },
  {
   "cell_type": "code",
   "execution_count": 90,
   "metadata": {},
   "outputs": [],
   "source": [
    "# number of songs for training \n",
    "train_no = 27\n",
    "\n",
    "# split into training and test sets \n",
    "X_train = np.vstack(cqt_container[:train_no])\n",
    "y_train = np.vstack(labels_container[:train_no])\n",
    "X_test = np.vstack(cqt_container[train_no:])\n",
    "y_test = np.vstack(labels[train_no:])"
   ]
  },
  {
   "cell_type": "code",
   "execution_count": 94,
   "metadata": {},
   "outputs": [],
   "source": [
    "# Normalization - to test sets having values \n",
    "# outside training test range\n",
    "max_train = X_train.max()\n",
    "min_train = X_train.min()\n",
    "max_test = X_test.max()\n",
    "min_test = X_test.min()\n",
    "\n",
    "X_test_norm = (X_test - min_train)/(max_train - min_train)\n",
    "X_train_norm = (X_train - min_train)/(max_train - min_train)\n",
    "\n",
    "# Compute the mean\n",
    "train_mean = np.mean(X_train_norm, axis = 0)\n",
    "\n",
    "# Subtract the training mean from the other datasets\n",
    "X_train_norm = X_train_norm - train_mean\n",
    "X_test_norm = X_test_norm - train_mean\n",
    "\n",
    "# reassign for easy interpretation \n",
    "X_train = X_train_norm\n",
    "X_test = X_test_norm"
   ]
  },
  {
   "cell_type": "markdown",
   "metadata": {},
   "source": [
    "## Multilabel architecture"
   ]
  },
  {
   "cell_type": "code",
   "execution_count": null,
   "metadata": {},
   "outputs": [],
   "source": [
    "# model definition  \n",
    "from keras.layers import Dense, Dropout\n",
    "from keras.models import Sequential \n",
    "from keras.optimizers import Adam\n",
    "from keras.layers import BatchNormalization\n",
    "\n",
    "# default parameters for model\n",
    "layers = 3 # layers of model \n",
    "nn = 256 # nodes\n",
    "num_col = 252 # inputs \n",
    "output_nodes = 88 # outputs \n",
    "lr = 0.01 # learning rate\n",
    "act ='relu' # activation functions\n",
    "drop = 0 # dropout rate to improve test error perf\n",
    "\n",
    "def create_model(layers=layers,nn=nn,lr=lr,act=act, drop=drop):  \n",
    "  # Create an Adam optimizer with the given learning rate\n",
    "  opt = Adam(lr=lr)\n",
    "  # create model \n",
    "  model = Sequential()\n",
    "  # input layer\n",
    "  model.add(Dense(num_col,kernel_initializer='normal', \n",
    "                  activation=act ,input_shape=(num_col,)))\n",
    "  model.add(BatchNormalization())\n",
    "    \n",
    "  for i in range(layers):\n",
    "    # layers with dropout and batch normalization \n",
    "    model.add(Dense(nn, activation=act,\n",
    "                    kernel_initializer = 'normal'))\n",
    "    model.add(Dropout(drop))\n",
    "    model.add(BatchNormalization())\n",
    "  \n",
    "  # output layer - we require a sigmoid activation function \n",
    "  model.add(Dense(output_nodes, activation='sigmoid',kernel_initializer='normal'))\n",
    "    \n",
    "  # compile model\n",
    "  model.compile(optimizer=opt,\n",
    "              # binary cross entropy -> multilabel\n",
    "              loss='binary_crossentropy',\n",
    "              metrics=['acc'])\n",
    "  return model"
   ]
  },
  {
   "cell_type": "code",
   "execution_count": null,
   "metadata": {},
   "outputs": [],
   "source": [
    "# best parameters for model\n",
    "layers = 2 \n",
    "nn = 128 \n",
    "lr = 0.1 \n",
    "act ='tanh'\n",
    "drop = 0.1 \n",
    "\n",
    "# define model with best params from grid search to apply to unseen data\n",
    "model = create_model(layers=layers,\n",
    "                     nn=nn,\n",
    "                     lr=lr,\n",
    "                     act=act,\n",
    "                     drop=drop):  \n",
    "\n",
    "# store the initial weights\n",
    "init_weights = model.get_weights()\n",
    "# summary for model\n",
    "model.summary()"
   ]
  },
  {
   "cell_type": "markdown",
   "metadata": {},
   "source": [
    "## Fit the model"
   ]
  },
  {
   "cell_type": "code",
   "execution_count": null,
   "metadata": {},
   "outputs": [],
   "source": [
    "# Callbacks \n",
    "from keras.callbacks import EarlyStopping\n",
    "from keras.callbacks import ModelCheckpoint\n",
    "# early stop\n",
    "early_stopping_monitor = EarlyStopping(patience=20,\n",
    "                                       mode='auto',\n",
    "                                       verbose=0,\n",
    "                                       min_delta=0,\n",
    "                                       monitor='val_loss')\n",
    "\n",
    "# this will save the best model and will not overwrite it\n",
    "model_save = ModelCheckpoint('AMT_HYPER.hdf5', monitor='val_loss', save_best_only=True)"
   ]
  },
  {
   "cell_type": "code",
   "execution_count": null,
   "metadata": {},
   "outputs": [],
   "source": [
    "# set weights\n",
    "model.set_weights(init_weights)\n",
    "\n",
    "# set best params\n",
    "# batch size and epoch\n",
    "batch_size = 128 # mini batch size - for lower test error and faster\n",
    "epochs = 1000 # general number of epochs\n",
    "\n",
    "# fit the model\n",
    "print('Fitting model to training data')\n",
    "print('------------------------------')\n",
    "model.fit(X_train,y_train,validation_data = (X_test, y_test),\n",
    "                    epochs = epochs, batch_size=batch_size,\n",
    "                    callbacks=[early_stopping_monitor, model_save], \n",
    "                    verbose = 0)\n",
    "print('------------------------------')\n",
    "print('Model fitted to training data')"
   ]
  },
  {
   "cell_type": "markdown",
   "metadata": {},
   "source": [
    "### Model history"
   ]
  },
  {
   "cell_type": "code",
   "execution_count": null,
   "metadata": {},
   "outputs": [],
   "source": [
    "h = model.history"
   ]
  },
  {
   "cell_type": "code",
   "execution_count": null,
   "metadata": {},
   "outputs": [],
   "source": [
    "# use the test set and validate \n",
    "plt.figure()\n",
    "\n",
    "# use the history metrics \n",
    "plt.plot(h.history['loss'])\n",
    "plt.plot(h.history['val_loss'])\n",
    "\n",
    "plt.title('model performance')\n",
    "plt.ylabel('binary cross entropy')\n",
    "plt.xlabel('Epoch')\n",
    "plt.legend(['train','validation']);\n",
    "plt.show()\n",
    "\n",
    "# use the test set and validate \n",
    "plt.figure()\n",
    "\n",
    "# use the history metrics \n",
    "plt.plot(h.history['acc'])\n",
    "plt.plot(h.history['val_acc'])\n",
    "\n",
    "plt.title('model performance')\n",
    "plt.ylabel('accuracy')\n",
    "plt.xlabel('Epoch')\n",
    "plt.legend(['train','validation']);\n",
    "plt.show()"
   ]
  },
  {
   "cell_type": "code",
   "execution_count": null,
   "metadata": {},
   "outputs": [],
   "source": [
    "# # save the trained model \n",
    "# model.save('AMT_trained_DNN_trial_model.h5')\n",
    "# print('model saved')"
   ]
  },
  {
   "cell_type": "markdown",
   "metadata": {},
   "source": [
    "## model evaluation on test set (unseen data) "
   ]
  },
  {
   "cell_type": "code",
   "execution_count": null,
   "metadata": {},
   "outputs": [],
   "source": [
    "# # load keras model \n",
    "# from keras.models import load_model \n",
    "# model = load_model('AMT_trained_DNN_trial_model.h5')"
   ]
  },
  {
   "cell_type": "code",
   "execution_count": null,
   "metadata": {},
   "outputs": [],
   "source": [
    "h.history['val_loss'][-1]"
   ]
  },
  {
   "cell_type": "code",
   "execution_count": null,
   "metadata": {},
   "outputs": [],
   "source": [
    "h.history['val_acc'][-1]"
   ]
  },
  {
   "cell_type": "code",
   "execution_count": null,
   "metadata": {},
   "outputs": [],
   "source": [
    "# batch size is default = 32\n",
    "val_loss,val_acc = model.evaluate(X_test,y_test)\n",
    "print('test loss : {},test accuracy : {}'.format(val_loss,val_acc))"
   ]
  },
  {
   "cell_type": "code",
   "execution_count": null,
   "metadata": {},
   "outputs": [],
   "source": [
    "# parameters for prediction\n",
    "print('making predictions on test set')\n",
    "print('------------------------------')\n",
    "# predict on test set\n",
    "predictions = model.predict(X_test, verbose=1)\n",
    "\n",
    "# post processing - consider removing\n",
    "# sigmoid classifier where > 0.5 -> 1 \n",
    "predictions = np.array(predictions).round()\n",
    "print('------------------------------')\n",
    "print('predictions complete')"
   ]
  },
  {
   "cell_type": "code",
   "execution_count": null,
   "metadata": {},
   "outputs": [],
   "source": [
    "# init true positives etc. \n",
    "TP = 0\n",
    "FN = 0\n",
    "FP = 0\n",
    "\n",
    "# calculating model accuracy \n",
    "# true positives \n",
    "TP = np.count_nonzero(np.logical_and( predictions == 1, y_test == 1 ))\n",
    "# false negatives\n",
    "FN = np.count_nonzero(np.logical_and( predictions == 0, y_test == 1 ))\n",
    "# false positives\n",
    "FP = np.count_nonzero(np.logical_and( predictions == 1, y_test == 0 ))\n",
    "if (TP + FN) > 0:\n",
    "    R = TP/float(TP + FN)\n",
    "    P = TP/float(TP + FP)\n",
    "    A = 100*TP/float(TP + FP + FN)\n",
    "    if P == 0 and R == 0:\n",
    "        F = 0\n",
    "    else: \n",
    "        F = 100*2*P*R/(P + R)\n",
    "else: \n",
    "    A = 0\n",
    "    F = 0\n",
    "    R = 0\n",
    "    P = 0\n",
    "\n",
    "print('model precision:', P)\n",
    "print('model recall:', R)\n",
    "print('F-measure:', F)\n",
    "print('Accuracy:', A)"
   ]
  },
  {
   "cell_type": "markdown",
   "metadata": {},
   "source": [
    "## model details "
   ]
  },
  {
   "cell_type": "code",
   "execution_count": null,
   "metadata": {},
   "outputs": [],
   "source": [
    "model.loss"
   ]
  },
  {
   "cell_type": "code",
   "execution_count": null,
   "metadata": {},
   "outputs": [],
   "source": [
    "model.metrics"
   ]
  },
  {
   "cell_type": "code",
   "execution_count": null,
   "metadata": {},
   "outputs": [],
   "source": [
    "model.get_config()"
   ]
  }
 ],
 "metadata": {
  "kernelspec": {
   "display_name": "Python 3",
   "language": "python",
   "name": "python3"
  },
  "language_info": {
   "codemirror_mode": {
    "name": "ipython",
    "version": 3
   },
   "file_extension": ".py",
   "mimetype": "text/x-python",
   "name": "python",
   "nbconvert_exporter": "python",
   "pygments_lexer": "ipython3",
   "version": "3.7.3"
  }
 },
 "nbformat": 4,
 "nbformat_minor": 4
}
