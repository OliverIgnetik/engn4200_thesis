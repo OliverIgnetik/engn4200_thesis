{
 "cells": [
  {
   "cell_type": "code",
   "execution_count": 44,
   "metadata": {},
   "outputs": [],
   "source": [
    "# basic imports\n",
    "import pandas as pd, matplotlib.pyplot as plt, numpy as np \n",
    "import IPython.display as ipd"
   ]
  },
  {
   "cell_type": "code",
   "execution_count": 45,
   "metadata": {},
   "outputs": [],
   "source": [
    "# librosa - for CQT and visualisation\n",
    "import librosa, librosa.display"
   ]
  },
  {
   "cell_type": "code",
   "execution_count": 46,
   "metadata": {},
   "outputs": [],
   "source": [
    "# Interval for label storage\n",
    "from intervaltree import Interval,IntervalTree"
   ]
  },
  {
   "cell_type": "code",
   "execution_count": 47,
   "metadata": {},
   "outputs": [],
   "source": [
    "from IPython.display import SVG, Image"
   ]
  },
  {
   "cell_type": "markdown",
   "metadata": {},
   "source": [
    "# Neural Network Grid Search"
   ]
  },
  {
   "cell_type": "markdown",
   "metadata": {},
   "source": [
    "## Outline"
   ]
  },
  {
   "cell_type": "markdown",
   "metadata": {},
   "source": [
    "We will make use of a neural network to help with automatic music transcription. We will train the model with a STFT array and the ground truth annotations for the music piece. Essentially for each frame in the audio signal we a CQT transform with 252 bins and a corresponding binary labels array of length 88.\n",
    "\n",
    "**TYPE OF PROBLEM** - This type of problem is known a multi-label classification problem."
   ]
  },
  {
   "cell_type": "markdown",
   "metadata": {},
   "source": [
    "**INPUT**\n",
    "- The input to the model is a Constant Q Transform (CQT) of the music data for each song. We are making use of a CQT because the frequency resolution in the lower ranges is better then a traditional STFT. The dimensions of the input array are determined by the number of frames and the number of bins/features of the CQT.\n",
    "\n",
    "**OUTPUT**\n",
    "- the output for each frame is a vector with 88 elements corresponding to the notes on a piano. A binary value of 1 corresponds to the note being active\n",
    "- we will train the model on ground truth annotations\n",
    "\n",
    "**GOAL** \n",
    "- to learn the weights by fitting the model to the data and optimizing the loss function "
   ]
  },
  {
   "cell_type": "markdown",
   "metadata": {},
   "source": [
    "**HYPER PARAMETERS TO TUNE** \n",
    "- Activation functions (tanh, relu etc.) \n",
    "- number of neurons per layer \n",
    "- batch size (stochastic, mini-batch, batch)\n",
    "- optimizer of choice (adam,sgd,ada etc.)\n",
    "- loss function for back propagation (binary cross entropy, mean squared error)\n",
    "- number of layers \n",
    "- batch normalization (reduces problems with activation functions)\n",
    "- dropout rates"
   ]
  },
  {
   "cell_type": "markdown",
   "metadata": {},
   "source": [
    "## Import data"
   ]
  },
  {
   "cell_type": "code",
   "execution_count": 48,
   "metadata": {},
   "outputs": [
    {
     "data": {
      "text/plain": [
       "h5py._hl.files.File"
      ]
     },
     "execution_count": 48,
     "metadata": {},
     "output_type": "execute_result"
    }
   ],
   "source": [
    "# import h5py to read in hdf5 files \n",
    "import h5py\n",
    "\n",
    "filename ='musicnet.h5'\n",
    "music_net = h5py.File(filename,'r')\n",
    "type(music_net)"
   ]
  },
  {
   "cell_type": "code",
   "execution_count": 49,
   "metadata": {},
   "outputs": [
    {
     "data": {
      "text/plain": [
       "['id_1750']"
      ]
     },
     "execution_count": 49,
     "metadata": {},
     "output_type": "execute_result"
    }
   ],
   "source": [
    "# we will use 1 songs for hyper parameter tuning \n",
    "# extract the 10th song from the database\n",
    "n = 10\n",
    "# make sure its a vector\n",
    "source_list = list(music_net.keys())[n:n+1]\n",
    "source_list"
   ]
  },
  {
   "cell_type": "code",
   "execution_count": 50,
   "metadata": {},
   "outputs": [
    {
     "data": {
      "image/png": "[encoded data removed]",
      "text/plain": [
       "<Figure size 432x288 with 1 Axes>"
      ]
     },
     "metadata": {
      "needs_background": "light"
     },
     "output_type": "display_data"
    }
   ],
   "source": [
    "# plot the audio data for the first song \n",
    "librosa.display.waveplot(music_net[source_list[0]]['data'][()],\n",
    "                         sr=44100,\n",
    "                         x_axis= 'time');\n",
    "plt.ylabel('normalized mono channel');\n",
    "plt.title('waveform for song');"
   ]
  },
  {
   "cell_type": "markdown",
   "metadata": {},
   "source": [
    "## Preprocessing"
   ]
  },
  {
   "cell_type": "code",
   "execution_count": 51,
   "metadata": {},
   "outputs": [
    {
     "name": "stdout",
     "output_type": "stream",
     "text": [
      "initializing cqt transforms\n",
      "------------------------------------------------------------\n",
      "extracting data from id_1750\n",
      "------------------------------------------------------------\n",
      "CQT transformation on each song complete\n",
      "------------------------------------------------------------\n",
      "CQT dimensions: [(24506, 252)]\n"
     ]
    }
   ],
   "source": [
    "# init lists for storing results\n",
    "cqt_container = [] # array to store the cqt for each song\n",
    "cqt_shapes = [] # array to store the shapes of each cqt\n",
    "\n",
    "print('initializing cqt transforms')\n",
    "print('-'*60)\n",
    "for id_ in source_list:\n",
    "    print('extracting data from',id_)\n",
    "    # extract the mono audio data and labels\n",
    "    song = music_net[id_]\n",
    "    music = song['data'][()]\n",
    "\n",
    "    # downsampling\n",
    "    sr = 44100\n",
    "    sr_16k = 16000\n",
    "\n",
    "    # resample to 16kHz to increase the the number of cqt points\n",
    "    music = librosa.resample(music,sr,sr_16k)\n",
    "\n",
    "    # CQT parameters\n",
    "    sr_16k = sr_16k # downsampling to 16kHz\n",
    "    hop_length = 512 # 32ms frames  \n",
    "    bins_per_octave = 36 # corresponds to 7 octaves on the piano \n",
    "    # 7 x 36 = 252 number of bins \n",
    "    n_bins = 252 # frequency resolution \n",
    "    window = 'hann' # hanning window for smoothness\n",
    "\n",
    "    # CQT absolute magnitude \n",
    "    C = np.abs(librosa.cqt(music,\n",
    "                           sr = sr_16k , \n",
    "                           hop_length = hop_length,\n",
    "                           bins_per_octave = bins_per_octave,\n",
    "                           window = window,\n",
    "                           n_bins = n_bins))\n",
    "    # transpose to get the array in the correct format\n",
    "    C = np.transpose(C)\n",
    "    \n",
    "    # append the length of this cqt to the length array \n",
    "    cqt_shapes.append(C.shape)\n",
    "    \n",
    "    # append to container\n",
    "    cqt_container.append(C)\n",
    "\n",
    "print('-'*60)\n",
    "print('CQT transformation on each song complete')\n",
    "print('-'*60)\n",
    "print('CQT dimensions:', cqt_shapes)"
   ]
  },
  {
   "cell_type": "code",
   "execution_count": 52,
   "metadata": {},
   "outputs": [
    {
     "name": "stdout",
     "output_type": "stream",
     "text": [
      "constructing label vectors\n",
      "------------------------------------------------------------\n",
      "labels preprocessed\n",
      "------------------------------------------------------------\n",
      "labels dimensions: [(24506, 88)]\n"
     ]
    }
   ],
   "source": [
    "# extract and format labels \n",
    "labels_container = [] # array to store the labels of each song\n",
    "labels_shapes = [] # array for storing label dimensions\n",
    "\n",
    "# set up params for labels \n",
    "number_of_notes = 88 ## 88 piano notes \n",
    "hop_length = 512 # 32ms frames  \n",
    "# counter to loop through cqt container \n",
    "i = 0 \n",
    "\n",
    "print('constructing label vectors')\n",
    "print('-'*60)\n",
    "\n",
    "for id_ in source_list:\n",
    "    # retrieve the song for this id \n",
    "    song = music_net[id_]\n",
    "    raw_labels = song['labels'][()]\n",
    "    \n",
    "    # number of frames in this song\n",
    "    number_frames = cqt_container[i].shape[0]\n",
    "    i += 1  \n",
    "    \n",
    "    # binary labels - one hot encoding\n",
    "    binary_labels = np.zeros((number_frames, number_of_notes))\n",
    "\n",
    "    # init tree for slicing\n",
    "    labels_tree = IntervalTree()\n",
    "    # construct interval tree \n",
    "    for label in raw_labels: \n",
    "        pitch = label['note_id']\n",
    "        start_time = label['start_time']\n",
    "        end_time = label['end_time']\n",
    "        labels_tree.addi(start_time,end_time,pitch)\n",
    "\n",
    "    # resample the labels by finding the number of frames per second\n",
    "    for frame in range(binary_labels.shape[0]):\n",
    "        # slice the interval tree for notes in this frame \n",
    "        labels = labels_tree.at(frame*hop_length)\n",
    "        for label in labels:\n",
    "            # the labels vector is from 0 to 87 \n",
    "            # 21 is the A0 on the piano\n",
    "            pitch = label[2]-21 \n",
    "            # if this pitch is active in this window \n",
    "            binary_labels[frame,pitch] = 1\n",
    "    \n",
    "    # append the binary_labels\n",
    "    labels_container.append(binary_labels)\n",
    "    # store label shapes \n",
    "    labels_shapes.append(binary_labels.shape)\n",
    "\n",
    "print('labels preprocessed')\n",
    "print('-'*60)\n",
    "print('labels dimensions:', labels_shapes)"
   ]
  },
  {
   "cell_type": "code",
   "execution_count": 53,
   "metadata": {},
   "outputs": [],
   "source": [
    "# Format the data for the model \n",
    "X = np.vstack(cqt_container)\n",
    "y = np.vstack(labels_container)"
   ]
  },
  {
   "cell_type": "markdown",
   "metadata": {},
   "source": [
    "## Hyperparameter tuning for DNN"
   ]
  },
  {
   "cell_type": "code",
   "execution_count": 223,
   "metadata": {},
   "outputs": [],
   "source": [
    "# weighted loss function to account for sparsity of active notes\n",
    "import tensorflow as tf\n",
    "import keras.backend.tensorflow_backend as tfb\n",
    "\n",
    "POS_WEIGHT = 20 # There are approximately 20 times more inactive notes then active notes in the database recordings\n",
    "\n",
    "def weighted_binary_crossentropy(target, output):\n",
    "    \"\"\"\n",
    "    Weighted binary crossentropy between an output tensor \n",
    "    and a target tensor. POS_WEIGHT is used as a multiplier \n",
    "    for the positive targets.\n",
    "\n",
    "    Combination of the following functions:\n",
    "    * keras.losses.binary_crossentropy\n",
    "    * keras.backend.tensorflow_backend.binary_crossentropy\n",
    "    * tf.nn.weighted_cross_entropy_with_logits\n",
    "    \"\"\"\n",
    "    # transform back to logits\n",
    "    _epsilon = tfb._to_tensor(tfb.epsilon(), output.dtype.base_dtype)\n",
    "    output = tf.clip_by_value(output, _epsilon, 1 - _epsilon)\n",
    "    output = tf.math.log(output / (1 - output))\n",
    "    # compute weighted loss\n",
    "    loss = tf.nn.weighted_cross_entropy_with_logits(labels=target,\n",
    "                                                    logits=output,\n",
    "                                                    pos_weight=POS_WEIGHT)\n",
    "    return tf.reduce_mean(loss, axis=-1)\n",
    "\n",
    "# REFERENCE - https://stackoverflow.com/questions/42158866/neural-network-for-multi-label-classification-with-large-number-of-classes-outpu"
   ]
  },
  {
   "cell_type": "code",
   "execution_count": 271,
   "metadata": {},
   "outputs": [
    {
     "data": {
      "text/plain": [
       "(24506, 88)"
      ]
     },
     "execution_count": 271,
     "metadata": {},
     "output_type": "execute_result"
    }
   ],
   "source": [
    "y.shape"
   ]
  },
  {
   "cell_type": "code",
   "execution_count": 281,
   "metadata": {},
   "outputs": [],
   "source": [
    "def f1_score(y_true, y_pred):\n",
    "    def recall(y_true, y_pred):\n",
    "        \"\"\"Recall metric.\n",
    "\n",
    "        Only computes a batch-wise average of recall.\n",
    "\n",
    "        Computes the recall, a metric for multi-label classification of\n",
    "        how many relevant items are selected.\n",
    "        \"\"\"\n",
    "        print('y_true ',y_true.shape)\n",
    "        print(y_true[0,:])\n",
    "        print('y_pred ',y_pred.shape)\n",
    "        print(y_pred)\n",
    "        true_positives = K.sum(K.round(K.clip(y_true * y_pred, 0, 1)))\n",
    "        possible_positives = K.sum(K.round(K.clip(y_true, 0, 1)))\n",
    "        recall = true_positives / (possible_positives + K.epsilon())\n",
    "        return recall\n",
    "\n",
    "    def precision(y_true, y_pred):\n",
    "        \"\"\"Precision metric.\n",
    "\n",
    "        Only computes a batch-wise average of precision.\n",
    "\n",
    "        Computes the precision, a metric for multi-label classification of\n",
    "        how many selected items are relevant.\n",
    "        \"\"\"\n",
    "        print('y_true ',y_true.shape)\n",
    "        print(y_true[0,:])\n",
    "        print('y_pred ',y_pred.shape)\n",
    "        print(y_pred)\n",
    "        true_positives = K.sum(K.round(K.clip(y_true * y_pred, 0, 1)))\n",
    "        predicted_positives = K.sum(K.round(K.clip(y_pred, 0, 1)))\n",
    "        precision = true_positives / (predicted_positives + K.epsilon())\n",
    "        return precision\n",
    "    \n",
    "    precision = precision(y_true, y_pred)\n",
    "    recall = recall(y_true, y_pred)\n",
    "    return 2*((precision*recall)/(precision+recall+K.epsilon()))"
   ]
  },
  {
   "cell_type": "code",
   "execution_count": 282,
   "metadata": {},
   "outputs": [],
   "source": [
    "# model definition  \n",
    "from keras.layers import Dense, Dropout\n",
    "from keras.models import Sequential \n",
    "import keras.optimizers as KO\n",
    "from keras.layers import BatchNormalization\n",
    "from keras import metrics\n",
    "\n",
    "# default hyperparameters for model\n",
    "layers = 3 # layers of model \n",
    "nn = 256 # nodes\n",
    "lr = 0.001 # learning rate\n",
    "act ='relu' # activation functions\n",
    "drop = 0 # dropout rate to improve test error perf\n",
    "\n",
    "# default static parameters\n",
    "num_col = 252 # inputs \n",
    "output_nodes = 88 # outputs \n",
    "loss = weighted_binary_crossentropy # weighted loss function for use in back propagation\n",
    "\n",
    "# define model with params\n",
    "def create_model(layers=layers,nn=nn,lr=lr,act=act, drop=drop ,loss=loss):  \n",
    "  # Create an Adam optimizer with the given learning rate\n",
    "  opt = KO.Adam(lr=lr)\n",
    "  # create model \n",
    "  model = Sequential()\n",
    "  # input layer\n",
    "  model.add(Dense(num_col,kernel_initializer='normal', \n",
    "                  activation=act ,input_shape=(num_col,)))\n",
    "  model.add(Dropout(drop))\n",
    "  model.add(BatchNormalization())\n",
    "    \n",
    "  for i in range(layers):\n",
    "    # layers with dropout and batch normalization \n",
    "    model.add(Dense(nn, activation=act,\n",
    "                    kernel_initializer = 'normal'))\n",
    "    model.add(Dropout(drop))\n",
    "    model.add(BatchNormalization())\n",
    "  \n",
    "  # output layer - we require a sigmoid activation function \n",
    "  model.add(Dense(output_nodes, activation='sigmoid',kernel_initializer='normal'))\n",
    "    \n",
    "  # compile model\n",
    "  model.compile(optimizer=opt, loss=loss, metrics=['acc'])\n",
    "    \n",
    "  return model"
   ]
  },
  {
   "cell_type": "code",
   "execution_count": 283,
   "metadata": {},
   "outputs": [
    {
     "data": {
      "text/plain": [
       "dict_keys(['explained_variance', 'r2', 'max_error', 'neg_median_absolute_error', 'neg_mean_absolute_error', 'neg_mean_squared_error', 'neg_mean_squared_log_error', 'neg_root_mean_squared_error', 'neg_mean_poisson_deviance', 'neg_mean_gamma_deviance', 'accuracy', 'roc_auc', 'roc_auc_ovr', 'roc_auc_ovo', 'roc_auc_ovr_weighted', 'roc_auc_ovo_weighted', 'balanced_accuracy', 'average_precision', 'neg_log_loss', 'neg_brier_score', 'adjusted_rand_score', 'homogeneity_score', 'completeness_score', 'v_measure_score', 'mutual_info_score', 'adjusted_mutual_info_score', 'normalized_mutual_info_score', 'fowlkes_mallows_score', 'precision', 'precision_macro', 'precision_micro', 'precision_samples', 'precision_weighted', 'recall', 'recall_macro', 'recall_micro', 'recall_samples', 'recall_weighted', 'f1', 'f1_macro', 'f1_micro', 'f1_samples', 'f1_weighted', 'jaccard', 'jaccard_macro', 'jaccard_micro', 'jaccard_samples', 'jaccard_weighted'])"
      ]
     },
     "execution_count": 283,
     "metadata": {},
     "output_type": "execute_result"
    }
   ],
   "source": [
    "import sklearn\n",
    "sklearn.metrics.SCORERS.keys()"
   ]
  },
  {
   "cell_type": "code",
   "execution_count": 284,
   "metadata": {},
   "outputs": [],
   "source": [
    "def custom_scorer(y_true, y_pred, actual_scorer):\n",
    "    score = np.nan\n",
    "\n",
    "    try:\n",
    "      score = actual_scorer(y_true, y_pred)\n",
    "    except Exception: \n",
    "      pass\n",
    "\n",
    "    return score\n",
    "\n",
    "f1 = make_scorer(custom_scorer, actual_scorer = f1_score)"
   ]
  },
  {
   "cell_type": "code",
   "execution_count": 285,
   "metadata": {},
   "outputs": [
    {
     "name": "stdout",
     "output_type": "stream",
     "text": [
      "performing hyperparameter grid search\n",
      "------------------------------------------------------------\n",
      "y_true  (8169, 88)\n",
      "[0. 0. 0. 0. 0. 0. 0. 0. 0. 0. 0. 0. 0. 0. 0. 0. 0. 0. 0. 0. 0. 0. 0. 0.\n",
      " 0. 0. 0. 0. 0. 0. 0. 0. 0. 0. 0. 0. 0. 0. 0. 0. 0. 0. 0. 0. 0. 0. 0. 0.\n",
      " 0. 0. 0. 0. 0. 0. 0. 0. 0. 0. 0. 0. 0. 0. 0. 0. 0. 0. 0. 0. 0. 0. 0. 0.\n",
      " 0. 0. 0. 0. 0. 0. 0. 0. 0. 0. 0. 0. 0. 0. 0. 0.]\n",
      "y_pred  (8169,)\n",
      "[39 39 39 ... 41 41 27]\n",
      "y_true  (8169, 88)\n",
      "[0. 0. 0. 0. 0. 0. 0. 0. 0. 0. 0. 0. 0. 0. 0. 0. 0. 0. 0. 0. 0. 0. 0. 0.\n",
      " 0. 0. 0. 0. 0. 1. 0. 0. 0. 0. 0. 0. 1. 0. 0. 1. 0. 0. 0. 0. 0. 1. 0. 0.\n",
      " 0. 0. 0. 0. 0. 1. 0. 0. 0. 0. 0. 0. 0. 0. 0. 0. 0. 0. 0. 0. 0. 0. 0. 0.\n",
      " 0. 0. 0. 0. 0. 0. 0. 0. 0. 0. 0. 0. 0. 0. 0. 0.]\n",
      "y_pred  (8169,)\n",
      "[46 46 46 ... 44 44 44]\n",
      "y_true  (8168, 88)\n",
      "[0. 0. 0. 0. 0. 0. 0. 0. 0. 0. 0. 0. 0. 0. 0. 0. 0. 0. 0. 0. 0. 0. 0. 0.\n",
      " 0. 0. 0. 0. 0. 0. 0. 0. 1. 0. 0. 0. 0. 0. 0. 0. 0. 0. 0. 0. 0. 0. 0. 0.\n",
      " 1. 0. 0. 0. 0. 0. 0. 1. 0. 0. 0. 0. 0. 0. 0. 0. 0. 0. 0. 0. 0. 0. 0. 0.\n",
      " 0. 0. 0. 0. 0. 0. 0. 0. 0. 0. 0. 0. 0. 0. 0. 0.]\n",
      "y_pred  (8168,)\n",
      "[41 41 41 ... 46 46 46]\n",
      "------------------------------------------------------------\n",
      "grid search complete\n"
     ]
    }
   ],
   "source": [
    "# Import KerasClassifier from keras wrappers\n",
    "from keras.wrappers.scikit_learn import KerasClassifier # wrapper for NN \n",
    "from sklearn.model_selection import RandomizedSearchCV # randomized grid search\n",
    "from sklearn.model_selection import KFold # cross fold validations\n",
    "from sklearn.metrics import make_scorer,accuracy_score, roc_auc_score\n",
    "\n",
    "# Create a KerasClassifier\n",
    "model = KerasClassifier(build_fn=create_model)\n",
    "\n",
    "# Define the parameters to try out\n",
    "params = {'lr' : [0.001, 0.005], \n",
    "          'act':['selu', 'relu','tanh'], \n",
    "          'batch_size':[50,100,200], \n",
    "          'layers' : [2,3,4],\n",
    "          'nn' : [128,256],\n",
    "          'drop': [0, 0.1,0.2]\n",
    "}\n",
    "\n",
    "# Create a randomize search cv object and fit it on the data to obtain the results\n",
    "n_iter =  1 # number of combinations to try\n",
    "\n",
    "scoring = {'f1': f1}\n",
    "\n",
    "random_search = RandomizedSearchCV(model, param_distributions=params, \n",
    "                                   cv=KFold(3), n_iter=n_iter, scoring=scoring, refit='f1')\n",
    "\n",
    "print('performing hyperparameter grid search')\n",
    "print('-'*60)\n",
    "\n",
    "# fit the RandomizedSearchCV object\n",
    "# investigating other params so epochs is not the main concern\n",
    "epochs = 1\n",
    "results = random_search.fit(X,y,verbose=0, epochs=epochs)\n",
    "print('-'*60)\n",
    "print('grid search complete')"
   ]
  },
  {
   "cell_type": "code",
   "execution_count": 286,
   "metadata": {},
   "outputs": [
    {
     "name": "stdout",
     "output_type": "stream",
     "text": [
      "Best: nan using {'nn': 256, 'lr': 0.001, 'layers': 4, 'drop': 0.1, 'batch_size': 200, 'act': 'selu'}\n"
     ]
    }
   ],
   "source": [
    "# print the results \n",
    "print('Best: {} using {}'.format(results.best_score_,\n",
    "                                 results.best_params_))"
   ]
  },
  {
   "cell_type": "code",
   "execution_count": 287,
   "metadata": {},
   "outputs": [
    {
     "ename": "KeyError",
     "evalue": "\"['rank_test_score', 'mean_test_score'] not in index\"",
     "output_type": "error",
     "traceback": [
      "\u001b[1;31m---------------------------------------------------------------------------\u001b[0m",
      "\u001b[1;31mKeyError\u001b[0m                                  Traceback (most recent call last)",
      "\u001b[1;32m<ipython-input-287-8a4f86c7e1a1>\u001b[0m in \u001b[0;36m<module>\u001b[1;34m\u001b[0m\n\u001b[0;32m      2\u001b[0m \u001b[0mdf_results\u001b[0m \u001b[1;33m=\u001b[0m \u001b[0mpd\u001b[0m\u001b[1;33m.\u001b[0m\u001b[0mDataFrame\u001b[0m\u001b[1;33m(\u001b[0m\u001b[0mresults\u001b[0m\u001b[1;33m.\u001b[0m\u001b[0mcv_results_\u001b[0m\u001b[1;33m)\u001b[0m\u001b[1;33m\u001b[0m\u001b[1;33m\u001b[0m\u001b[0m\n\u001b[0;32m      3\u001b[0m df_results_concise = df_results[['rank_test_score','mean_test_score',\n\u001b[1;32m----> 4\u001b[1;33m                                  'param_nn', 'param_lr', 'param_layers', 'param_drop','param_batch_size', 'param_act']].sort_values(by='rank_test_score')\n\u001b[0m\u001b[0;32m      5\u001b[0m \u001b[0mdf_results_concise\u001b[0m\u001b[1;33m\u001b[0m\u001b[1;33m\u001b[0m\u001b[0m\n",
      "\u001b[1;32m~\\anaconda3\\envs\\ignetik-thesis\\lib\\site-packages\\pandas\\core\\frame.py\u001b[0m in \u001b[0;36m__getitem__\u001b[1;34m(self, key)\u001b[0m\n\u001b[0;32m   2804\u001b[0m             \u001b[1;32mif\u001b[0m \u001b[0mis_iterator\u001b[0m\u001b[1;33m(\u001b[0m\u001b[0mkey\u001b[0m\u001b[1;33m)\u001b[0m\u001b[1;33m:\u001b[0m\u001b[1;33m\u001b[0m\u001b[1;33m\u001b[0m\u001b[0m\n\u001b[0;32m   2805\u001b[0m                 \u001b[0mkey\u001b[0m \u001b[1;33m=\u001b[0m \u001b[0mlist\u001b[0m\u001b[1;33m(\u001b[0m\u001b[0mkey\u001b[0m\u001b[1;33m)\u001b[0m\u001b[1;33m\u001b[0m\u001b[1;33m\u001b[0m\u001b[0m\n\u001b[1;32m-> 2806\u001b[1;33m             \u001b[0mindexer\u001b[0m \u001b[1;33m=\u001b[0m \u001b[0mself\u001b[0m\u001b[1;33m.\u001b[0m\u001b[0mloc\u001b[0m\u001b[1;33m.\u001b[0m\u001b[0m_get_listlike_indexer\u001b[0m\u001b[1;33m(\u001b[0m\u001b[0mkey\u001b[0m\u001b[1;33m,\u001b[0m \u001b[0maxis\u001b[0m\u001b[1;33m=\u001b[0m\u001b[1;36m1\u001b[0m\u001b[1;33m,\u001b[0m \u001b[0mraise_missing\u001b[0m\u001b[1;33m=\u001b[0m\u001b[1;32mTrue\u001b[0m\u001b[1;33m)\u001b[0m\u001b[1;33m[\u001b[0m\u001b[1;36m1\u001b[0m\u001b[1;33m]\u001b[0m\u001b[1;33m\u001b[0m\u001b[1;33m\u001b[0m\u001b[0m\n\u001b[0m\u001b[0;32m   2807\u001b[0m \u001b[1;33m\u001b[0m\u001b[0m\n\u001b[0;32m   2808\u001b[0m         \u001b[1;31m# take() does not accept boolean indexers\u001b[0m\u001b[1;33m\u001b[0m\u001b[1;33m\u001b[0m\u001b[1;33m\u001b[0m\u001b[0m\n",
      "\u001b[1;32m~\\anaconda3\\envs\\ignetik-thesis\\lib\\site-packages\\pandas\\core\\indexing.py\u001b[0m in \u001b[0;36m_get_listlike_indexer\u001b[1;34m(self, key, axis, raise_missing)\u001b[0m\n\u001b[0;32m   1551\u001b[0m \u001b[1;33m\u001b[0m\u001b[0m\n\u001b[0;32m   1552\u001b[0m         self._validate_read_indexer(\n\u001b[1;32m-> 1553\u001b[1;33m             \u001b[0mkeyarr\u001b[0m\u001b[1;33m,\u001b[0m \u001b[0mindexer\u001b[0m\u001b[1;33m,\u001b[0m \u001b[0mo\u001b[0m\u001b[1;33m.\u001b[0m\u001b[0m_get_axis_number\u001b[0m\u001b[1;33m(\u001b[0m\u001b[0maxis\u001b[0m\u001b[1;33m)\u001b[0m\u001b[1;33m,\u001b[0m \u001b[0mraise_missing\u001b[0m\u001b[1;33m=\u001b[0m\u001b[0mraise_missing\u001b[0m\u001b[1;33m\u001b[0m\u001b[1;33m\u001b[0m\u001b[0m\n\u001b[0m\u001b[0;32m   1554\u001b[0m         )\n\u001b[0;32m   1555\u001b[0m         \u001b[1;32mreturn\u001b[0m \u001b[0mkeyarr\u001b[0m\u001b[1;33m,\u001b[0m \u001b[0mindexer\u001b[0m\u001b[1;33m\u001b[0m\u001b[1;33m\u001b[0m\u001b[0m\n",
      "\u001b[1;32m~\\anaconda3\\envs\\ignetik-thesis\\lib\\site-packages\\pandas\\core\\indexing.py\u001b[0m in \u001b[0;36m_validate_read_indexer\u001b[1;34m(self, key, indexer, axis, raise_missing)\u001b[0m\n\u001b[0;32m   1644\u001b[0m             \u001b[1;32mif\u001b[0m \u001b[1;32mnot\u001b[0m \u001b[1;33m(\u001b[0m\u001b[0mself\u001b[0m\u001b[1;33m.\u001b[0m\u001b[0mname\u001b[0m \u001b[1;33m==\u001b[0m \u001b[1;34m\"loc\"\u001b[0m \u001b[1;32mand\u001b[0m \u001b[1;32mnot\u001b[0m \u001b[0mraise_missing\u001b[0m\u001b[1;33m)\u001b[0m\u001b[1;33m:\u001b[0m\u001b[1;33m\u001b[0m\u001b[1;33m\u001b[0m\u001b[0m\n\u001b[0;32m   1645\u001b[0m                 \u001b[0mnot_found\u001b[0m \u001b[1;33m=\u001b[0m \u001b[0mlist\u001b[0m\u001b[1;33m(\u001b[0m\u001b[0mset\u001b[0m\u001b[1;33m(\u001b[0m\u001b[0mkey\u001b[0m\u001b[1;33m)\u001b[0m \u001b[1;33m-\u001b[0m \u001b[0mset\u001b[0m\u001b[1;33m(\u001b[0m\u001b[0max\u001b[0m\u001b[1;33m)\u001b[0m\u001b[1;33m)\u001b[0m\u001b[1;33m\u001b[0m\u001b[1;33m\u001b[0m\u001b[0m\n\u001b[1;32m-> 1646\u001b[1;33m                 \u001b[1;32mraise\u001b[0m \u001b[0mKeyError\u001b[0m\u001b[1;33m(\u001b[0m\u001b[1;34mf\"{not_found} not in index\"\u001b[0m\u001b[1;33m)\u001b[0m\u001b[1;33m\u001b[0m\u001b[1;33m\u001b[0m\u001b[0m\n\u001b[0m\u001b[0;32m   1647\u001b[0m \u001b[1;33m\u001b[0m\u001b[0m\n\u001b[0;32m   1648\u001b[0m             \u001b[1;31m# we skip the warning on Categorical/Interval\u001b[0m\u001b[1;33m\u001b[0m\u001b[1;33m\u001b[0m\u001b[1;33m\u001b[0m\u001b[0m\n",
      "\u001b[1;31mKeyError\u001b[0m: \"['rank_test_score', 'mean_test_score'] not in index\""
     ]
    }
   ],
   "source": [
    "# display output of grid search in a dataframe \n",
    "df_results = pd.DataFrame(results.cv_results_)\n",
    "df_results_concise = df_results[['rank_test_score','mean_test_score',\n",
    "                                 'param_nn', 'param_lr', 'param_layers', 'param_drop','param_batch_size', 'param_act']].sort_values(by='rank_test_score')\n",
    "df_results_concise"
   ]
  },
  {
   "cell_type": "code",
   "execution_count": 150,
   "metadata": {},
   "outputs": [
    {
     "data": {
      "text/plain": [
       "rank_test_score             1\n",
       "mean_test_score     0.0476609\n",
       "param_nn                  256\n",
       "param_lr                0.001\n",
       "param_layers                2\n",
       "param_drop                0.1\n",
       "param_batch_size          100\n",
       "param_act                tanh\n",
       "Name: 0, dtype: object"
      ]
     },
     "execution_count": 150,
     "metadata": {},
     "output_type": "execute_result"
    }
   ],
   "source": [
    "best_parameters = df_results_concise.iloc[0,:]\n",
    "best_parameters"
   ]
  }
 ],
 "metadata": {
  "kernelspec": {
   "display_name": "Python 3",
   "language": "python",
   "name": "python3"
  },
  "language_info": {
   "codemirror_mode": {
    "name": "ipython",
    "version": 3
   },
   "file_extension": ".py",
   "mimetype": "text/x-python",
   "name": "python",
   "nbconvert_exporter": "python",
   "pygments_lexer": "ipython3",
   "version": "3.7.7"
  }
 },
 "nbformat": 4,
 "nbformat_minor": 4
}
